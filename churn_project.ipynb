{
  "cells": [
    {
      "cell_type": "markdown",
      "metadata": {
        "toc": true,
        "id": "90vMBIZQUZaQ"
      },
      "source": [
        "<h1>Содержание<span class=\"tocSkip\"></span></h1>\n",
        "<div class=\"toc\"><ul class=\"toc-item\"><li><span><a href=\"#Подготовка-данных\" data-toc-modified-id=\"Подготовка-данных-1\"><span class=\"toc-item-num\">1&nbsp;&nbsp;</span>Подготовка данных</a></span><ul class=\"toc-item\"><li><span><a href=\"#Загрузка-данных\" data-toc-modified-id=\"Загрузка-данных-1.1\"><span class=\"toc-item-num\">1.1&nbsp;&nbsp;</span>Загрузка данных</a></span></li><li><span><a href=\"#Предобработка-данных\" data-toc-modified-id=\"Предобработка-данных-1.2\"><span class=\"toc-item-num\">1.2&nbsp;&nbsp;</span>Предобработка данных</a></span></li><li><span><a href=\"#Подготовка-признаков\" data-toc-modified-id=\"Подготовка-признаков-1.3\"><span class=\"toc-item-num\">1.3&nbsp;&nbsp;</span>Подготовка признаков</a></span></li></ul></li><li><span><a href=\"#Исследование-задачи\" data-toc-modified-id=\"Исследование-задачи-2\"><span class=\"toc-item-num\">2&nbsp;&nbsp;</span>Исследование задачи</a></span><ul class=\"toc-item\"><li><span><a href=\"#Изучение-баланса-классов\" data-toc-modified-id=\"Изучение-баланса-классов-2.1\"><span class=\"toc-item-num\">2.1&nbsp;&nbsp;</span>Изучение баланса классов</a></span></li><li><span><a href=\"#Обучение-модели-без-учёта-дисбаланса\" data-toc-modified-id=\"Обучение-модели-без-учёта-дисбаланса-2.2\"><span class=\"toc-item-num\">2.2&nbsp;&nbsp;</span>Обучение модели без учёта дисбаланса</a></span><ul class=\"toc-item\"><li><span><a href=\"#Логистическая-Регрессия\" data-toc-modified-id=\"Логистическая-Регрессия-2.2.1\"><span class=\"toc-item-num\">2.2.1&nbsp;&nbsp;</span>Логистическая Регрессия</a></span></li><li><span><a href=\"#Дерево-решений\" data-toc-modified-id=\"Дерево-решений-2.2.2\"><span class=\"toc-item-num\">2.2.2&nbsp;&nbsp;</span>Дерево решений</a></span></li><li><span><a href=\"#Случайный-лес\" data-toc-modified-id=\"Случайный-лес-2.2.3\"><span class=\"toc-item-num\">2.2.3&nbsp;&nbsp;</span>Случайный лес</a></span></li></ul></li></ul></li><li><span><a href=\"#Борьба-с-дисбалансом\" data-toc-modified-id=\"Борьба-с-дисбалансом-3\"><span class=\"toc-item-num\">3&nbsp;&nbsp;</span>Борьба с дисбалансом</a></span><ul class=\"toc-item\"><li><span><a href=\"#Уменьшение-обучающей-выборки\" data-toc-modified-id=\"Уменьшение-обучающей-выборки-3.1\"><span class=\"toc-item-num\">3.1&nbsp;&nbsp;</span>Уменьшение обучающей выборки</a></span><ul class=\"toc-item\"><li><span><a href=\"#Логистическая-Регрессия\" data-toc-modified-id=\"Логистическая-Регрессия-3.1.1\"><span class=\"toc-item-num\">3.1.1&nbsp;&nbsp;</span>Логистическая Регрессия</a></span></li><li><span><a href=\"#Дерево-решений\" data-toc-modified-id=\"Дерево-решений-3.1.2\"><span class=\"toc-item-num\">3.1.2&nbsp;&nbsp;</span>Дерево решений</a></span></li><li><span><a href=\"#Случайный-лес\" data-toc-modified-id=\"Случайный-лес-3.1.3\"><span class=\"toc-item-num\">3.1.3&nbsp;&nbsp;</span>Случайный лес</a></span></li></ul></li><li><span><a href=\"#Поиск-лучшей-модели\" data-toc-modified-id=\"Поиск-лучшей-модели-3.2\"><span class=\"toc-item-num\">3.2&nbsp;&nbsp;</span>Поиск лучшей модели</a></span><ul class=\"toc-item\"><li><span><a href=\"#Логистическая-Регрессия\" data-toc-modified-id=\"Логистическая-Регрессия-3.2.1\"><span class=\"toc-item-num\">3.2.1&nbsp;&nbsp;</span>Логистическая Регрессия</a></span></li><li><span><a href=\"#Дерево-решений\" data-toc-modified-id=\"Дерево-решений-3.2.2\"><span class=\"toc-item-num\">3.2.2&nbsp;&nbsp;</span>Дерево решений</a></span></li><li><span><a href=\"#Случайный-лес\" data-toc-modified-id=\"Случайный-лес-3.2.3\"><span class=\"toc-item-num\">3.2.3&nbsp;&nbsp;</span>Случайный лес</a></span></li></ul></li></ul></li><li><span><a href=\"#Тестирование-модели\" data-toc-modified-id=\"Тестирование-модели-4\"><span class=\"toc-item-num\">4&nbsp;&nbsp;</span>Тестирование модели</a></span></li><li><span><a href=\"#Чек-лист-готовности-проекта\" data-toc-modified-id=\"Чек-лист-готовности-проекта-5\"><span class=\"toc-item-num\">5&nbsp;&nbsp;</span>Чек-лист готовности проекта</a></span></li></ul></div>"
      ]
    },
    {
      "cell_type": "markdown",
      "metadata": {
        "id": "bY80EjxYUZaR"
      },
      "source": [
        "# Проект: Отток клиентов"
      ]
    },
    {
      "cell_type": "code",
      "execution_count": 1,
      "metadata": {
        "colab": {
          "base_uri": "https://localhost:8080/"
        },
        "id": "ssLBXK-0UZaT",
        "outputId": "936ac46f-b20e-44ca-98d8-85958f62a892"
      },
      "outputs": [
        {
          "output_type": "stream",
          "name": "stdout",
          "text": [
            "Requirement already satisfied: scikit-learn==1.1.3 in /usr/local/lib/python3.10/dist-packages (1.1.3)\n",
            "Requirement already satisfied: numpy>=1.17.3 in /usr/local/lib/python3.10/dist-packages (from scikit-learn==1.1.3) (1.23.5)\n",
            "Requirement already satisfied: scipy>=1.3.2 in /usr/local/lib/python3.10/dist-packages (from scikit-learn==1.1.3) (1.10.1)\n",
            "Requirement already satisfied: joblib>=1.0.0 in /usr/local/lib/python3.10/dist-packages (from scikit-learn==1.1.3) (1.3.2)\n",
            "Requirement already satisfied: threadpoolctl>=2.0.0 in /usr/local/lib/python3.10/dist-packages (from scikit-learn==1.1.3) (3.2.0)\n"
          ]
        }
      ],
      "source": [
        "!pip install scikit-learn==1.1.3"
      ]
    },
    {
      "cell_type": "code",
      "execution_count": 2,
      "metadata": {
        "id": "__AhjVrCUZaV"
      },
      "outputs": [],
      "source": [
        "import pandas as pd\n",
        "import numpy as np\n",
        "import seaborn as sns\n",
        "import matplotlib.pyplot as plt\n",
        "from sklearn.metrics import accuracy_score, f1_score, roc_auc_score, roc_curve\n",
        "from sklearn.preprocessing import OneHotEncoder, StandardScaler\n",
        "from sklearn.model_selection import train_test_split\n",
        "from sklearn.utils import shuffle\n",
        "from sklearn.model_selection import GridSearchCV\n",
        "from sklearn.tree import DecisionTreeClassifier\n",
        "from sklearn.ensemble import RandomForestClassifier\n",
        "from sklearn.linear_model import LogisticRegression"
      ]
    },
    {
      "cell_type": "markdown",
      "metadata": {
        "id": "CBMskvliUZaV"
      },
      "source": [
        "## Подготовка данных"
      ]
    },
    {
      "cell_type": "markdown",
      "metadata": {
        "id": "EZipO-t6UZaW"
      },
      "source": [
        "### Загрузка данных"
      ]
    },
    {
      "cell_type": "code",
      "execution_count": 3,
      "metadata": {
        "id": "X5iFeZI5UZaW"
      },
      "outputs": [],
      "source": [
        "df = pd.read_csv('./datasets/Churn.csv')"
      ]
    },
    {
      "cell_type": "code",
      "execution_count": 4,
      "metadata": {
        "colab": {
          "base_uri": "https://localhost:8080/",
          "height": 206
        },
        "id": "3gUcgbZnUZaW",
        "outputId": "5596cf39-7e8f-4758-98cc-0059a208ab71"
      },
      "outputs": [
        {
          "output_type": "execute_result",
          "data": {
            "text/plain": [
              "   RowNumber  CustomerId   Surname  CreditScore Geography  Gender  Age  \\\n",
              "0          1    15634602  Hargrave          619    France  Female   42   \n",
              "1          2    15647311      Hill          608     Spain  Female   41   \n",
              "2          3    15619304      Onio          502    France  Female   42   \n",
              "3          4    15701354      Boni          699    France  Female   39   \n",
              "4          5    15737888  Mitchell          850     Spain  Female   43   \n",
              "\n",
              "   Tenure    Balance  NumOfProducts  HasCrCard  IsActiveMember  \\\n",
              "0     2.0       0.00              1          1               1   \n",
              "1     1.0   83807.86              1          0               1   \n",
              "2     8.0  159660.80              3          1               0   \n",
              "3     1.0       0.00              2          0               0   \n",
              "4     2.0  125510.82              1          1               1   \n",
              "\n",
              "   EstimatedSalary  Exited  \n",
              "0        101348.88       1  \n",
              "1        112542.58       0  \n",
              "2        113931.57       1  \n",
              "3         93826.63       0  \n",
              "4         79084.10       0  "
            ],
            "text/html": [
              "\n",
              "  <div id=\"df-6f396a03-52a5-4196-8acb-4a56b72e1ac9\" class=\"colab-df-container\">\n",
              "    <div>\n",
              "<style scoped>\n",
              "    .dataframe tbody tr th:only-of-type {\n",
              "        vertical-align: middle;\n",
              "    }\n",
              "\n",
              "    .dataframe tbody tr th {\n",
              "        vertical-align: top;\n",
              "    }\n",
              "\n",
              "    .dataframe thead th {\n",
              "        text-align: right;\n",
              "    }\n",
              "</style>\n",
              "<table border=\"1\" class=\"dataframe\">\n",
              "  <thead>\n",
              "    <tr style=\"text-align: right;\">\n",
              "      <th></th>\n",
              "      <th>RowNumber</th>\n",
              "      <th>CustomerId</th>\n",
              "      <th>Surname</th>\n",
              "      <th>CreditScore</th>\n",
              "      <th>Geography</th>\n",
              "      <th>Gender</th>\n",
              "      <th>Age</th>\n",
              "      <th>Tenure</th>\n",
              "      <th>Balance</th>\n",
              "      <th>NumOfProducts</th>\n",
              "      <th>HasCrCard</th>\n",
              "      <th>IsActiveMember</th>\n",
              "      <th>EstimatedSalary</th>\n",
              "      <th>Exited</th>\n",
              "    </tr>\n",
              "  </thead>\n",
              "  <tbody>\n",
              "    <tr>\n",
              "      <th>0</th>\n",
              "      <td>1</td>\n",
              "      <td>15634602</td>\n",
              "      <td>Hargrave</td>\n",
              "      <td>619</td>\n",
              "      <td>France</td>\n",
              "      <td>Female</td>\n",
              "      <td>42</td>\n",
              "      <td>2.0</td>\n",
              "      <td>0.00</td>\n",
              "      <td>1</td>\n",
              "      <td>1</td>\n",
              "      <td>1</td>\n",
              "      <td>101348.88</td>\n",
              "      <td>1</td>\n",
              "    </tr>\n",
              "    <tr>\n",
              "      <th>1</th>\n",
              "      <td>2</td>\n",
              "      <td>15647311</td>\n",
              "      <td>Hill</td>\n",
              "      <td>608</td>\n",
              "      <td>Spain</td>\n",
              "      <td>Female</td>\n",
              "      <td>41</td>\n",
              "      <td>1.0</td>\n",
              "      <td>83807.86</td>\n",
              "      <td>1</td>\n",
              "      <td>0</td>\n",
              "      <td>1</td>\n",
              "      <td>112542.58</td>\n",
              "      <td>0</td>\n",
              "    </tr>\n",
              "    <tr>\n",
              "      <th>2</th>\n",
              "      <td>3</td>\n",
              "      <td>15619304</td>\n",
              "      <td>Onio</td>\n",
              "      <td>502</td>\n",
              "      <td>France</td>\n",
              "      <td>Female</td>\n",
              "      <td>42</td>\n",
              "      <td>8.0</td>\n",
              "      <td>159660.80</td>\n",
              "      <td>3</td>\n",
              "      <td>1</td>\n",
              "      <td>0</td>\n",
              "      <td>113931.57</td>\n",
              "      <td>1</td>\n",
              "    </tr>\n",
              "    <tr>\n",
              "      <th>3</th>\n",
              "      <td>4</td>\n",
              "      <td>15701354</td>\n",
              "      <td>Boni</td>\n",
              "      <td>699</td>\n",
              "      <td>France</td>\n",
              "      <td>Female</td>\n",
              "      <td>39</td>\n",
              "      <td>1.0</td>\n",
              "      <td>0.00</td>\n",
              "      <td>2</td>\n",
              "      <td>0</td>\n",
              "      <td>0</td>\n",
              "      <td>93826.63</td>\n",
              "      <td>0</td>\n",
              "    </tr>\n",
              "    <tr>\n",
              "      <th>4</th>\n",
              "      <td>5</td>\n",
              "      <td>15737888</td>\n",
              "      <td>Mitchell</td>\n",
              "      <td>850</td>\n",
              "      <td>Spain</td>\n",
              "      <td>Female</td>\n",
              "      <td>43</td>\n",
              "      <td>2.0</td>\n",
              "      <td>125510.82</td>\n",
              "      <td>1</td>\n",
              "      <td>1</td>\n",
              "      <td>1</td>\n",
              "      <td>79084.10</td>\n",
              "      <td>0</td>\n",
              "    </tr>\n",
              "  </tbody>\n",
              "</table>\n",
              "</div>\n",
              "    <div class=\"colab-df-buttons\">\n",
              "\n",
              "  <div class=\"colab-df-container\">\n",
              "    <button class=\"colab-df-convert\" onclick=\"convertToInteractive('df-6f396a03-52a5-4196-8acb-4a56b72e1ac9')\"\n",
              "            title=\"Convert this dataframe to an interactive table.\"\n",
              "            style=\"display:none;\">\n",
              "\n",
              "  <svg xmlns=\"http://www.w3.org/2000/svg\" height=\"24px\" viewBox=\"0 -960 960 960\">\n",
              "    <path d=\"M120-120v-720h720v720H120Zm60-500h600v-160H180v160Zm220 220h160v-160H400v160Zm0 220h160v-160H400v160ZM180-400h160v-160H180v160Zm440 0h160v-160H620v160ZM180-180h160v-160H180v160Zm440 0h160v-160H620v160Z\"/>\n",
              "  </svg>\n",
              "    </button>\n",
              "\n",
              "  <style>\n",
              "    .colab-df-container {\n",
              "      display:flex;\n",
              "      gap: 12px;\n",
              "    }\n",
              "\n",
              "    .colab-df-convert {\n",
              "      background-color: #E8F0FE;\n",
              "      border: none;\n",
              "      border-radius: 50%;\n",
              "      cursor: pointer;\n",
              "      display: none;\n",
              "      fill: #1967D2;\n",
              "      height: 32px;\n",
              "      padding: 0 0 0 0;\n",
              "      width: 32px;\n",
              "    }\n",
              "\n",
              "    .colab-df-convert:hover {\n",
              "      background-color: #E2EBFA;\n",
              "      box-shadow: 0px 1px 2px rgba(60, 64, 67, 0.3), 0px 1px 3px 1px rgba(60, 64, 67, 0.15);\n",
              "      fill: #174EA6;\n",
              "    }\n",
              "\n",
              "    .colab-df-buttons div {\n",
              "      margin-bottom: 4px;\n",
              "    }\n",
              "\n",
              "    [theme=dark] .colab-df-convert {\n",
              "      background-color: #3B4455;\n",
              "      fill: #D2E3FC;\n",
              "    }\n",
              "\n",
              "    [theme=dark] .colab-df-convert:hover {\n",
              "      background-color: #434B5C;\n",
              "      box-shadow: 0px 1px 3px 1px rgba(0, 0, 0, 0.15);\n",
              "      filter: drop-shadow(0px 1px 2px rgba(0, 0, 0, 0.3));\n",
              "      fill: #FFFFFF;\n",
              "    }\n",
              "  </style>\n",
              "\n",
              "    <script>\n",
              "      const buttonEl =\n",
              "        document.querySelector('#df-6f396a03-52a5-4196-8acb-4a56b72e1ac9 button.colab-df-convert');\n",
              "      buttonEl.style.display =\n",
              "        google.colab.kernel.accessAllowed ? 'block' : 'none';\n",
              "\n",
              "      async function convertToInteractive(key) {\n",
              "        const element = document.querySelector('#df-6f396a03-52a5-4196-8acb-4a56b72e1ac9');\n",
              "        const dataTable =\n",
              "          await google.colab.kernel.invokeFunction('convertToInteractive',\n",
              "                                                    [key], {});\n",
              "        if (!dataTable) return;\n",
              "\n",
              "        const docLinkHtml = 'Like what you see? Visit the ' +\n",
              "          '<a target=\"_blank\" href=https://colab.research.google.com/notebooks/data_table.ipynb>data table notebook</a>'\n",
              "          + ' to learn more about interactive tables.';\n",
              "        element.innerHTML = '';\n",
              "        dataTable['output_type'] = 'display_data';\n",
              "        await google.colab.output.renderOutput(dataTable, element);\n",
              "        const docLink = document.createElement('div');\n",
              "        docLink.innerHTML = docLinkHtml;\n",
              "        element.appendChild(docLink);\n",
              "      }\n",
              "    </script>\n",
              "  </div>\n",
              "\n",
              "\n",
              "<div id=\"df-15178fd5-42ef-4697-8908-32b102893b64\">\n",
              "  <button class=\"colab-df-quickchart\" onclick=\"quickchart('df-15178fd5-42ef-4697-8908-32b102893b64')\"\n",
              "            title=\"Suggest charts.\"\n",
              "            style=\"display:none;\">\n",
              "\n",
              "<svg xmlns=\"http://www.w3.org/2000/svg\" height=\"24px\"viewBox=\"0 0 24 24\"\n",
              "     width=\"24px\">\n",
              "    <g>\n",
              "        <path d=\"M19 3H5c-1.1 0-2 .9-2 2v14c0 1.1.9 2 2 2h14c1.1 0 2-.9 2-2V5c0-1.1-.9-2-2-2zM9 17H7v-7h2v7zm4 0h-2V7h2v10zm4 0h-2v-4h2v4z\"/>\n",
              "    </g>\n",
              "</svg>\n",
              "  </button>\n",
              "\n",
              "<style>\n",
              "  .colab-df-quickchart {\n",
              "      --bg-color: #E8F0FE;\n",
              "      --fill-color: #1967D2;\n",
              "      --hover-bg-color: #E2EBFA;\n",
              "      --hover-fill-color: #174EA6;\n",
              "      --disabled-fill-color: #AAA;\n",
              "      --disabled-bg-color: #DDD;\n",
              "  }\n",
              "\n",
              "  [theme=dark] .colab-df-quickchart {\n",
              "      --bg-color: #3B4455;\n",
              "      --fill-color: #D2E3FC;\n",
              "      --hover-bg-color: #434B5C;\n",
              "      --hover-fill-color: #FFFFFF;\n",
              "      --disabled-bg-color: #3B4455;\n",
              "      --disabled-fill-color: #666;\n",
              "  }\n",
              "\n",
              "  .colab-df-quickchart {\n",
              "    background-color: var(--bg-color);\n",
              "    border: none;\n",
              "    border-radius: 50%;\n",
              "    cursor: pointer;\n",
              "    display: none;\n",
              "    fill: var(--fill-color);\n",
              "    height: 32px;\n",
              "    padding: 0;\n",
              "    width: 32px;\n",
              "  }\n",
              "\n",
              "  .colab-df-quickchart:hover {\n",
              "    background-color: var(--hover-bg-color);\n",
              "    box-shadow: 0 1px 2px rgba(60, 64, 67, 0.3), 0 1px 3px 1px rgba(60, 64, 67, 0.15);\n",
              "    fill: var(--button-hover-fill-color);\n",
              "  }\n",
              "\n",
              "  .colab-df-quickchart-complete:disabled,\n",
              "  .colab-df-quickchart-complete:disabled:hover {\n",
              "    background-color: var(--disabled-bg-color);\n",
              "    fill: var(--disabled-fill-color);\n",
              "    box-shadow: none;\n",
              "  }\n",
              "\n",
              "  .colab-df-spinner {\n",
              "    border: 2px solid var(--fill-color);\n",
              "    border-color: transparent;\n",
              "    border-bottom-color: var(--fill-color);\n",
              "    animation:\n",
              "      spin 1s steps(1) infinite;\n",
              "  }\n",
              "\n",
              "  @keyframes spin {\n",
              "    0% {\n",
              "      border-color: transparent;\n",
              "      border-bottom-color: var(--fill-color);\n",
              "      border-left-color: var(--fill-color);\n",
              "    }\n",
              "    20% {\n",
              "      border-color: transparent;\n",
              "      border-left-color: var(--fill-color);\n",
              "      border-top-color: var(--fill-color);\n",
              "    }\n",
              "    30% {\n",
              "      border-color: transparent;\n",
              "      border-left-color: var(--fill-color);\n",
              "      border-top-color: var(--fill-color);\n",
              "      border-right-color: var(--fill-color);\n",
              "    }\n",
              "    40% {\n",
              "      border-color: transparent;\n",
              "      border-right-color: var(--fill-color);\n",
              "      border-top-color: var(--fill-color);\n",
              "    }\n",
              "    60% {\n",
              "      border-color: transparent;\n",
              "      border-right-color: var(--fill-color);\n",
              "    }\n",
              "    80% {\n",
              "      border-color: transparent;\n",
              "      border-right-color: var(--fill-color);\n",
              "      border-bottom-color: var(--fill-color);\n",
              "    }\n",
              "    90% {\n",
              "      border-color: transparent;\n",
              "      border-bottom-color: var(--fill-color);\n",
              "    }\n",
              "  }\n",
              "</style>\n",
              "\n",
              "  <script>\n",
              "    async function quickchart(key) {\n",
              "      const quickchartButtonEl =\n",
              "        document.querySelector('#' + key + ' button');\n",
              "      quickchartButtonEl.disabled = true;  // To prevent multiple clicks.\n",
              "      quickchartButtonEl.classList.add('colab-df-spinner');\n",
              "      try {\n",
              "        const charts = await google.colab.kernel.invokeFunction(\n",
              "            'suggestCharts', [key], {});\n",
              "      } catch (error) {\n",
              "        console.error('Error during call to suggestCharts:', error);\n",
              "      }\n",
              "      quickchartButtonEl.classList.remove('colab-df-spinner');\n",
              "      quickchartButtonEl.classList.add('colab-df-quickchart-complete');\n",
              "    }\n",
              "    (() => {\n",
              "      let quickchartButtonEl =\n",
              "        document.querySelector('#df-15178fd5-42ef-4697-8908-32b102893b64 button');\n",
              "      quickchartButtonEl.style.display =\n",
              "        google.colab.kernel.accessAllowed ? 'block' : 'none';\n",
              "    })();\n",
              "  </script>\n",
              "</div>\n",
              "    </div>\n",
              "  </div>\n"
            ]
          },
          "metadata": {},
          "execution_count": 4
        }
      ],
      "source": [
        "df.head()"
      ]
    },
    {
      "cell_type": "code",
      "execution_count": 5,
      "metadata": {
        "scrolled": true,
        "colab": {
          "base_uri": "https://localhost:8080/"
        },
        "id": "_v76_QaEUZaW",
        "outputId": "f1091a73-fb3c-4180-a819-d9835b515fa7"
      },
      "outputs": [
        {
          "output_type": "stream",
          "name": "stdout",
          "text": [
            "<class 'pandas.core.frame.DataFrame'>\n",
            "RangeIndex: 10000 entries, 0 to 9999\n",
            "Data columns (total 14 columns):\n",
            " #   Column           Non-Null Count  Dtype  \n",
            "---  ------           --------------  -----  \n",
            " 0   RowNumber        10000 non-null  int64  \n",
            " 1   CustomerId       10000 non-null  int64  \n",
            " 2   Surname          10000 non-null  object \n",
            " 3   CreditScore      10000 non-null  int64  \n",
            " 4   Geography        10000 non-null  object \n",
            " 5   Gender           10000 non-null  object \n",
            " 6   Age              10000 non-null  int64  \n",
            " 7   Tenure           9091 non-null   float64\n",
            " 8   Balance          10000 non-null  float64\n",
            " 9   NumOfProducts    10000 non-null  int64  \n",
            " 10  HasCrCard        10000 non-null  int64  \n",
            " 11  IsActiveMember   10000 non-null  int64  \n",
            " 12  EstimatedSalary  10000 non-null  float64\n",
            " 13  Exited           10000 non-null  int64  \n",
            "dtypes: float64(3), int64(8), object(3)\n",
            "memory usage: 1.1+ MB\n"
          ]
        }
      ],
      "source": [
        "df.info()"
      ]
    },
    {
      "cell_type": "markdown",
      "metadata": {
        "id": "ogypp401UZaW"
      },
      "source": [
        "Как можно заметить, мы имеем дело с датасетом, состоящим из 10000 записей, то есть в данных содержится информация о 10000 клиентах банка."
      ]
    },
    {
      "cell_type": "markdown",
      "metadata": {
        "id": "LpxazqWyUZaX"
      },
      "source": [
        "### Предобработка данных"
      ]
    },
    {
      "cell_type": "markdown",
      "metadata": {
        "id": "cxku5Jr4UZaX"
      },
      "source": [
        "Во-первых, рассмотрим датасет на **наличие пропущенных значений**:"
      ]
    },
    {
      "cell_type": "code",
      "execution_count": 6,
      "metadata": {
        "colab": {
          "base_uri": "https://localhost:8080/"
        },
        "id": "0zmQS2aJUZaX",
        "outputId": "06311c02-4ad8-46a2-91e7-ac6c3b2a1e9f"
      },
      "outputs": [
        {
          "output_type": "execute_result",
          "data": {
            "text/plain": [
              "RowNumber            0\n",
              "CustomerId           0\n",
              "Surname              0\n",
              "CreditScore          0\n",
              "Geography            0\n",
              "Gender               0\n",
              "Age                  0\n",
              "Tenure             909\n",
              "Balance              0\n",
              "NumOfProducts        0\n",
              "HasCrCard            0\n",
              "IsActiveMember       0\n",
              "EstimatedSalary      0\n",
              "Exited               0\n",
              "dtype: int64"
            ]
          },
          "metadata": {},
          "execution_count": 6
        }
      ],
      "source": [
        "df.isna().sum()"
      ]
    },
    {
      "cell_type": "markdown",
      "metadata": {
        "id": "E_Xa1xNVUZaX"
      },
      "source": [
        "Как можно заметить, столбец `Tenure`, показывающий сколько лет человек является клиентом банка, содержит 909 пропусков. Чтобы их обработать, возможно заполнение пропусков медианным значением по данному столбцу:"
      ]
    },
    {
      "cell_type": "code",
      "execution_count": 7,
      "metadata": {
        "id": "uEtNoBd5UZaX"
      },
      "outputs": [],
      "source": [
        "df['Tenure'].fillna(df['Tenure'].median(), inplace=True)"
      ]
    },
    {
      "cell_type": "code",
      "execution_count": 8,
      "metadata": {
        "colab": {
          "base_uri": "https://localhost:8080/"
        },
        "id": "0iu2K3t5UZaX",
        "outputId": "3db7be29-9418-4e17-d26c-63607d4636a1"
      },
      "outputs": [
        {
          "output_type": "execute_result",
          "data": {
            "text/plain": [
              "0"
            ]
          },
          "metadata": {},
          "execution_count": 8
        }
      ],
      "source": [
        "df.isna().sum().sum()"
      ]
    },
    {
      "cell_type": "markdown",
      "metadata": {
        "id": "2y4QhrinUZaY"
      },
      "source": [
        "Далее, проверим датасет на **наличие дубликатов**:"
      ]
    },
    {
      "cell_type": "code",
      "execution_count": 9,
      "metadata": {
        "colab": {
          "base_uri": "https://localhost:8080/"
        },
        "id": "STFWMu6jUZaY",
        "outputId": "c7b876c9-6662-4ca1-cb2f-405459a0f977"
      },
      "outputs": [
        {
          "output_type": "execute_result",
          "data": {
            "text/plain": [
              "0"
            ]
          },
          "metadata": {},
          "execution_count": 9
        }
      ],
      "source": [
        "df.duplicated().sum()"
      ]
    },
    {
      "cell_type": "markdown",
      "metadata": {
        "id": "8f1yVEIoUZaZ"
      },
      "source": [
        "### Подготовка признаков"
      ]
    },
    {
      "cell_type": "markdown",
      "metadata": {
        "id": "bN98bPjGUZaZ"
      },
      "source": [
        "В нашей задаче целевым признаком является признак `Exited` (факт ухода клиента), а предикторами — другие признаки."
      ]
    },
    {
      "cell_type": "code",
      "execution_count": 10,
      "metadata": {
        "id": "AvUaZMQ0UZaZ"
      },
      "outputs": [],
      "source": [
        "X = df.drop('Exited', axis=1)\n",
        "y = df['Exited']"
      ]
    },
    {
      "cell_type": "markdown",
      "metadata": {
        "id": "aBvLHkjrUZae"
      },
      "source": [
        "А теперь разделим данные на обучающую и тестовую выборки в соотношении 3:1."
      ]
    },
    {
      "cell_type": "code",
      "execution_count": 11,
      "metadata": {
        "id": "FumKbMhCUZaf"
      },
      "outputs": [],
      "source": [
        "X_train, X_test, y_train, y_test = train_test_split(\n",
        "    X, y, test_size=0.25, random_state=12345, stratify=y)"
      ]
    },
    {
      "cell_type": "code",
      "execution_count": 12,
      "metadata": {
        "colab": {
          "base_uri": "https://localhost:8080/",
          "height": 52
        },
        "id": "k1eDAgLkUZaf",
        "outputId": "44b0a954-689f-447c-82cf-3a2b9566906d"
      },
      "outputs": [
        {
          "output_type": "display_data",
          "data": {
            "text/plain": [
              "7500"
            ]
          },
          "metadata": {}
        },
        {
          "output_type": "execute_result",
          "data": {
            "text/plain": [
              "2500"
            ]
          },
          "metadata": {},
          "execution_count": 12
        }
      ],
      "source": [
        "display(len(X_train))\n",
        "len(X_test)"
      ]
    },
    {
      "cell_type": "markdown",
      "metadata": {
        "id": "V8fZ22q4UZag"
      },
      "source": [
        "Как можно заметить, все верно."
      ]
    },
    {
      "cell_type": "markdown",
      "metadata": {
        "id": "IBo3JqLEUZag"
      },
      "source": [
        "Как мы уже могли заметить из предыдущих шагов, датасет содержит 3 категориальных признака: `Surname`, `Geography`, и `Gender`. Следует их закодировать, для этого обратимся к прямому кодированию *One-Hot Encoding*:"
      ]
    },
    {
      "cell_type": "code",
      "execution_count": 13,
      "metadata": {
        "id": "Vyin2YTiUZag"
      },
      "outputs": [],
      "source": [
        "def ohe(x, feat_name, encoder):\n",
        "    new_feats = encoder.transform(x[feat_name])\n",
        "    new_cols = pd.DataFrame(new_feats,\n",
        "                  columns=encoder.get_feature_names_out(feat_name))\n",
        "    new_x = pd.concat([x.reset_index(drop=True), new_cols], axis=1)\n",
        "    new_x.drop(feat_name, axis=1, inplace=True)\n",
        "    return new_x"
      ]
    },
    {
      "cell_type": "code",
      "execution_count": 14,
      "metadata": {
        "id": "wOq5eRXUUZag"
      },
      "outputs": [],
      "source": [
        "categorical_features = X_train.select_dtypes(include='object').columns.to_list()\n",
        "num_features = X_train.columns[X_train.dtypes!='object'].to_list()"
      ]
    },
    {
      "cell_type": "code",
      "execution_count": null,
      "metadata": {
        "id": "JWJlOEXDUZah"
      },
      "outputs": [],
      "source": [
        "encoder_ohe = OneHotEncoder(handle_unknown=\"ignore\", drop='first', sparse=False)\n",
        "\n",
        "encoder_ohe.fit(X_train[categorical_features])\n",
        "X_train = ohe(X_train, categorical_features, encoder_ohe)\n",
        "X_test = ohe(X_test, categorical_features, encoder_ohe)"
      ]
    },
    {
      "cell_type": "code",
      "execution_count": 16,
      "metadata": {
        "colab": {
          "base_uri": "https://localhost:8080/",
          "height": 255
        },
        "id": "aahF39_4UZah",
        "outputId": "3a078bfa-b7de-4bb4-94ce-00d32a68c4e7"
      },
      "outputs": [
        {
          "output_type": "execute_result",
          "data": {
            "text/plain": [
              "   RowNumber  CustomerId  CreditScore  Age  Tenure    Balance  NumOfProducts  \\\n",
              "0       3350    15603465          665   45     5.0  155447.65              2   \n",
              "1       7095    15655464          640   67     3.0       0.00              1   \n",
              "2       9205    15737971          646   30     5.0       0.00              2   \n",
              "3       6621    15751297          732   36     5.0       0.00              2   \n",
              "4       4738    15615140          791   36     6.0  111168.97              1   \n",
              "\n",
              "   HasCrCard  IsActiveMember  EstimatedSalary  ...  Surname_Zotov  \\\n",
              "0          1               0         51871.95  ...            0.0   \n",
              "1          0               1         42964.63  ...            0.0   \n",
              "2          1               0         13935.32  ...            0.0   \n",
              "3          1               0        161428.25  ...            0.0   \n",
              "4          1               1        189969.91  ...            0.0   \n",
              "\n",
              "   Surname_Zox  Surname_Zubarev  Surname_Zubareva  Surname_Zuev  \\\n",
              "0          0.0              0.0               0.0           0.0   \n",
              "1          0.0              0.0               0.0           0.0   \n",
              "2          0.0              0.0               0.0           0.0   \n",
              "3          0.0              0.0               0.0           0.0   \n",
              "4          0.0              0.0               0.0           0.0   \n",
              "\n",
              "   Surname_Zuyev  Surname_Zuyeva  Geography_Germany  Geography_Spain  \\\n",
              "0            0.0             0.0                1.0              0.0   \n",
              "1            0.0             0.0                0.0              0.0   \n",
              "2            0.0             0.0                0.0              0.0   \n",
              "3            0.0             0.0                0.0              0.0   \n",
              "4            0.0             0.0                0.0              0.0   \n",
              "\n",
              "   Gender_Male  \n",
              "0          0.0  \n",
              "1          0.0  \n",
              "2          0.0  \n",
              "3          1.0  \n",
              "4          1.0  \n",
              "\n",
              "[5 rows x 2517 columns]"
            ],
            "text/html": [
              "\n",
              "  <div id=\"df-1196a149-6536-4119-b872-230fc894a623\" class=\"colab-df-container\">\n",
              "    <div>\n",
              "<style scoped>\n",
              "    .dataframe tbody tr th:only-of-type {\n",
              "        vertical-align: middle;\n",
              "    }\n",
              "\n",
              "    .dataframe tbody tr th {\n",
              "        vertical-align: top;\n",
              "    }\n",
              "\n",
              "    .dataframe thead th {\n",
              "        text-align: right;\n",
              "    }\n",
              "</style>\n",
              "<table border=\"1\" class=\"dataframe\">\n",
              "  <thead>\n",
              "    <tr style=\"text-align: right;\">\n",
              "      <th></th>\n",
              "      <th>RowNumber</th>\n",
              "      <th>CustomerId</th>\n",
              "      <th>CreditScore</th>\n",
              "      <th>Age</th>\n",
              "      <th>Tenure</th>\n",
              "      <th>Balance</th>\n",
              "      <th>NumOfProducts</th>\n",
              "      <th>HasCrCard</th>\n",
              "      <th>IsActiveMember</th>\n",
              "      <th>EstimatedSalary</th>\n",
              "      <th>...</th>\n",
              "      <th>Surname_Zotov</th>\n",
              "      <th>Surname_Zox</th>\n",
              "      <th>Surname_Zubarev</th>\n",
              "      <th>Surname_Zubareva</th>\n",
              "      <th>Surname_Zuev</th>\n",
              "      <th>Surname_Zuyev</th>\n",
              "      <th>Surname_Zuyeva</th>\n",
              "      <th>Geography_Germany</th>\n",
              "      <th>Geography_Spain</th>\n",
              "      <th>Gender_Male</th>\n",
              "    </tr>\n",
              "  </thead>\n",
              "  <tbody>\n",
              "    <tr>\n",
              "      <th>0</th>\n",
              "      <td>3350</td>\n",
              "      <td>15603465</td>\n",
              "      <td>665</td>\n",
              "      <td>45</td>\n",
              "      <td>5.0</td>\n",
              "      <td>155447.65</td>\n",
              "      <td>2</td>\n",
              "      <td>1</td>\n",
              "      <td>0</td>\n",
              "      <td>51871.95</td>\n",
              "      <td>...</td>\n",
              "      <td>0.0</td>\n",
              "      <td>0.0</td>\n",
              "      <td>0.0</td>\n",
              "      <td>0.0</td>\n",
              "      <td>0.0</td>\n",
              "      <td>0.0</td>\n",
              "      <td>0.0</td>\n",
              "      <td>1.0</td>\n",
              "      <td>0.0</td>\n",
              "      <td>0.0</td>\n",
              "    </tr>\n",
              "    <tr>\n",
              "      <th>1</th>\n",
              "      <td>7095</td>\n",
              "      <td>15655464</td>\n",
              "      <td>640</td>\n",
              "      <td>67</td>\n",
              "      <td>3.0</td>\n",
              "      <td>0.00</td>\n",
              "      <td>1</td>\n",
              "      <td>0</td>\n",
              "      <td>1</td>\n",
              "      <td>42964.63</td>\n",
              "      <td>...</td>\n",
              "      <td>0.0</td>\n",
              "      <td>0.0</td>\n",
              "      <td>0.0</td>\n",
              "      <td>0.0</td>\n",
              "      <td>0.0</td>\n",
              "      <td>0.0</td>\n",
              "      <td>0.0</td>\n",
              "      <td>0.0</td>\n",
              "      <td>0.0</td>\n",
              "      <td>0.0</td>\n",
              "    </tr>\n",
              "    <tr>\n",
              "      <th>2</th>\n",
              "      <td>9205</td>\n",
              "      <td>15737971</td>\n",
              "      <td>646</td>\n",
              "      <td>30</td>\n",
              "      <td>5.0</td>\n",
              "      <td>0.00</td>\n",
              "      <td>2</td>\n",
              "      <td>1</td>\n",
              "      <td>0</td>\n",
              "      <td>13935.32</td>\n",
              "      <td>...</td>\n",
              "      <td>0.0</td>\n",
              "      <td>0.0</td>\n",
              "      <td>0.0</td>\n",
              "      <td>0.0</td>\n",
              "      <td>0.0</td>\n",
              "      <td>0.0</td>\n",
              "      <td>0.0</td>\n",
              "      <td>0.0</td>\n",
              "      <td>0.0</td>\n",
              "      <td>0.0</td>\n",
              "    </tr>\n",
              "    <tr>\n",
              "      <th>3</th>\n",
              "      <td>6621</td>\n",
              "      <td>15751297</td>\n",
              "      <td>732</td>\n",
              "      <td>36</td>\n",
              "      <td>5.0</td>\n",
              "      <td>0.00</td>\n",
              "      <td>2</td>\n",
              "      <td>1</td>\n",
              "      <td>0</td>\n",
              "      <td>161428.25</td>\n",
              "      <td>...</td>\n",
              "      <td>0.0</td>\n",
              "      <td>0.0</td>\n",
              "      <td>0.0</td>\n",
              "      <td>0.0</td>\n",
              "      <td>0.0</td>\n",
              "      <td>0.0</td>\n",
              "      <td>0.0</td>\n",
              "      <td>0.0</td>\n",
              "      <td>0.0</td>\n",
              "      <td>1.0</td>\n",
              "    </tr>\n",
              "    <tr>\n",
              "      <th>4</th>\n",
              "      <td>4738</td>\n",
              "      <td>15615140</td>\n",
              "      <td>791</td>\n",
              "      <td>36</td>\n",
              "      <td>6.0</td>\n",
              "      <td>111168.97</td>\n",
              "      <td>1</td>\n",
              "      <td>1</td>\n",
              "      <td>1</td>\n",
              "      <td>189969.91</td>\n",
              "      <td>...</td>\n",
              "      <td>0.0</td>\n",
              "      <td>0.0</td>\n",
              "      <td>0.0</td>\n",
              "      <td>0.0</td>\n",
              "      <td>0.0</td>\n",
              "      <td>0.0</td>\n",
              "      <td>0.0</td>\n",
              "      <td>0.0</td>\n",
              "      <td>0.0</td>\n",
              "      <td>1.0</td>\n",
              "    </tr>\n",
              "  </tbody>\n",
              "</table>\n",
              "<p>5 rows × 2517 columns</p>\n",
              "</div>\n",
              "    <div class=\"colab-df-buttons\">\n",
              "\n",
              "  <div class=\"colab-df-container\">\n",
              "    <button class=\"colab-df-convert\" onclick=\"convertToInteractive('df-1196a149-6536-4119-b872-230fc894a623')\"\n",
              "            title=\"Convert this dataframe to an interactive table.\"\n",
              "            style=\"display:none;\">\n",
              "\n",
              "  <svg xmlns=\"http://www.w3.org/2000/svg\" height=\"24px\" viewBox=\"0 -960 960 960\">\n",
              "    <path d=\"M120-120v-720h720v720H120Zm60-500h600v-160H180v160Zm220 220h160v-160H400v160Zm0 220h160v-160H400v160ZM180-400h160v-160H180v160Zm440 0h160v-160H620v160ZM180-180h160v-160H180v160Zm440 0h160v-160H620v160Z\"/>\n",
              "  </svg>\n",
              "    </button>\n",
              "\n",
              "  <style>\n",
              "    .colab-df-container {\n",
              "      display:flex;\n",
              "      gap: 12px;\n",
              "    }\n",
              "\n",
              "    .colab-df-convert {\n",
              "      background-color: #E8F0FE;\n",
              "      border: none;\n",
              "      border-radius: 50%;\n",
              "      cursor: pointer;\n",
              "      display: none;\n",
              "      fill: #1967D2;\n",
              "      height: 32px;\n",
              "      padding: 0 0 0 0;\n",
              "      width: 32px;\n",
              "    }\n",
              "\n",
              "    .colab-df-convert:hover {\n",
              "      background-color: #E2EBFA;\n",
              "      box-shadow: 0px 1px 2px rgba(60, 64, 67, 0.3), 0px 1px 3px 1px rgba(60, 64, 67, 0.15);\n",
              "      fill: #174EA6;\n",
              "    }\n",
              "\n",
              "    .colab-df-buttons div {\n",
              "      margin-bottom: 4px;\n",
              "    }\n",
              "\n",
              "    [theme=dark] .colab-df-convert {\n",
              "      background-color: #3B4455;\n",
              "      fill: #D2E3FC;\n",
              "    }\n",
              "\n",
              "    [theme=dark] .colab-df-convert:hover {\n",
              "      background-color: #434B5C;\n",
              "      box-shadow: 0px 1px 3px 1px rgba(0, 0, 0, 0.15);\n",
              "      filter: drop-shadow(0px 1px 2px rgba(0, 0, 0, 0.3));\n",
              "      fill: #FFFFFF;\n",
              "    }\n",
              "  </style>\n",
              "\n",
              "    <script>\n",
              "      const buttonEl =\n",
              "        document.querySelector('#df-1196a149-6536-4119-b872-230fc894a623 button.colab-df-convert');\n",
              "      buttonEl.style.display =\n",
              "        google.colab.kernel.accessAllowed ? 'block' : 'none';\n",
              "\n",
              "      async function convertToInteractive(key) {\n",
              "        const element = document.querySelector('#df-1196a149-6536-4119-b872-230fc894a623');\n",
              "        const dataTable =\n",
              "          await google.colab.kernel.invokeFunction('convertToInteractive',\n",
              "                                                    [key], {});\n",
              "        if (!dataTable) return;\n",
              "\n",
              "        const docLinkHtml = 'Like what you see? Visit the ' +\n",
              "          '<a target=\"_blank\" href=https://colab.research.google.com/notebooks/data_table.ipynb>data table notebook</a>'\n",
              "          + ' to learn more about interactive tables.';\n",
              "        element.innerHTML = '';\n",
              "        dataTable['output_type'] = 'display_data';\n",
              "        await google.colab.output.renderOutput(dataTable, element);\n",
              "        const docLink = document.createElement('div');\n",
              "        docLink.innerHTML = docLinkHtml;\n",
              "        element.appendChild(docLink);\n",
              "      }\n",
              "    </script>\n",
              "  </div>\n",
              "\n",
              "\n",
              "<div id=\"df-9507f393-9671-4497-aca1-a517fe02df16\">\n",
              "  <button class=\"colab-df-quickchart\" onclick=\"quickchart('df-9507f393-9671-4497-aca1-a517fe02df16')\"\n",
              "            title=\"Suggest charts.\"\n",
              "            style=\"display:none;\">\n",
              "\n",
              "<svg xmlns=\"http://www.w3.org/2000/svg\" height=\"24px\"viewBox=\"0 0 24 24\"\n",
              "     width=\"24px\">\n",
              "    <g>\n",
              "        <path d=\"M19 3H5c-1.1 0-2 .9-2 2v14c0 1.1.9 2 2 2h14c1.1 0 2-.9 2-2V5c0-1.1-.9-2-2-2zM9 17H7v-7h2v7zm4 0h-2V7h2v10zm4 0h-2v-4h2v4z\"/>\n",
              "    </g>\n",
              "</svg>\n",
              "  </button>\n",
              "\n",
              "<style>\n",
              "  .colab-df-quickchart {\n",
              "      --bg-color: #E8F0FE;\n",
              "      --fill-color: #1967D2;\n",
              "      --hover-bg-color: #E2EBFA;\n",
              "      --hover-fill-color: #174EA6;\n",
              "      --disabled-fill-color: #AAA;\n",
              "      --disabled-bg-color: #DDD;\n",
              "  }\n",
              "\n",
              "  [theme=dark] .colab-df-quickchart {\n",
              "      --bg-color: #3B4455;\n",
              "      --fill-color: #D2E3FC;\n",
              "      --hover-bg-color: #434B5C;\n",
              "      --hover-fill-color: #FFFFFF;\n",
              "      --disabled-bg-color: #3B4455;\n",
              "      --disabled-fill-color: #666;\n",
              "  }\n",
              "\n",
              "  .colab-df-quickchart {\n",
              "    background-color: var(--bg-color);\n",
              "    border: none;\n",
              "    border-radius: 50%;\n",
              "    cursor: pointer;\n",
              "    display: none;\n",
              "    fill: var(--fill-color);\n",
              "    height: 32px;\n",
              "    padding: 0;\n",
              "    width: 32px;\n",
              "  }\n",
              "\n",
              "  .colab-df-quickchart:hover {\n",
              "    background-color: var(--hover-bg-color);\n",
              "    box-shadow: 0 1px 2px rgba(60, 64, 67, 0.3), 0 1px 3px 1px rgba(60, 64, 67, 0.15);\n",
              "    fill: var(--button-hover-fill-color);\n",
              "  }\n",
              "\n",
              "  .colab-df-quickchart-complete:disabled,\n",
              "  .colab-df-quickchart-complete:disabled:hover {\n",
              "    background-color: var(--disabled-bg-color);\n",
              "    fill: var(--disabled-fill-color);\n",
              "    box-shadow: none;\n",
              "  }\n",
              "\n",
              "  .colab-df-spinner {\n",
              "    border: 2px solid var(--fill-color);\n",
              "    border-color: transparent;\n",
              "    border-bottom-color: var(--fill-color);\n",
              "    animation:\n",
              "      spin 1s steps(1) infinite;\n",
              "  }\n",
              "\n",
              "  @keyframes spin {\n",
              "    0% {\n",
              "      border-color: transparent;\n",
              "      border-bottom-color: var(--fill-color);\n",
              "      border-left-color: var(--fill-color);\n",
              "    }\n",
              "    20% {\n",
              "      border-color: transparent;\n",
              "      border-left-color: var(--fill-color);\n",
              "      border-top-color: var(--fill-color);\n",
              "    }\n",
              "    30% {\n",
              "      border-color: transparent;\n",
              "      border-left-color: var(--fill-color);\n",
              "      border-top-color: var(--fill-color);\n",
              "      border-right-color: var(--fill-color);\n",
              "    }\n",
              "    40% {\n",
              "      border-color: transparent;\n",
              "      border-right-color: var(--fill-color);\n",
              "      border-top-color: var(--fill-color);\n",
              "    }\n",
              "    60% {\n",
              "      border-color: transparent;\n",
              "      border-right-color: var(--fill-color);\n",
              "    }\n",
              "    80% {\n",
              "      border-color: transparent;\n",
              "      border-right-color: var(--fill-color);\n",
              "      border-bottom-color: var(--fill-color);\n",
              "    }\n",
              "    90% {\n",
              "      border-color: transparent;\n",
              "      border-bottom-color: var(--fill-color);\n",
              "    }\n",
              "  }\n",
              "</style>\n",
              "\n",
              "  <script>\n",
              "    async function quickchart(key) {\n",
              "      const quickchartButtonEl =\n",
              "        document.querySelector('#' + key + ' button');\n",
              "      quickchartButtonEl.disabled = true;  // To prevent multiple clicks.\n",
              "      quickchartButtonEl.classList.add('colab-df-spinner');\n",
              "      try {\n",
              "        const charts = await google.colab.kernel.invokeFunction(\n",
              "            'suggestCharts', [key], {});\n",
              "      } catch (error) {\n",
              "        console.error('Error during call to suggestCharts:', error);\n",
              "      }\n",
              "      quickchartButtonEl.classList.remove('colab-df-spinner');\n",
              "      quickchartButtonEl.classList.add('colab-df-quickchart-complete');\n",
              "    }\n",
              "    (() => {\n",
              "      let quickchartButtonEl =\n",
              "        document.querySelector('#df-9507f393-9671-4497-aca1-a517fe02df16 button');\n",
              "      quickchartButtonEl.style.display =\n",
              "        google.colab.kernel.accessAllowed ? 'block' : 'none';\n",
              "    })();\n",
              "  </script>\n",
              "</div>\n",
              "    </div>\n",
              "  </div>\n"
            ]
          },
          "metadata": {},
          "execution_count": 16
        }
      ],
      "source": [
        "X_train.head()"
      ]
    },
    {
      "cell_type": "markdown",
      "metadata": {
        "id": "-7E_X3CjUZah"
      },
      "source": [
        "А теперь выполним стандартизацию:"
      ]
    },
    {
      "cell_type": "code",
      "execution_count": 17,
      "metadata": {
        "id": "EpV0sarCUZah"
      },
      "outputs": [],
      "source": [
        "scaler = StandardScaler()\n",
        "scaler.fit(X_train[num_features])\n",
        "\n",
        "X_train[num_features] = scaler.transform(X_train[num_features])\n",
        "X_test[num_features] = scaler.transform(X_test[num_features])"
      ]
    },
    {
      "cell_type": "code",
      "execution_count": 18,
      "metadata": {
        "colab": {
          "base_uri": "https://localhost:8080/",
          "height": 255
        },
        "id": "SayyPAMEUZai",
        "outputId": "7dd6c5d4-9efe-4a8f-b2fc-d7b5038b783c"
      },
      "outputs": [
        {
          "output_type": "execute_result",
          "data": {
            "text/plain": [
              "   RowNumber  CustomerId  CreditScore       Age    Tenure   Balance  \\\n",
              "0  -0.565718   -1.232356     0.153616  0.583435 -0.004794  1.264113   \n",
              "1   0.729649   -0.505810    -0.104283  2.694224 -0.731152 -1.222762   \n",
              "2   1.459482    0.647002    -0.042388 -0.855740 -0.004794 -1.222762   \n",
              "3   0.565696    0.833197     0.844786 -0.280070 -0.004794 -1.222762   \n",
              "4  -0.085619   -1.069229     1.453428 -0.280070  0.358385  0.555736   \n",
              "\n",
              "   NumOfProducts  HasCrCard  IsActiveMember  EstimatedSalary  ...  \\\n",
              "0       0.807524   0.652368       -1.034460        -0.848725  ...   \n",
              "1      -0.915010  -1.532876        0.966688        -1.003683  ...   \n",
              "2       0.807524   0.652368       -1.034460        -1.508697  ...   \n",
              "3       0.807524   0.652368       -1.034460         1.057193  ...   \n",
              "4      -0.915010   0.652368        0.966688         1.553724  ...   \n",
              "\n",
              "   Surname_Zotov  Surname_Zox  Surname_Zubarev  Surname_Zubareva  \\\n",
              "0            0.0          0.0              0.0               0.0   \n",
              "1            0.0          0.0              0.0               0.0   \n",
              "2            0.0          0.0              0.0               0.0   \n",
              "3            0.0          0.0              0.0               0.0   \n",
              "4            0.0          0.0              0.0               0.0   \n",
              "\n",
              "   Surname_Zuev  Surname_Zuyev  Surname_Zuyeva  Geography_Germany  \\\n",
              "0           0.0            0.0             0.0                1.0   \n",
              "1           0.0            0.0             0.0                0.0   \n",
              "2           0.0            0.0             0.0                0.0   \n",
              "3           0.0            0.0             0.0                0.0   \n",
              "4           0.0            0.0             0.0                0.0   \n",
              "\n",
              "   Geography_Spain  Gender_Male  \n",
              "0              0.0          0.0  \n",
              "1              0.0          0.0  \n",
              "2              0.0          0.0  \n",
              "3              0.0          1.0  \n",
              "4              0.0          1.0  \n",
              "\n",
              "[5 rows x 2517 columns]"
            ],
            "text/html": [
              "\n",
              "  <div id=\"df-7a61c44d-2df5-46af-868e-c57e9be16ee2\" class=\"colab-df-container\">\n",
              "    <div>\n",
              "<style scoped>\n",
              "    .dataframe tbody tr th:only-of-type {\n",
              "        vertical-align: middle;\n",
              "    }\n",
              "\n",
              "    .dataframe tbody tr th {\n",
              "        vertical-align: top;\n",
              "    }\n",
              "\n",
              "    .dataframe thead th {\n",
              "        text-align: right;\n",
              "    }\n",
              "</style>\n",
              "<table border=\"1\" class=\"dataframe\">\n",
              "  <thead>\n",
              "    <tr style=\"text-align: right;\">\n",
              "      <th></th>\n",
              "      <th>RowNumber</th>\n",
              "      <th>CustomerId</th>\n",
              "      <th>CreditScore</th>\n",
              "      <th>Age</th>\n",
              "      <th>Tenure</th>\n",
              "      <th>Balance</th>\n",
              "      <th>NumOfProducts</th>\n",
              "      <th>HasCrCard</th>\n",
              "      <th>IsActiveMember</th>\n",
              "      <th>EstimatedSalary</th>\n",
              "      <th>...</th>\n",
              "      <th>Surname_Zotov</th>\n",
              "      <th>Surname_Zox</th>\n",
              "      <th>Surname_Zubarev</th>\n",
              "      <th>Surname_Zubareva</th>\n",
              "      <th>Surname_Zuev</th>\n",
              "      <th>Surname_Zuyev</th>\n",
              "      <th>Surname_Zuyeva</th>\n",
              "      <th>Geography_Germany</th>\n",
              "      <th>Geography_Spain</th>\n",
              "      <th>Gender_Male</th>\n",
              "    </tr>\n",
              "  </thead>\n",
              "  <tbody>\n",
              "    <tr>\n",
              "      <th>0</th>\n",
              "      <td>-0.565718</td>\n",
              "      <td>-1.232356</td>\n",
              "      <td>0.153616</td>\n",
              "      <td>0.583435</td>\n",
              "      <td>-0.004794</td>\n",
              "      <td>1.264113</td>\n",
              "      <td>0.807524</td>\n",
              "      <td>0.652368</td>\n",
              "      <td>-1.034460</td>\n",
              "      <td>-0.848725</td>\n",
              "      <td>...</td>\n",
              "      <td>0.0</td>\n",
              "      <td>0.0</td>\n",
              "      <td>0.0</td>\n",
              "      <td>0.0</td>\n",
              "      <td>0.0</td>\n",
              "      <td>0.0</td>\n",
              "      <td>0.0</td>\n",
              "      <td>1.0</td>\n",
              "      <td>0.0</td>\n",
              "      <td>0.0</td>\n",
              "    </tr>\n",
              "    <tr>\n",
              "      <th>1</th>\n",
              "      <td>0.729649</td>\n",
              "      <td>-0.505810</td>\n",
              "      <td>-0.104283</td>\n",
              "      <td>2.694224</td>\n",
              "      <td>-0.731152</td>\n",
              "      <td>-1.222762</td>\n",
              "      <td>-0.915010</td>\n",
              "      <td>-1.532876</td>\n",
              "      <td>0.966688</td>\n",
              "      <td>-1.003683</td>\n",
              "      <td>...</td>\n",
              "      <td>0.0</td>\n",
              "      <td>0.0</td>\n",
              "      <td>0.0</td>\n",
              "      <td>0.0</td>\n",
              "      <td>0.0</td>\n",
              "      <td>0.0</td>\n",
              "      <td>0.0</td>\n",
              "      <td>0.0</td>\n",
              "      <td>0.0</td>\n",
              "      <td>0.0</td>\n",
              "    </tr>\n",
              "    <tr>\n",
              "      <th>2</th>\n",
              "      <td>1.459482</td>\n",
              "      <td>0.647002</td>\n",
              "      <td>-0.042388</td>\n",
              "      <td>-0.855740</td>\n",
              "      <td>-0.004794</td>\n",
              "      <td>-1.222762</td>\n",
              "      <td>0.807524</td>\n",
              "      <td>0.652368</td>\n",
              "      <td>-1.034460</td>\n",
              "      <td>-1.508697</td>\n",
              "      <td>...</td>\n",
              "      <td>0.0</td>\n",
              "      <td>0.0</td>\n",
              "      <td>0.0</td>\n",
              "      <td>0.0</td>\n",
              "      <td>0.0</td>\n",
              "      <td>0.0</td>\n",
              "      <td>0.0</td>\n",
              "      <td>0.0</td>\n",
              "      <td>0.0</td>\n",
              "      <td>0.0</td>\n",
              "    </tr>\n",
              "    <tr>\n",
              "      <th>3</th>\n",
              "      <td>0.565696</td>\n",
              "      <td>0.833197</td>\n",
              "      <td>0.844786</td>\n",
              "      <td>-0.280070</td>\n",
              "      <td>-0.004794</td>\n",
              "      <td>-1.222762</td>\n",
              "      <td>0.807524</td>\n",
              "      <td>0.652368</td>\n",
              "      <td>-1.034460</td>\n",
              "      <td>1.057193</td>\n",
              "      <td>...</td>\n",
              "      <td>0.0</td>\n",
              "      <td>0.0</td>\n",
              "      <td>0.0</td>\n",
              "      <td>0.0</td>\n",
              "      <td>0.0</td>\n",
              "      <td>0.0</td>\n",
              "      <td>0.0</td>\n",
              "      <td>0.0</td>\n",
              "      <td>0.0</td>\n",
              "      <td>1.0</td>\n",
              "    </tr>\n",
              "    <tr>\n",
              "      <th>4</th>\n",
              "      <td>-0.085619</td>\n",
              "      <td>-1.069229</td>\n",
              "      <td>1.453428</td>\n",
              "      <td>-0.280070</td>\n",
              "      <td>0.358385</td>\n",
              "      <td>0.555736</td>\n",
              "      <td>-0.915010</td>\n",
              "      <td>0.652368</td>\n",
              "      <td>0.966688</td>\n",
              "      <td>1.553724</td>\n",
              "      <td>...</td>\n",
              "      <td>0.0</td>\n",
              "      <td>0.0</td>\n",
              "      <td>0.0</td>\n",
              "      <td>0.0</td>\n",
              "      <td>0.0</td>\n",
              "      <td>0.0</td>\n",
              "      <td>0.0</td>\n",
              "      <td>0.0</td>\n",
              "      <td>0.0</td>\n",
              "      <td>1.0</td>\n",
              "    </tr>\n",
              "  </tbody>\n",
              "</table>\n",
              "<p>5 rows × 2517 columns</p>\n",
              "</div>\n",
              "    <div class=\"colab-df-buttons\">\n",
              "\n",
              "  <div class=\"colab-df-container\">\n",
              "    <button class=\"colab-df-convert\" onclick=\"convertToInteractive('df-7a61c44d-2df5-46af-868e-c57e9be16ee2')\"\n",
              "            title=\"Convert this dataframe to an interactive table.\"\n",
              "            style=\"display:none;\">\n",
              "\n",
              "  <svg xmlns=\"http://www.w3.org/2000/svg\" height=\"24px\" viewBox=\"0 -960 960 960\">\n",
              "    <path d=\"M120-120v-720h720v720H120Zm60-500h600v-160H180v160Zm220 220h160v-160H400v160Zm0 220h160v-160H400v160ZM180-400h160v-160H180v160Zm440 0h160v-160H620v160ZM180-180h160v-160H180v160Zm440 0h160v-160H620v160Z\"/>\n",
              "  </svg>\n",
              "    </button>\n",
              "\n",
              "  <style>\n",
              "    .colab-df-container {\n",
              "      display:flex;\n",
              "      gap: 12px;\n",
              "    }\n",
              "\n",
              "    .colab-df-convert {\n",
              "      background-color: #E8F0FE;\n",
              "      border: none;\n",
              "      border-radius: 50%;\n",
              "      cursor: pointer;\n",
              "      display: none;\n",
              "      fill: #1967D2;\n",
              "      height: 32px;\n",
              "      padding: 0 0 0 0;\n",
              "      width: 32px;\n",
              "    }\n",
              "\n",
              "    .colab-df-convert:hover {\n",
              "      background-color: #E2EBFA;\n",
              "      box-shadow: 0px 1px 2px rgba(60, 64, 67, 0.3), 0px 1px 3px 1px rgba(60, 64, 67, 0.15);\n",
              "      fill: #174EA6;\n",
              "    }\n",
              "\n",
              "    .colab-df-buttons div {\n",
              "      margin-bottom: 4px;\n",
              "    }\n",
              "\n",
              "    [theme=dark] .colab-df-convert {\n",
              "      background-color: #3B4455;\n",
              "      fill: #D2E3FC;\n",
              "    }\n",
              "\n",
              "    [theme=dark] .colab-df-convert:hover {\n",
              "      background-color: #434B5C;\n",
              "      box-shadow: 0px 1px 3px 1px rgba(0, 0, 0, 0.15);\n",
              "      filter: drop-shadow(0px 1px 2px rgba(0, 0, 0, 0.3));\n",
              "      fill: #FFFFFF;\n",
              "    }\n",
              "  </style>\n",
              "\n",
              "    <script>\n",
              "      const buttonEl =\n",
              "        document.querySelector('#df-7a61c44d-2df5-46af-868e-c57e9be16ee2 button.colab-df-convert');\n",
              "      buttonEl.style.display =\n",
              "        google.colab.kernel.accessAllowed ? 'block' : 'none';\n",
              "\n",
              "      async function convertToInteractive(key) {\n",
              "        const element = document.querySelector('#df-7a61c44d-2df5-46af-868e-c57e9be16ee2');\n",
              "        const dataTable =\n",
              "          await google.colab.kernel.invokeFunction('convertToInteractive',\n",
              "                                                    [key], {});\n",
              "        if (!dataTable) return;\n",
              "\n",
              "        const docLinkHtml = 'Like what you see? Visit the ' +\n",
              "          '<a target=\"_blank\" href=https://colab.research.google.com/notebooks/data_table.ipynb>data table notebook</a>'\n",
              "          + ' to learn more about interactive tables.';\n",
              "        element.innerHTML = '';\n",
              "        dataTable['output_type'] = 'display_data';\n",
              "        await google.colab.output.renderOutput(dataTable, element);\n",
              "        const docLink = document.createElement('div');\n",
              "        docLink.innerHTML = docLinkHtml;\n",
              "        element.appendChild(docLink);\n",
              "      }\n",
              "    </script>\n",
              "  </div>\n",
              "\n",
              "\n",
              "<div id=\"df-0e906531-4d7f-4be1-a9cf-5a925c8ad01d\">\n",
              "  <button class=\"colab-df-quickchart\" onclick=\"quickchart('df-0e906531-4d7f-4be1-a9cf-5a925c8ad01d')\"\n",
              "            title=\"Suggest charts.\"\n",
              "            style=\"display:none;\">\n",
              "\n",
              "<svg xmlns=\"http://www.w3.org/2000/svg\" height=\"24px\"viewBox=\"0 0 24 24\"\n",
              "     width=\"24px\">\n",
              "    <g>\n",
              "        <path d=\"M19 3H5c-1.1 0-2 .9-2 2v14c0 1.1.9 2 2 2h14c1.1 0 2-.9 2-2V5c0-1.1-.9-2-2-2zM9 17H7v-7h2v7zm4 0h-2V7h2v10zm4 0h-2v-4h2v4z\"/>\n",
              "    </g>\n",
              "</svg>\n",
              "  </button>\n",
              "\n",
              "<style>\n",
              "  .colab-df-quickchart {\n",
              "      --bg-color: #E8F0FE;\n",
              "      --fill-color: #1967D2;\n",
              "      --hover-bg-color: #E2EBFA;\n",
              "      --hover-fill-color: #174EA6;\n",
              "      --disabled-fill-color: #AAA;\n",
              "      --disabled-bg-color: #DDD;\n",
              "  }\n",
              "\n",
              "  [theme=dark] .colab-df-quickchart {\n",
              "      --bg-color: #3B4455;\n",
              "      --fill-color: #D2E3FC;\n",
              "      --hover-bg-color: #434B5C;\n",
              "      --hover-fill-color: #FFFFFF;\n",
              "      --disabled-bg-color: #3B4455;\n",
              "      --disabled-fill-color: #666;\n",
              "  }\n",
              "\n",
              "  .colab-df-quickchart {\n",
              "    background-color: var(--bg-color);\n",
              "    border: none;\n",
              "    border-radius: 50%;\n",
              "    cursor: pointer;\n",
              "    display: none;\n",
              "    fill: var(--fill-color);\n",
              "    height: 32px;\n",
              "    padding: 0;\n",
              "    width: 32px;\n",
              "  }\n",
              "\n",
              "  .colab-df-quickchart:hover {\n",
              "    background-color: var(--hover-bg-color);\n",
              "    box-shadow: 0 1px 2px rgba(60, 64, 67, 0.3), 0 1px 3px 1px rgba(60, 64, 67, 0.15);\n",
              "    fill: var(--button-hover-fill-color);\n",
              "  }\n",
              "\n",
              "  .colab-df-quickchart-complete:disabled,\n",
              "  .colab-df-quickchart-complete:disabled:hover {\n",
              "    background-color: var(--disabled-bg-color);\n",
              "    fill: var(--disabled-fill-color);\n",
              "    box-shadow: none;\n",
              "  }\n",
              "\n",
              "  .colab-df-spinner {\n",
              "    border: 2px solid var(--fill-color);\n",
              "    border-color: transparent;\n",
              "    border-bottom-color: var(--fill-color);\n",
              "    animation:\n",
              "      spin 1s steps(1) infinite;\n",
              "  }\n",
              "\n",
              "  @keyframes spin {\n",
              "    0% {\n",
              "      border-color: transparent;\n",
              "      border-bottom-color: var(--fill-color);\n",
              "      border-left-color: var(--fill-color);\n",
              "    }\n",
              "    20% {\n",
              "      border-color: transparent;\n",
              "      border-left-color: var(--fill-color);\n",
              "      border-top-color: var(--fill-color);\n",
              "    }\n",
              "    30% {\n",
              "      border-color: transparent;\n",
              "      border-left-color: var(--fill-color);\n",
              "      border-top-color: var(--fill-color);\n",
              "      border-right-color: var(--fill-color);\n",
              "    }\n",
              "    40% {\n",
              "      border-color: transparent;\n",
              "      border-right-color: var(--fill-color);\n",
              "      border-top-color: var(--fill-color);\n",
              "    }\n",
              "    60% {\n",
              "      border-color: transparent;\n",
              "      border-right-color: var(--fill-color);\n",
              "    }\n",
              "    80% {\n",
              "      border-color: transparent;\n",
              "      border-right-color: var(--fill-color);\n",
              "      border-bottom-color: var(--fill-color);\n",
              "    }\n",
              "    90% {\n",
              "      border-color: transparent;\n",
              "      border-bottom-color: var(--fill-color);\n",
              "    }\n",
              "  }\n",
              "</style>\n",
              "\n",
              "  <script>\n",
              "    async function quickchart(key) {\n",
              "      const quickchartButtonEl =\n",
              "        document.querySelector('#' + key + ' button');\n",
              "      quickchartButtonEl.disabled = true;  // To prevent multiple clicks.\n",
              "      quickchartButtonEl.classList.add('colab-df-spinner');\n",
              "      try {\n",
              "        const charts = await google.colab.kernel.invokeFunction(\n",
              "            'suggestCharts', [key], {});\n",
              "      } catch (error) {\n",
              "        console.error('Error during call to suggestCharts:', error);\n",
              "      }\n",
              "      quickchartButtonEl.classList.remove('colab-df-spinner');\n",
              "      quickchartButtonEl.classList.add('colab-df-quickchart-complete');\n",
              "    }\n",
              "    (() => {\n",
              "      let quickchartButtonEl =\n",
              "        document.querySelector('#df-0e906531-4d7f-4be1-a9cf-5a925c8ad01d button');\n",
              "      quickchartButtonEl.style.display =\n",
              "        google.colab.kernel.accessAllowed ? 'block' : 'none';\n",
              "    })();\n",
              "  </script>\n",
              "</div>\n",
              "    </div>\n",
              "  </div>\n"
            ]
          },
          "metadata": {},
          "execution_count": 18
        }
      ],
      "source": [
        "X_train.head()"
      ]
    },
    {
      "cell_type": "markdown",
      "metadata": {
        "id": "MDW6a4iBUZai"
      },
      "source": [
        "## Исследование задачи"
      ]
    },
    {
      "cell_type": "markdown",
      "metadata": {
        "id": "SRtQ0M82UZas"
      },
      "source": [
        "### Изучение баланса классов"
      ]
    },
    {
      "cell_type": "markdown",
      "metadata": {
        "id": "cO0GA9qbUZas"
      },
      "source": [
        "Исследуем баланс классов:"
      ]
    },
    {
      "cell_type": "code",
      "execution_count": 19,
      "metadata": {
        "colab": {
          "base_uri": "https://localhost:8080/",
          "height": 653
        },
        "id": "f5uVxabrUZat",
        "outputId": "f7465536-3583-4cff-bc83-9a81b9c58b3b"
      },
      "outputs": [
        {
          "output_type": "display_data",
          "data": {
            "text/plain": [
              "<Figure size 800x800 with 1 Axes>"
            ],
            "image/png": "[encoded data removed]"
          },
          "metadata": {}
        }
      ],
      "source": [
        "values = y.value_counts(normalize=True).values\n",
        "labels = y.value_counts(normalize=True).index.tolist()\n",
        "\n",
        "fig, ax = plt.subplots(figsize=(8, 8))\n",
        "ax.pie(values, labels=labels, autopct='%1.1f%%')\n",
        "plt.title('Баланс классов', y=0.95)\n",
        "plt.legend()\n",
        "plt.show()"
      ]
    },
    {
      "cell_type": "markdown",
      "metadata": {
        "id": "PslMvbQoUZat"
      },
      "source": [
        "Таким образом, мы можем заметить дисбаланс классов: почти 80% клиентов — клиенты, ушедшие из банка (значение `Exited` 0); а оставшиеся 20% — клиенты, не покинувшие банк (`Exited` — 1).\n"
      ]
    },
    {
      "cell_type": "markdown",
      "metadata": {
        "id": "jtXS2YlKUZat"
      },
      "source": [
        "###  Обучение модели без учёта дисбаланса"
      ]
    },
    {
      "cell_type": "markdown",
      "metadata": {
        "id": "6aWFj4DrUZau"
      },
      "source": [
        "Попробуем обучить модели *Логистической регрессии*, *Дерева решений* и *Случайного леса* без учёта дисбаланса с поиском лучших гиперпараметров, используя метод *GridSearch*:\n"
      ]
    },
    {
      "cell_type": "markdown",
      "metadata": {
        "id": "7jHrpQfiUZau"
      },
      "source": [
        "#### Логистическая Регрессия"
      ]
    },
    {
      "cell_type": "code",
      "execution_count": 20,
      "metadata": {
        "colab": {
          "base_uri": "https://localhost:8080/"
        },
        "id": "bi4pcxlUUZau",
        "outputId": "0002f11d-9c21-480b-9de6-d48e12317a0f"
      },
      "outputs": [
        {
          "output_type": "stream",
          "name": "stdout",
          "text": [
            "Гиперпараметры: {'C': 1, 'penalty': 'l2', 'solver': 'liblinear'}\n",
            "F1 мера: 0.32\n",
            "ROC-AUC: 0.74\n"
          ]
        }
      ],
      "source": [
        "parameters = {'penalty': ['l1', 'l2'],\n",
        "              'C': [0.01, 0.1, 1, 10],\n",
        "              'solver': ['liblinear']\n",
        "             }\n",
        "\n",
        "lr = LogisticRegression(max_iter=1000, random_state=12345)\n",
        "lr_gs1 = GridSearchCV(lr, parameters, scoring=['f1', 'roc_auc'], refit='f1')\n",
        "\n",
        "lr_gs1.fit(X_train, y_train)\n",
        "\n",
        "print(f'Гиперпараметры: {lr_gs1.best_params_}')\n",
        "print(f'F1 мера: {lr_gs1.best_score_:.2f}')\n",
        "\n",
        "roc_auc = lr_gs1.cv_results_['mean_test_roc_auc'][lr_gs1.best_index_]\n",
        "print(f'ROC-AUC: {roc_auc:.2f}')"
      ]
    },
    {
      "cell_type": "markdown",
      "metadata": {
        "id": "wwwd9ihLUZau"
      },
      "source": [
        "#### Дерево решений"
      ]
    },
    {
      "cell_type": "code",
      "execution_count": 21,
      "metadata": {
        "colab": {
          "base_uri": "https://localhost:8080/"
        },
        "id": "iYGgHX9nUZau",
        "outputId": "d771732c-17f7-4895-ca1a-b8ba6f69406e"
      },
      "outputs": [
        {
          "output_type": "stream",
          "name": "stdout",
          "text": [
            "Гиперпараметры: {'criterion': 'gini', 'max_depth': 7}\n",
            "F1: 0.56\n",
            "ROC-AUC: 0.83\n"
          ]
        }
      ],
      "source": [
        "parameters = {'criterion': ['gini', 'entropy'],\n",
        "              'max_depth': [None] + list(range(3, 15, 2))\n",
        "              }\n",
        "dt_clf = DecisionTreeClassifier(random_state=12345)\n",
        "dt_gs1 = GridSearchCV(estimator=dt_clf, param_grid=parameters, scoring=['f1', 'roc_auc'], refit='f1')\n",
        "\n",
        "dt_gs1.fit(X_train, y_train)\n",
        "\n",
        "print(f'Гиперпараметры: {dt_gs1.best_params_}')\n",
        "print(f'F1: {dt_gs1.best_score_:.2f}')\n",
        "\n",
        "roc_auc = dt_gs1.cv_results_['mean_test_roc_auc'][dt_gs1.best_index_]\n",
        "print(f'ROC-AUC: {roc_auc:.2f}')"
      ]
    },
    {
      "cell_type": "markdown",
      "metadata": {
        "id": "m355rKa5UZau"
      },
      "source": [
        "####  Случайный лес"
      ]
    },
    {
      "cell_type": "code",
      "execution_count": 22,
      "metadata": {
        "colab": {
          "base_uri": "https://localhost:8080/"
        },
        "id": "TXK0-ibPUZav",
        "outputId": "f176309a-a561-4b7d-edf3-fffbf9f61602"
      },
      "outputs": [
        {
          "output_type": "stream",
          "name": "stdout",
          "text": [
            "Гиперпараметры: {'max_depth': None, 'n_estimators': 45}\n",
            "F1: 0.48\n",
            "ROC-AUC: 0.83\n"
          ]
        }
      ],
      "source": [
        "parameters = {'n_estimators': list(range(5, 50, 5)),\n",
        "              'max_depth': [None] + list(range(3, 30, 2))\n",
        "             }\n",
        "\n",
        "rf_clf = RandomForestClassifier(random_state=12345)\n",
        "rf_gs1 = GridSearchCV(estimator=rf_clf, param_grid=parameters, scoring=['f1', 'roc_auc'], refit='f1')\n",
        "\n",
        "rf_gs1.fit(X_train, y_train)\n",
        "\n",
        "print(f'Гиперпараметры: {rf_gs1.best_params_}')\n",
        "print(f'F1: {rf_gs1.best_score_:.2f}')\n",
        "\n",
        "roc_auc = rf_gs1.cv_results_['mean_test_roc_auc'][rf_gs1.best_index_]\n",
        "print(f'ROC-AUC: {roc_auc:.2f}')"
      ]
    },
    {
      "cell_type": "markdown",
      "metadata": {
        "id": "WlP5L6JtUZav"
      },
      "source": [
        "Таким образом, без учета дисбаланса были рассмотрены 3 модели для задачи классификации. Были получены различные значения F1-меры, при этом модель Дерева решений показала лучшее значение, равное 0.56. А также было получено значение ROC-AUC, равное 0.83. Это уже достаточно хороший результат, однако необходимо учесть дисбаланс классов для получения более высокого и корректного результата."
      ]
    },
    {
      "cell_type": "markdown",
      "metadata": {
        "id": "HCHTMialUZav"
      },
      "source": [
        "## Борьба с дисбалансом"
      ]
    },
    {
      "cell_type": "markdown",
      "metadata": {
        "id": "Nju7za_vUZav"
      },
      "source": [
        "### Уменьшение обучающей выборки"
      ]
    },
    {
      "cell_type": "markdown",
      "metadata": {
        "id": "9RgDfITQUZaw"
      },
      "source": [
        "Чтобы избавиться от дисбаланса классов, используем технику *Over-sampling* с помощью **SMOTE**:"
      ]
    },
    {
      "cell_type": "code",
      "execution_count": 23,
      "metadata": {
        "id": "CDx5lswBUZaw"
      },
      "outputs": [],
      "source": [
        "from imblearn.pipeline import Pipeline, make_pipeline\n",
        "from imblearn.over_sampling import SMOTE"
      ]
    },
    {
      "cell_type": "markdown",
      "metadata": {
        "id": "pDMahdUpUZaw"
      },
      "source": [
        "#### Логистическая Регрессия"
      ]
    },
    {
      "cell_type": "code",
      "execution_count": 24,
      "metadata": {
        "colab": {
          "base_uri": "https://localhost:8080/"
        },
        "id": "bu2QycPLUZaw",
        "outputId": "0b7dee37-5113-4507-aac9-745228ef6e99"
      },
      "outputs": [
        {
          "output_type": "stream",
          "name": "stdout",
          "text": [
            "Гиперпараметры: {'clf__C': 0.1, 'clf__penalty': 'l2', 'clf__solver': 'liblinear'}\n",
            "F1 мера: 0.49\n",
            "ROC-AUC: 0.76\n"
          ]
        }
      ],
      "source": [
        "lr_model = Pipeline([\n",
        "        ('sampling', SMOTE(random_state=12345)),\n",
        "        ('clf', LogisticRegression(max_iter=1000, random_state=12345))\n",
        "    ])\n",
        "\n",
        "parameters = {'clf__penalty': ['l1', 'l2'],\n",
        "              'clf__C': [0.01, 0.1, 1, 10],\n",
        "              'clf__solver': ['liblinear']\n",
        "             }\n",
        "\n",
        "lr_gs2 = GridSearchCV(estimator=lr_model, param_grid=parameters, scoring=['f1', 'roc_auc'], refit='f1')\n",
        "\n",
        "lr_gs2.fit(X_train, y_train)\n",
        "\n",
        "print(f'Гиперпараметры: {lr_gs2.best_params_}')\n",
        "print(f'F1 мера: {lr_gs2.best_score_:.2f}')\n",
        "\n",
        "roc_auc = lr_gs2.cv_results_['mean_test_roc_auc'][lr_gs2.best_index_]\n",
        "print(f'ROC-AUC: {roc_auc:.2f}')"
      ]
    },
    {
      "cell_type": "markdown",
      "metadata": {
        "id": "3CjL9EtWUZaw"
      },
      "source": [
        "#### Дерево решений"
      ]
    },
    {
      "cell_type": "code",
      "execution_count": 25,
      "metadata": {
        "colab": {
          "base_uri": "https://localhost:8080/"
        },
        "id": "8_6SR6v9UZaw",
        "outputId": "a4d0dbcf-18c6-4101-86e8-4662c0604cb4"
      },
      "outputs": [
        {
          "output_type": "stream",
          "name": "stdout",
          "text": [
            "Гиперпараметры: {'clf__criterion': 'entropy', 'clf__max_depth': 9}\n",
            "F1: 0.59\n",
            "ROC-AUC: 0.81\n"
          ]
        }
      ],
      "source": [
        "dt_model = Pipeline([\n",
        "        ('sampling', SMOTE(random_state=12345)),\n",
        "        ('clf', DecisionTreeClassifier(random_state=12345))\n",
        "    ])\n",
        "\n",
        "parameters = {'clf__criterion': ['gini', 'entropy'],\n",
        "              'clf__max_depth': [None] + list(range(3, 10, 2))\n",
        "              }\n",
        "\n",
        "dt_gs2 = GridSearchCV(estimator=dt_model, param_grid=parameters, scoring=['f1', 'roc_auc'], refit='f1')\n",
        "\n",
        "dt_gs2.fit(X_train, y_train)\n",
        "\n",
        "print(f'Гиперпараметры: {dt_gs2.best_params_}')\n",
        "print(f'F1: {dt_gs2.best_score_:.2f}')\n",
        "\n",
        "roc_auc = dt_gs2.cv_results_['mean_test_roc_auc'][dt_gs2.best_index_]\n",
        "print(f'ROC-AUC: {roc_auc:.2f}')"
      ]
    },
    {
      "cell_type": "markdown",
      "metadata": {
        "id": "WMkf2LxpUZax"
      },
      "source": [
        "#### Случайный лес"
      ]
    },
    {
      "cell_type": "code",
      "execution_count": 26,
      "metadata": {
        "colab": {
          "base_uri": "https://localhost:8080/"
        },
        "id": "va9TbjOzUZax",
        "outputId": "0eab9996-685a-4f7b-9d0f-c860fd5e3026"
      },
      "outputs": [
        {
          "output_type": "stream",
          "name": "stdout",
          "text": [
            "Гиперпараметры: {'clf__max_depth': 32, 'clf__n_estimators': 100}\n",
            "F1: 0.56\n",
            "ROC-AUC: 0.82\n"
          ]
        }
      ],
      "source": [
        "rf_model = Pipeline([\n",
        "        ('sampling', SMOTE(random_state=12345)),\n",
        "        ('clf', RandomForestClassifier(random_state=12345))\n",
        "    ])\n",
        "\n",
        "parameters = {'clf__n_estimators': [5, 80, 100] + list(range(10, 50, 10)),\n",
        "              'clf__max_depth': [None] + list(range(5, 40, 3))\n",
        "             }\n",
        "\n",
        "rf_gs2 = GridSearchCV(estimator=rf_model, param_grid=parameters, scoring=['f1', 'roc_auc'], refit='f1')\n",
        "\n",
        "rf_gs2.fit(X_train, y_train)\n",
        "\n",
        "print(f'Гиперпараметры: {rf_gs2.best_params_}')\n",
        "print(f'F1: {rf_gs2.best_score_:.2f}')\n",
        "\n",
        "roc_auc = rf_gs2.cv_results_['mean_test_roc_auc'][rf_gs2.best_index_]\n",
        "print(f'ROC-AUC: {roc_auc:.2f}')"
      ]
    },
    {
      "cell_type": "markdown",
      "metadata": {
        "id": "QjkV0Qh2UZax"
      },
      "source": [
        "Таким образом, применив технику *over-sampling*'a, мы можем заметить, что результаты для моделей на кросс-валидации стали лучше по сравнению с прошлым пунктом (без учета дисбаланса). Так, для модели Дерева решений в предыдущем пункте значение F1-меры было равно 0.56, а теперь значение F1-меры стало равным 0.59, но ROC-AUC для этой модели стало 0.81. Кроме того, значение метрики F1 для модели Случайного леса значимо улучшилась и стала равной 0.56, а также значение ROC-AUC стало равным 0.82.\n"
      ]
    },
    {
      "cell_type": "markdown",
      "metadata": {
        "id": "8wrvpE8XUZax"
      },
      "source": [
        "### Поиск лучшей модели"
      ]
    },
    {
      "cell_type": "markdown",
      "metadata": {
        "id": "4GeOe5SsUZax"
      },
      "source": [
        "Теперь рассмотрим модели с поиском лучших гиперпараметров, используя метод взвешивания классов (`class_weight='balanced'`):"
      ]
    },
    {
      "cell_type": "markdown",
      "metadata": {
        "id": "Tp3W1IqlUZay"
      },
      "source": [
        "#### Логистическая Регрессия"
      ]
    },
    {
      "cell_type": "code",
      "execution_count": 27,
      "metadata": {
        "colab": {
          "base_uri": "https://localhost:8080/"
        },
        "id": "e5zoK6K5UZay",
        "outputId": "e0ecc64a-8792-44ed-bf26-1a331a4f6e77"
      },
      "outputs": [
        {
          "output_type": "stream",
          "name": "stdout",
          "text": [
            "Гиперпараметры: {'C': 0.1, 'penalty': 'l2', 'solver': 'liblinear'}\n",
            "F1 мера: 0.49\n",
            "ROC-AUC: 0.76\n"
          ]
        }
      ],
      "source": [
        "parameters = {'penalty': ['l1', 'l2'],\n",
        "              'C': [0.01, 0.1, 1, 10],\n",
        "              'solver': ['liblinear']\n",
        "             }\n",
        "\n",
        "lr = LogisticRegression(max_iter=1000, random_state=12345, class_weight='balanced')\n",
        "lr_gs3 = GridSearchCV(estimator=lr, param_grid=parameters, scoring=['f1', 'roc_auc'], refit='f1')\n",
        "\n",
        "lr_gs3.fit(X_train, y_train)\n",
        "\n",
        "print(f'Гиперпараметры: {lr_gs3.best_params_}')\n",
        "print(f'F1 мера: {lr_gs3.best_score_:.2f}')\n",
        "\n",
        "roc_auc = lr_gs3.cv_results_['mean_test_roc_auc'][lr_gs3.best_index_]\n",
        "print(f'ROC-AUC: {roc_auc:.2f}')"
      ]
    },
    {
      "cell_type": "markdown",
      "metadata": {
        "id": "Bnoo1aTpUZay"
      },
      "source": [
        "#### Дерево решений"
      ]
    },
    {
      "cell_type": "code",
      "execution_count": 28,
      "metadata": {
        "colab": {
          "base_uri": "https://localhost:8080/"
        },
        "id": "P7MaOxehUZay",
        "outputId": "198a12b1-6710-4cbd-a123-70f38ca5b9f7"
      },
      "outputs": [
        {
          "output_type": "stream",
          "name": "stdout",
          "text": [
            "Гиперпараметры: {'criterion': 'gini', 'max_depth': 7}\n",
            "F1: 0.57\n",
            "ROC-AUC: 0.83\n"
          ]
        }
      ],
      "source": [
        "parameters = {'criterion': ['gini', 'entropy'],\n",
        "              'max_depth': [None] + list(range(3, 10, 2))\n",
        "              }\n",
        "\n",
        "dt_clf = DecisionTreeClassifier(random_state=12345, class_weight='balanced')\n",
        "dt_gs3 = GridSearchCV(estimator=dt_clf, param_grid=parameters, scoring=['f1', 'roc_auc'], refit='f1')\n",
        "\n",
        "dt_gs3.fit(X_train, y_train)\n",
        "\n",
        "print(f'Гиперпараметры: {dt_gs3.best_params_}')\n",
        "print(f'F1: {dt_gs3.best_score_:.2f}')\n",
        "\n",
        "roc_auc = dt_gs3.cv_results_['mean_test_roc_auc'][dt_gs3.best_index_]\n",
        "print(f'ROC-AUC: {roc_auc:.2f}')"
      ]
    },
    {
      "cell_type": "markdown",
      "metadata": {
        "id": "tf6_lwCAUZaz"
      },
      "source": [
        "####  Случайный лес"
      ]
    },
    {
      "cell_type": "code",
      "execution_count": 29,
      "metadata": {
        "colab": {
          "base_uri": "https://localhost:8080/"
        },
        "id": "uYA3vZq6UZaz",
        "outputId": "0f6c27c7-53ac-42aa-a7d7-a022f945f046"
      },
      "outputs": [
        {
          "output_type": "stream",
          "name": "stdout",
          "text": [
            "Гиперпараметры: {'max_depth': 27, 'n_estimators': 80}\n",
            "F1: 0.59\n",
            "ROC-AUC: 0.83\n"
          ]
        }
      ],
      "source": [
        "parameters = {'n_estimators': [5] + list(range(10, 50, 10)) + [80, 100],\n",
        "              'max_depth': [None] + list(range(3, 40, 2))\n",
        "             }\n",
        "\n",
        "rf_clf = RandomForestClassifier(random_state=12345, class_weight='balanced')\n",
        "rf_gs3 = GridSearchCV(estimator=rf_clf, param_grid=parameters, scoring=['f1', 'roc_auc'], refit='f1')\n",
        "\n",
        "rf_gs3.fit(X_train, y_train)\n",
        "\n",
        "print(f'Гиперпараметры: {rf_gs3.best_params_}')\n",
        "print(f'F1: {rf_gs3.best_score_:.2f}')\n",
        "\n",
        "roc_auc = rf_gs3.cv_results_['mean_test_roc_auc'][rf_gs3.best_index_]\n",
        "print(f'ROC-AUC: {roc_auc:.2f}')"
      ]
    },
    {
      "cell_type": "markdown",
      "metadata": {
        "id": "rz-6m4hQUZaz"
      },
      "source": [
        "Таким образом, самое высокое значение F1-меры (0.59) на кросс-валидации показала модель случайного леса с 80 деревьями решений с глубиной 27. Значение ROC-AUC для этой модели стало равным 0.83, что является лучшим результатом."
      ]
    },
    {
      "cell_type": "markdown",
      "metadata": {
        "id": "NT5CBYzQUZaz"
      },
      "source": [
        "## Тестирование модели"
      ]
    },
    {
      "cell_type": "code",
      "execution_count": 30,
      "metadata": {
        "colab": {
          "base_uri": "https://localhost:8080/"
        },
        "id": "INJUOB87UZaz",
        "outputId": "b6ce082a-4e3f-4af2-9972-e2d5c5f764b9"
      },
      "outputs": [
        {
          "output_type": "stream",
          "name": "stdout",
          "text": [
            "F1: 0.60\n"
          ]
        }
      ],
      "source": [
        "model = RandomForestClassifier(**rf_gs3.best_params_, random_state=12345, class_weight='balanced')\n",
        "model.fit(X_train, y_train)\n",
        "\n",
        "probabilities = model.predict_proba(X_test)\n",
        "predicted_test = model.predict(X_test)\n",
        "\n",
        "print(f'F1: {f1_score(y_test, predicted_test):.2f}')"
      ]
    },
    {
      "cell_type": "code",
      "execution_count": 31,
      "metadata": {
        "colab": {
          "base_uri": "https://localhost:8080/",
          "height": 718
        },
        "id": "C5eDtm4oUZa0",
        "outputId": "c610d9a3-b7e2-481f-9b08-6ad02bb0fbeb"
      },
      "outputs": [
        {
          "output_type": "display_data",
          "data": {
            "text/plain": [
              "<Figure size 800x800 with 1 Axes>"
            ],
            "image/png": "[encoded data removed]"
          },
          "metadata": {}
        }
      ],
      "source": [
        "fpr, tpr, thresholds = roc_curve(y_test, probabilities[:, 1])\n",
        "\n",
        "plt.figure(figsize=(8, 8))\n",
        "plt.plot(fpr, tpr)\n",
        "\n",
        "plt.plot([0, 1], [0, 1], linestyle='--')\n",
        "plt.xlim([0.0, 1.0])\n",
        "plt.ylim([0.0, 1.0])\n",
        "\n",
        "plt.xlabel(\"False Positive Rate\")\n",
        "plt.ylabel(\"True Positive Rate\")\n",
        "plt.title(\"ROC-кривая\")\n",
        "plt.show()"
      ]
    },
    {
      "cell_type": "code",
      "execution_count": 32,
      "metadata": {
        "colab": {
          "base_uri": "https://localhost:8080/"
        },
        "id": "xbwdnmVZUZa2",
        "outputId": "bd6ec888-5390-4222-8023-c283a9818c6b"
      },
      "outputs": [
        {
          "output_type": "stream",
          "name": "stdout",
          "text": [
            "AUC-ROC: 0.84\n"
          ]
        }
      ],
      "source": [
        "print(f'AUC-ROC: {roc_auc_score(y_test, probabilities[:, 1]):.2f}')"
      ]
    },
    {
      "cell_type": "markdown",
      "metadata": {
        "id": "j9iaIZx5UZa2"
      },
      "source": [
        "В результате была полученая модель с F1-мерой равной 0.6 на тестовой выборке и Auc-roc значением равным 0.84 на тестовой выборке. Эта модель является модель Случайного леса с 80 деревьями решений с глубиной 27."
      ]
    }
  ],
  "metadata": {
    "ExecuteTimeLog": [
      {
        "duration": 386,
        "start_time": "2023-07-11T15:56:27.476Z"
      },
      {
        "duration": 325,
        "start_time": "2023-07-11T15:56:46.260Z"
      },
      {
        "duration": 24,
        "start_time": "2023-07-11T15:56:55.668Z"
      },
      {
        "duration": 16,
        "start_time": "2023-07-11T15:59:05.340Z"
      },
      {
        "duration": 72,
        "start_time": "2023-07-11T16:03:37.688Z"
      },
      {
        "duration": 1297,
        "start_time": "2023-07-11T16:03:49.540Z"
      },
      {
        "duration": 1081,
        "start_time": "2023-07-11T16:03:53.158Z"
      },
      {
        "duration": 8,
        "start_time": "2023-07-11T16:04:38.906Z"
      },
      {
        "duration": 41,
        "start_time": "2023-07-11T16:05:04.983Z"
      },
      {
        "duration": 14,
        "start_time": "2023-07-11T16:05:05.634Z"
      },
      {
        "duration": 14,
        "start_time": "2023-07-11T16:05:06.242Z"
      },
      {
        "duration": 8,
        "start_time": "2023-07-11T16:05:07.387Z"
      },
      {
        "duration": 1032,
        "start_time": "2023-07-11T16:05:08.014Z"
      },
      {
        "duration": 1035,
        "start_time": "2023-07-11T16:08:41.951Z"
      },
      {
        "duration": 13,
        "start_time": "2023-07-11T16:08:53.057Z"
      },
      {
        "duration": 1003,
        "start_time": "2023-07-11T16:08:58.666Z"
      },
      {
        "duration": 7,
        "start_time": "2023-07-11T16:09:19.321Z"
      },
      {
        "duration": 6,
        "start_time": "2023-07-11T16:20:26.981Z"
      },
      {
        "duration": 6,
        "start_time": "2023-07-11T16:20:46.052Z"
      },
      {
        "duration": 5,
        "start_time": "2023-07-11T16:21:56.433Z"
      },
      {
        "duration": 6,
        "start_time": "2023-07-11T16:22:11.508Z"
      },
      {
        "duration": 3,
        "start_time": "2023-07-11T16:22:17.648Z"
      },
      {
        "duration": 37,
        "start_time": "2023-07-11T16:22:19.050Z"
      },
      {
        "duration": 13,
        "start_time": "2023-07-11T16:22:19.503Z"
      },
      {
        "duration": 16,
        "start_time": "2023-07-11T16:22:19.922Z"
      },
      {
        "duration": 7,
        "start_time": "2023-07-11T16:22:21.813Z"
      },
      {
        "duration": 5,
        "start_time": "2023-07-11T16:22:24.834Z"
      },
      {
        "duration": 8,
        "start_time": "2023-07-11T16:22:25.828Z"
      },
      {
        "duration": 8,
        "start_time": "2023-07-11T16:22:30.815Z"
      },
      {
        "duration": 7,
        "start_time": "2023-07-11T16:23:25.678Z"
      },
      {
        "duration": 55,
        "start_time": "2023-07-11T16:23:39.664Z"
      },
      {
        "duration": 6,
        "start_time": "2023-07-11T16:23:44.930Z"
      },
      {
        "duration": 10,
        "start_time": "2023-07-11T16:23:49.660Z"
      },
      {
        "duration": 11,
        "start_time": "2023-07-11T16:26:18.629Z"
      },
      {
        "duration": 5,
        "start_time": "2023-07-11T16:35:49.663Z"
      },
      {
        "duration": 5,
        "start_time": "2023-07-11T16:40:26.228Z"
      },
      {
        "duration": 7,
        "start_time": "2023-07-11T16:40:31.796Z"
      },
      {
        "duration": 11,
        "start_time": "2023-07-11T16:40:38.431Z"
      },
      {
        "duration": 5,
        "start_time": "2023-07-11T16:40:49.722Z"
      },
      {
        "duration": 5,
        "start_time": "2023-07-11T16:43:03.318Z"
      },
      {
        "duration": 3,
        "start_time": "2023-07-11T17:00:37.394Z"
      },
      {
        "duration": 212,
        "start_time": "2023-07-11T17:02:53.902Z"
      },
      {
        "duration": 18,
        "start_time": "2023-07-11T17:03:07.413Z"
      },
      {
        "duration": 910,
        "start_time": "2023-07-11T17:05:55.942Z"
      },
      {
        "duration": 67,
        "start_time": "2023-07-11T17:07:08.751Z"
      },
      {
        "duration": 1603,
        "start_time": "2023-07-11T17:13:35.298Z"
      },
      {
        "duration": 218,
        "start_time": "2023-07-11T17:13:36.903Z"
      },
      {
        "duration": 18,
        "start_time": "2023-07-11T17:13:37.123Z"
      },
      {
        "duration": 18,
        "start_time": "2023-07-11T17:13:37.143Z"
      },
      {
        "duration": 8,
        "start_time": "2023-07-11T17:13:37.163Z"
      },
      {
        "duration": 41,
        "start_time": "2023-07-11T17:13:37.172Z"
      },
      {
        "duration": 43,
        "start_time": "2023-07-11T17:13:37.214Z"
      },
      {
        "duration": 54,
        "start_time": "2023-07-11T17:13:37.259Z"
      },
      {
        "duration": 123,
        "start_time": "2023-07-11T17:13:37.314Z"
      },
      {
        "duration": 0,
        "start_time": "2023-07-11T17:13:37.439Z"
      },
      {
        "duration": 0,
        "start_time": "2023-07-11T17:13:37.441Z"
      },
      {
        "duration": 0,
        "start_time": "2023-07-11T17:13:37.442Z"
      },
      {
        "duration": 1772,
        "start_time": "2023-07-12T07:57:36.738Z"
      },
      {
        "duration": 97,
        "start_time": "2023-07-12T07:57:38.513Z"
      },
      {
        "duration": 21,
        "start_time": "2023-07-12T07:57:38.612Z"
      },
      {
        "duration": 18,
        "start_time": "2023-07-12T07:57:38.635Z"
      },
      {
        "duration": 15,
        "start_time": "2023-07-12T07:57:38.656Z"
      },
      {
        "duration": 11,
        "start_time": "2023-07-12T07:57:38.673Z"
      },
      {
        "duration": 24,
        "start_time": "2023-07-12T07:57:38.686Z"
      },
      {
        "duration": 25,
        "start_time": "2023-07-12T07:57:38.712Z"
      },
      {
        "duration": 130,
        "start_time": "2023-07-12T07:57:38.739Z"
      },
      {
        "duration": 0,
        "start_time": "2023-07-12T07:57:38.871Z"
      },
      {
        "duration": 0,
        "start_time": "2023-07-12T07:57:38.872Z"
      },
      {
        "duration": 0,
        "start_time": "2023-07-12T07:57:38.873Z"
      },
      {
        "duration": 4,
        "start_time": "2023-07-12T07:58:05.296Z"
      },
      {
        "duration": 62,
        "start_time": "2023-07-12T07:58:05.302Z"
      },
      {
        "duration": 14,
        "start_time": "2023-07-12T07:58:05.366Z"
      },
      {
        "duration": 19,
        "start_time": "2023-07-12T07:58:05.382Z"
      },
      {
        "duration": 7,
        "start_time": "2023-07-12T07:58:05.403Z"
      },
      {
        "duration": 16,
        "start_time": "2023-07-12T07:58:05.412Z"
      },
      {
        "duration": 13,
        "start_time": "2023-07-12T07:58:05.430Z"
      },
      {
        "duration": 18,
        "start_time": "2023-07-12T07:58:05.445Z"
      },
      {
        "duration": 1094,
        "start_time": "2023-07-12T07:58:05.465Z"
      },
      {
        "duration": 215,
        "start_time": "2023-07-12T07:58:06.561Z"
      },
      {
        "duration": 19,
        "start_time": "2023-07-12T07:58:06.779Z"
      },
      {
        "duration": 93,
        "start_time": "2023-07-12T07:58:06.809Z"
      },
      {
        "duration": 16,
        "start_time": "2023-07-12T07:59:15.840Z"
      },
      {
        "duration": 11,
        "start_time": "2023-07-12T07:59:23.144Z"
      },
      {
        "duration": 9,
        "start_time": "2023-07-12T07:59:55.398Z"
      },
      {
        "duration": 14,
        "start_time": "2023-07-12T08:02:01.352Z"
      },
      {
        "duration": 0,
        "start_time": "2023-07-12T08:04:29.613Z"
      },
      {
        "duration": 5,
        "start_time": "2023-07-12T08:05:19.959Z"
      },
      {
        "duration": 60,
        "start_time": "2023-07-12T08:05:19.967Z"
      },
      {
        "duration": 15,
        "start_time": "2023-07-12T08:05:20.029Z"
      },
      {
        "duration": 37,
        "start_time": "2023-07-12T08:05:20.046Z"
      },
      {
        "duration": 20,
        "start_time": "2023-07-12T08:05:20.086Z"
      },
      {
        "duration": 18,
        "start_time": "2023-07-12T08:05:20.108Z"
      },
      {
        "duration": 12,
        "start_time": "2023-07-12T08:05:20.128Z"
      },
      {
        "duration": 17,
        "start_time": "2023-07-12T08:05:20.142Z"
      },
      {
        "duration": 1000,
        "start_time": "2023-07-12T08:05:20.161Z"
      },
      {
        "duration": 258,
        "start_time": "2023-07-12T08:05:21.163Z"
      },
      {
        "duration": 21,
        "start_time": "2023-07-12T08:05:21.423Z"
      },
      {
        "duration": 82,
        "start_time": "2023-07-12T08:05:21.446Z"
      },
      {
        "duration": 8,
        "start_time": "2023-07-12T08:05:24.732Z"
      },
      {
        "duration": 19,
        "start_time": "2023-07-12T08:05:34.451Z"
      },
      {
        "duration": 12,
        "start_time": "2023-07-12T08:05:41.965Z"
      },
      {
        "duration": 17,
        "start_time": "2023-07-12T08:06:06.825Z"
      },
      {
        "duration": 34799,
        "start_time": "2023-07-12T08:06:23.099Z"
      },
      {
        "duration": 9,
        "start_time": "2023-07-12T08:07:15.257Z"
      },
      {
        "duration": 127,
        "start_time": "2023-07-12T08:07:28.922Z"
      },
      {
        "duration": 22,
        "start_time": "2023-07-12T08:07:47.562Z"
      },
      {
        "duration": 6,
        "start_time": "2023-07-12T08:08:15.867Z"
      },
      {
        "duration": 124,
        "start_time": "2023-07-12T08:08:23.472Z"
      },
      {
        "duration": 31041,
        "start_time": "2023-07-12T08:08:44.611Z"
      },
      {
        "duration": 0,
        "start_time": "2023-07-12T08:09:15.654Z"
      },
      {
        "duration": 6,
        "start_time": "2023-07-12T08:09:17.946Z"
      },
      {
        "duration": 6,
        "start_time": "2023-07-12T08:09:50.380Z"
      },
      {
        "duration": 6,
        "start_time": "2023-07-12T08:10:11.474Z"
      },
      {
        "duration": 7,
        "start_time": "2023-07-12T08:10:23.629Z"
      },
      {
        "duration": 6,
        "start_time": "2023-07-12T08:10:40.825Z"
      },
      {
        "duration": 88,
        "start_time": "2023-07-12T08:10:42.527Z"
      },
      {
        "duration": 88,
        "start_time": "2023-07-12T08:11:12.990Z"
      },
      {
        "duration": 84,
        "start_time": "2023-07-12T08:11:40.462Z"
      },
      {
        "duration": 94,
        "start_time": "2023-07-12T08:12:11.040Z"
      },
      {
        "duration": 82,
        "start_time": "2023-07-12T08:12:18.735Z"
      },
      {
        "duration": 83,
        "start_time": "2023-07-12T08:12:40.787Z"
      },
      {
        "duration": 127,
        "start_time": "2023-07-12T08:12:45.917Z"
      },
      {
        "duration": 86,
        "start_time": "2023-07-12T08:12:49.524Z"
      },
      {
        "duration": 100,
        "start_time": "2023-07-12T08:14:08.615Z"
      },
      {
        "duration": 173,
        "start_time": "2023-07-12T08:14:50.747Z"
      },
      {
        "duration": 147,
        "start_time": "2023-07-12T08:15:06.767Z"
      },
      {
        "duration": 168,
        "start_time": "2023-07-12T08:15:12.256Z"
      },
      {
        "duration": 45,
        "start_time": "2023-07-12T08:23:19.677Z"
      },
      {
        "duration": 183,
        "start_time": "2023-07-12T08:23:20.969Z"
      },
      {
        "duration": 65,
        "start_time": "2023-07-12T08:23:22.939Z"
      },
      {
        "duration": 77,
        "start_time": "2023-07-12T08:25:29.325Z"
      },
      {
        "duration": 586,
        "start_time": "2023-07-12T08:27:20.831Z"
      },
      {
        "duration": 74,
        "start_time": "2023-07-12T08:27:27.674Z"
      },
      {
        "duration": 566,
        "start_time": "2023-07-12T08:27:28.351Z"
      },
      {
        "duration": 6,
        "start_time": "2023-07-12T08:31:21.478Z"
      },
      {
        "duration": 5,
        "start_time": "2023-07-12T08:31:41.753Z"
      },
      {
        "duration": 61,
        "start_time": "2023-07-12T08:31:41.761Z"
      },
      {
        "duration": 15,
        "start_time": "2023-07-12T08:31:41.825Z"
      },
      {
        "duration": 21,
        "start_time": "2023-07-12T08:31:41.843Z"
      },
      {
        "duration": 13,
        "start_time": "2023-07-12T08:31:41.866Z"
      },
      {
        "duration": 9,
        "start_time": "2023-07-12T08:31:41.881Z"
      },
      {
        "duration": 22,
        "start_time": "2023-07-12T08:31:41.909Z"
      },
      {
        "duration": 26,
        "start_time": "2023-07-12T08:31:41.933Z"
      },
      {
        "duration": 1101,
        "start_time": "2023-07-12T08:31:41.962Z"
      },
      {
        "duration": 211,
        "start_time": "2023-07-12T08:31:43.066Z"
      },
      {
        "duration": 47,
        "start_time": "2023-07-12T08:31:43.279Z"
      },
      {
        "duration": 48,
        "start_time": "2023-07-12T08:31:43.328Z"
      },
      {
        "duration": 182,
        "start_time": "2023-07-12T08:31:43.378Z"
      },
      {
        "duration": 88,
        "start_time": "2023-07-12T08:31:43.562Z"
      },
      {
        "duration": 585,
        "start_time": "2023-07-12T08:31:43.652Z"
      },
      {
        "duration": 77,
        "start_time": "2023-07-12T08:31:44.241Z"
      },
      {
        "duration": 8,
        "start_time": "2023-07-12T08:32:25.872Z"
      },
      {
        "duration": 717,
        "start_time": "2023-07-12T09:00:50.894Z"
      },
      {
        "duration": 4,
        "start_time": "2023-07-12T09:01:19.935Z"
      },
      {
        "duration": 657,
        "start_time": "2023-07-12T09:01:32.565Z"
      },
      {
        "duration": 4,
        "start_time": "2023-07-12T09:10:44.654Z"
      },
      {
        "duration": 5,
        "start_time": "2023-07-12T09:11:42.794Z"
      },
      {
        "duration": 77,
        "start_time": "2023-07-12T09:11:43.648Z"
      },
      {
        "duration": 6,
        "start_time": "2023-07-12T09:11:54.427Z"
      },
      {
        "duration": 12,
        "start_time": "2023-07-12T09:12:05.293Z"
      },
      {
        "duration": 10,
        "start_time": "2023-07-12T09:12:09.175Z"
      },
      {
        "duration": 8,
        "start_time": "2023-07-12T09:12:14.460Z"
      },
      {
        "duration": 71,
        "start_time": "2023-07-12T09:12:18.139Z"
      },
      {
        "duration": 8,
        "start_time": "2023-07-12T09:12:18.861Z"
      },
      {
        "duration": 100,
        "start_time": "2023-07-12T09:12:22.544Z"
      },
      {
        "duration": 7,
        "start_time": "2023-07-12T09:12:23.133Z"
      },
      {
        "duration": 4,
        "start_time": "2023-07-12T09:12:25.679Z"
      },
      {
        "duration": 126,
        "start_time": "2023-07-12T09:12:26.285Z"
      },
      {
        "duration": 7,
        "start_time": "2023-07-12T09:12:26.845Z"
      },
      {
        "duration": 5,
        "start_time": "2023-07-12T09:12:57.275Z"
      },
      {
        "duration": 81,
        "start_time": "2023-07-12T09:12:57.839Z"
      },
      {
        "duration": 7,
        "start_time": "2023-07-12T09:12:58.439Z"
      },
      {
        "duration": 78,
        "start_time": "2023-07-12T09:13:02.196Z"
      },
      {
        "duration": 7,
        "start_time": "2023-07-12T09:13:02.783Z"
      },
      {
        "duration": 80,
        "start_time": "2023-07-12T09:13:06.039Z"
      },
      {
        "duration": 7,
        "start_time": "2023-07-12T09:13:06.563Z"
      },
      {
        "duration": 79,
        "start_time": "2023-07-12T09:13:09.241Z"
      },
      {
        "duration": 7,
        "start_time": "2023-07-12T09:13:09.688Z"
      },
      {
        "duration": 223,
        "start_time": "2023-07-12T09:14:18.587Z"
      },
      {
        "duration": 343,
        "start_time": "2023-07-12T09:14:41.374Z"
      },
      {
        "duration": 553,
        "start_time": "2023-07-12T09:14:59.376Z"
      },
      {
        "duration": 4,
        "start_time": "2023-07-12T09:15:05.544Z"
      },
      {
        "duration": 58,
        "start_time": "2023-07-12T09:15:05.550Z"
      },
      {
        "duration": 14,
        "start_time": "2023-07-12T09:15:05.610Z"
      },
      {
        "duration": 30,
        "start_time": "2023-07-12T09:15:05.626Z"
      },
      {
        "duration": 15,
        "start_time": "2023-07-12T09:15:05.658Z"
      },
      {
        "duration": 12,
        "start_time": "2023-07-12T09:15:05.675Z"
      },
      {
        "duration": 14,
        "start_time": "2023-07-12T09:15:05.688Z"
      },
      {
        "duration": 24,
        "start_time": "2023-07-12T09:15:05.703Z"
      },
      {
        "duration": 1053,
        "start_time": "2023-07-12T09:15:05.729Z"
      },
      {
        "duration": 242,
        "start_time": "2023-07-12T09:15:06.784Z"
      },
      {
        "duration": 21,
        "start_time": "2023-07-12T09:15:07.028Z"
      },
      {
        "duration": 78,
        "start_time": "2023-07-12T09:15:07.051Z"
      },
      {
        "duration": 180,
        "start_time": "2023-07-12T09:15:07.131Z"
      },
      {
        "duration": 69,
        "start_time": "2023-07-12T09:15:07.314Z"
      },
      {
        "duration": 632,
        "start_time": "2023-07-12T09:15:07.385Z"
      },
      {
        "duration": 6,
        "start_time": "2023-07-12T09:15:08.109Z"
      },
      {
        "duration": 6,
        "start_time": "2023-07-12T09:15:08.117Z"
      },
      {
        "duration": 98,
        "start_time": "2023-07-12T09:15:08.125Z"
      },
      {
        "duration": 7,
        "start_time": "2023-07-12T09:15:08.225Z"
      },
      {
        "duration": 297,
        "start_time": "2023-07-12T09:15:08.234Z"
      },
      {
        "duration": 570,
        "start_time": "2023-07-12T09:15:20.640Z"
      },
      {
        "duration": 279,
        "start_time": "2023-07-12T09:16:05.935Z"
      },
      {
        "duration": 270,
        "start_time": "2023-07-12T09:16:09.747Z"
      },
      {
        "duration": 324,
        "start_time": "2023-07-12T09:16:13.985Z"
      },
      {
        "duration": 6,
        "start_time": "2023-07-12T09:21:06.492Z"
      },
      {
        "duration": 3,
        "start_time": "2023-07-12T09:22:03.283Z"
      },
      {
        "duration": 28936,
        "start_time": "2023-07-12T09:28:31.347Z"
      },
      {
        "duration": 18848,
        "start_time": "2023-07-12T09:30:22.623Z"
      },
      {
        "duration": 9500,
        "start_time": "2023-07-12T09:33:50.540Z"
      },
      {
        "duration": 9542,
        "start_time": "2023-07-12T09:34:34.540Z"
      },
      {
        "duration": 12868,
        "start_time": "2023-07-12T09:34:53.336Z"
      },
      {
        "duration": 23716,
        "start_time": "2023-07-12T09:35:51.497Z"
      },
      {
        "duration": 719798,
        "start_time": "2023-07-12T09:36:49.488Z"
      },
      {
        "duration": 2068,
        "start_time": "2023-07-12T10:00:18.835Z"
      },
      {
        "duration": 47,
        "start_time": "2023-07-12T10:00:20.908Z"
      },
      {
        "duration": 33,
        "start_time": "2023-07-12T10:00:20.957Z"
      },
      {
        "duration": 47,
        "start_time": "2023-07-12T10:00:20.992Z"
      },
      {
        "duration": 20,
        "start_time": "2023-07-12T10:00:21.042Z"
      },
      {
        "duration": 23,
        "start_time": "2023-07-12T10:00:21.064Z"
      },
      {
        "duration": 25,
        "start_time": "2023-07-12T10:00:21.089Z"
      },
      {
        "duration": 22,
        "start_time": "2023-07-12T10:00:21.116Z"
      },
      {
        "duration": 1090,
        "start_time": "2023-07-12T10:00:21.141Z"
      },
      {
        "duration": 234,
        "start_time": "2023-07-12T10:00:22.235Z"
      },
      {
        "duration": 23,
        "start_time": "2023-07-12T10:00:22.471Z"
      },
      {
        "duration": 85,
        "start_time": "2023-07-12T10:00:22.497Z"
      },
      {
        "duration": 200,
        "start_time": "2023-07-12T10:00:22.583Z"
      },
      {
        "duration": 78,
        "start_time": "2023-07-12T10:00:22.785Z"
      },
      {
        "duration": 589,
        "start_time": "2023-07-12T10:00:22.865Z"
      },
      {
        "duration": 7,
        "start_time": "2023-07-12T10:00:23.510Z"
      },
      {
        "duration": 118,
        "start_time": "2023-07-12T10:00:23.519Z"
      },
      {
        "duration": 130,
        "start_time": "2023-07-12T10:00:23.640Z"
      },
      {
        "duration": 8,
        "start_time": "2023-07-12T10:00:23.772Z"
      },
      {
        "duration": 551,
        "start_time": "2023-07-12T10:00:23.782Z"
      },
      {
        "duration": 82,
        "start_time": "2023-07-12T10:00:24.335Z"
      },
      {
        "duration": 30615,
        "start_time": "2023-07-12T10:00:24.419Z"
      },
      {
        "duration": 332843,
        "start_time": "2023-07-12T10:00:55.036Z"
      },
      {
        "duration": 834,
        "start_time": "2023-07-12T10:06:27.881Z"
      },
      {
        "duration": 112,
        "start_time": "2023-07-12T10:06:28.717Z"
      },
      {
        "duration": 328,
        "start_time": "2023-07-12T10:06:55.282Z"
      },
      {
        "duration": 261,
        "start_time": "2023-07-12T10:07:21.732Z"
      },
      {
        "duration": 576,
        "start_time": "2023-07-12T10:07:40.543Z"
      },
      {
        "duration": 268,
        "start_time": "2023-07-12T10:08:09.482Z"
      },
      {
        "duration": 260,
        "start_time": "2023-07-12T10:08:16.158Z"
      },
      {
        "duration": 98008,
        "start_time": "2023-07-12T10:08:57.853Z"
      },
      {
        "duration": 642,
        "start_time": "2023-07-12T10:10:44.086Z"
      },
      {
        "duration": 97025,
        "start_time": "2023-07-12T10:11:04.949Z"
      },
      {
        "duration": 690,
        "start_time": "2023-07-12T10:12:41.977Z"
      },
      {
        "duration": 334917,
        "start_time": "2023-07-12T10:12:53.982Z"
      },
      {
        "duration": 803,
        "start_time": "2023-07-12T10:21:27.074Z"
      },
      {
        "duration": 283,
        "start_time": "2023-07-12T10:22:17.970Z"
      },
      {
        "duration": 714519,
        "start_time": "2023-07-12T10:22:48.464Z"
      },
      {
        "duration": 715,
        "start_time": "2023-07-12T10:34:42.985Z"
      },
      {
        "duration": 1688,
        "start_time": "2023-07-12T10:45:22.022Z"
      },
      {
        "duration": 55,
        "start_time": "2023-07-12T10:45:23.712Z"
      },
      {
        "duration": 21,
        "start_time": "2023-07-12T10:45:23.771Z"
      },
      {
        "duration": 26,
        "start_time": "2023-07-12T10:45:23.795Z"
      },
      {
        "duration": 18,
        "start_time": "2023-07-12T10:45:23.826Z"
      },
      {
        "duration": 7,
        "start_time": "2023-07-12T10:45:23.846Z"
      },
      {
        "duration": 19,
        "start_time": "2023-07-12T10:45:23.855Z"
      },
      {
        "duration": 14,
        "start_time": "2023-07-12T10:45:23.877Z"
      },
      {
        "duration": 1086,
        "start_time": "2023-07-12T10:45:23.893Z"
      },
      {
        "duration": 239,
        "start_time": "2023-07-12T10:45:24.981Z"
      },
      {
        "duration": 38,
        "start_time": "2023-07-12T10:45:25.223Z"
      },
      {
        "duration": 80,
        "start_time": "2023-07-12T10:45:25.263Z"
      },
      {
        "duration": 192,
        "start_time": "2023-07-12T10:45:25.345Z"
      },
      {
        "duration": 88,
        "start_time": "2023-07-12T10:45:25.540Z"
      },
      {
        "duration": 683,
        "start_time": "2023-07-12T10:45:25.630Z"
      },
      {
        "duration": 13,
        "start_time": "2023-07-12T10:45:26.317Z"
      },
      {
        "duration": 106,
        "start_time": "2023-07-12T10:45:26.334Z"
      },
      {
        "duration": 106,
        "start_time": "2023-07-12T10:45:26.442Z"
      },
      {
        "duration": 8,
        "start_time": "2023-07-12T10:45:26.550Z"
      },
      {
        "duration": 552,
        "start_time": "2023-07-12T10:45:26.560Z"
      },
      {
        "duration": 98310,
        "start_time": "2023-07-12T10:45:27.115Z"
      },
      {
        "duration": 753166,
        "start_time": "2023-07-12T10:47:05.428Z"
      },
      {
        "duration": 725,
        "start_time": "2023-07-12T10:59:38.596Z"
      },
      {
        "duration": 29971,
        "start_time": "2023-07-12T11:15:17.383Z"
      },
      {
        "duration": 344721,
        "start_time": "2023-07-12T11:15:47.357Z"
      },
      {
        "duration": 615,
        "start_time": "2023-07-12T11:21:32.081Z"
      },
      {
        "duration": 585,
        "start_time": "2023-07-12T11:24:47.724Z"
      },
      {
        "duration": 279,
        "start_time": "2023-07-12T11:25:03.945Z"
      },
      {
        "duration": 271,
        "start_time": "2023-07-12T11:25:10.766Z"
      },
      {
        "duration": 273,
        "start_time": "2023-07-12T11:25:17.095Z"
      },
      {
        "duration": 265,
        "start_time": "2023-07-12T11:25:56.889Z"
      },
      {
        "duration": 313,
        "start_time": "2023-07-12T11:26:02.311Z"
      },
      {
        "duration": 800,
        "start_time": "2023-07-12T11:26:52.532Z"
      },
      {
        "duration": 821,
        "start_time": "2023-07-12T11:27:00.318Z"
      },
      {
        "duration": 1612,
        "start_time": "2023-07-12T11:27:11.709Z"
      },
      {
        "duration": 903,
        "start_time": "2023-07-12T11:27:20.096Z"
      },
      {
        "duration": 1564,
        "start_time": "2023-07-12T11:27:34.066Z"
      },
      {
        "duration": 806,
        "start_time": "2023-07-12T11:27:44.035Z"
      },
      {
        "duration": 273,
        "start_time": "2023-07-12T11:28:03.136Z"
      },
      {
        "duration": 259,
        "start_time": "2023-07-12T11:29:52.582Z"
      },
      {
        "duration": 599,
        "start_time": "2023-07-12T11:29:58.900Z"
      },
      {
        "duration": 209,
        "start_time": "2023-07-12T11:30:18.320Z"
      },
      {
        "duration": 263,
        "start_time": "2023-07-12T11:30:30.105Z"
      },
      {
        "duration": 4,
        "start_time": "2023-07-12T11:32:56.272Z"
      },
      {
        "duration": 74,
        "start_time": "2023-07-12T11:32:56.278Z"
      },
      {
        "duration": 20,
        "start_time": "2023-07-12T11:32:56.354Z"
      },
      {
        "duration": 51,
        "start_time": "2023-07-12T11:32:56.376Z"
      },
      {
        "duration": 61,
        "start_time": "2023-07-12T11:32:56.430Z"
      },
      {
        "duration": 45,
        "start_time": "2023-07-12T11:32:56.493Z"
      },
      {
        "duration": 53,
        "start_time": "2023-07-12T11:32:56.541Z"
      },
      {
        "duration": 35,
        "start_time": "2023-07-12T11:32:56.597Z"
      },
      {
        "duration": 1053,
        "start_time": "2023-07-12T11:32:56.636Z"
      },
      {
        "duration": 220,
        "start_time": "2023-07-12T11:32:57.691Z"
      },
      {
        "duration": 22,
        "start_time": "2023-07-12T11:32:57.913Z"
      },
      {
        "duration": 82,
        "start_time": "2023-07-12T11:32:57.937Z"
      },
      {
        "duration": 182,
        "start_time": "2023-07-12T11:32:58.021Z"
      },
      {
        "duration": 66,
        "start_time": "2023-07-12T11:32:58.208Z"
      },
      {
        "duration": 570,
        "start_time": "2023-07-12T11:32:58.276Z"
      },
      {
        "duration": 6,
        "start_time": "2023-07-12T11:32:58.910Z"
      },
      {
        "duration": 91,
        "start_time": "2023-07-12T11:32:58.919Z"
      },
      {
        "duration": 21,
        "start_time": "2023-07-12T11:32:59.012Z"
      },
      {
        "duration": 5,
        "start_time": "2023-07-12T11:33:01.399Z"
      },
      {
        "duration": 150,
        "start_time": "2023-07-12T11:33:02.050Z"
      },
      {
        "duration": 7,
        "start_time": "2023-07-12T11:33:03.246Z"
      },
      {
        "duration": 1162,
        "start_time": "2023-07-12T11:33:06.551Z"
      },
      {
        "duration": 149537,
        "start_time": "2023-07-12T11:33:12.516Z"
      },
      {
        "duration": 1092928,
        "start_time": "2023-07-12T11:35:42.056Z"
      },
      {
        "duration": 1434,
        "start_time": "2023-07-12T11:53:54.986Z"
      },
      {
        "duration": 972,
        "start_time": "2023-07-12T11:59:19.143Z"
      },
      {
        "duration": 1418,
        "start_time": "2023-07-12T11:59:25.406Z"
      },
      {
        "duration": 5,
        "start_time": "2023-07-12T12:01:11.398Z"
      },
      {
        "duration": 51,
        "start_time": "2023-07-12T12:01:11.405Z"
      },
      {
        "duration": 15,
        "start_time": "2023-07-12T12:01:11.458Z"
      },
      {
        "duration": 24,
        "start_time": "2023-07-12T12:01:11.475Z"
      },
      {
        "duration": 14,
        "start_time": "2023-07-12T12:01:11.502Z"
      },
      {
        "duration": 11,
        "start_time": "2023-07-12T12:01:11.518Z"
      },
      {
        "duration": 11,
        "start_time": "2023-07-12T12:01:11.531Z"
      },
      {
        "duration": 29,
        "start_time": "2023-07-12T12:01:11.544Z"
      },
      {
        "duration": 1143,
        "start_time": "2023-07-12T12:01:11.575Z"
      },
      {
        "duration": 210,
        "start_time": "2023-07-12T12:01:12.720Z"
      },
      {
        "duration": 22,
        "start_time": "2023-07-12T12:01:12.933Z"
      },
      {
        "duration": 71,
        "start_time": "2023-07-12T12:01:12.957Z"
      },
      {
        "duration": 181,
        "start_time": "2023-07-12T12:01:13.031Z"
      },
      {
        "duration": 64,
        "start_time": "2023-07-12T12:01:13.215Z"
      },
      {
        "duration": 631,
        "start_time": "2023-07-12T12:01:13.282Z"
      },
      {
        "duration": 96,
        "start_time": "2023-07-12T12:01:13.914Z"
      },
      {
        "duration": 108,
        "start_time": "2023-07-12T12:01:14.012Z"
      },
      {
        "duration": 96,
        "start_time": "2023-07-12T12:01:14.122Z"
      },
      {
        "duration": 7,
        "start_time": "2023-07-12T12:01:14.220Z"
      },
      {
        "duration": 583,
        "start_time": "2023-07-12T12:01:14.228Z"
      },
      {
        "duration": 221,
        "start_time": "2023-07-12T12:01:14.815Z"
      },
      {
        "duration": 0,
        "start_time": "2023-07-12T12:01:15.039Z"
      },
      {
        "duration": 0,
        "start_time": "2023-07-12T12:01:15.041Z"
      },
      {
        "duration": 98394,
        "start_time": "2023-07-12T12:01:35.158Z"
      },
      {
        "duration": 756616,
        "start_time": "2023-07-12T12:03:13.555Z"
      },
      {
        "duration": 671,
        "start_time": "2023-07-12T12:15:50.173Z"
      },
      {
        "duration": 669,
        "start_time": "2023-07-12T12:16:02.477Z"
      },
      {
        "duration": 662,
        "start_time": "2023-07-12T12:16:26.287Z"
      },
      {
        "duration": 704,
        "start_time": "2023-07-12T12:16:31.794Z"
      },
      {
        "duration": 5,
        "start_time": "2023-07-12T12:17:17.656Z"
      },
      {
        "duration": 70,
        "start_time": "2023-07-12T12:17:17.663Z"
      },
      {
        "duration": 15,
        "start_time": "2023-07-12T12:17:17.736Z"
      },
      {
        "duration": 22,
        "start_time": "2023-07-12T12:17:17.752Z"
      },
      {
        "duration": 54,
        "start_time": "2023-07-12T12:17:17.776Z"
      },
      {
        "duration": 46,
        "start_time": "2023-07-12T12:17:17.832Z"
      },
      {
        "duration": 26,
        "start_time": "2023-07-12T12:17:17.880Z"
      },
      {
        "duration": 37,
        "start_time": "2023-07-12T12:17:17.908Z"
      },
      {
        "duration": 1082,
        "start_time": "2023-07-12T12:17:17.947Z"
      },
      {
        "duration": 212,
        "start_time": "2023-07-12T12:17:19.031Z"
      },
      {
        "duration": 21,
        "start_time": "2023-07-12T12:17:19.246Z"
      },
      {
        "duration": 72,
        "start_time": "2023-07-12T12:17:19.269Z"
      },
      {
        "duration": 210,
        "start_time": "2023-07-12T12:17:19.344Z"
      },
      {
        "duration": 79,
        "start_time": "2023-07-12T12:17:19.556Z"
      },
      {
        "duration": 586,
        "start_time": "2023-07-12T12:17:19.637Z"
      },
      {
        "duration": 7,
        "start_time": "2023-07-12T12:17:20.225Z"
      },
      {
        "duration": 115,
        "start_time": "2023-07-12T12:17:20.311Z"
      },
      {
        "duration": 93,
        "start_time": "2023-07-12T12:17:20.428Z"
      },
      {
        "duration": 9,
        "start_time": "2023-07-12T12:17:20.524Z"
      },
      {
        "duration": 581,
        "start_time": "2023-07-12T12:17:20.534Z"
      },
      {
        "duration": 96218,
        "start_time": "2023-07-12T12:17:21.121Z"
      },
      {
        "duration": 402030,
        "start_time": "2023-07-12T12:18:57.341Z"
      },
      {
        "duration": 0,
        "start_time": "2023-07-12T12:25:39.374Z"
      },
      {
        "duration": 0,
        "start_time": "2023-07-12T12:25:39.376Z"
      },
      {
        "duration": 0,
        "start_time": "2023-07-12T12:25:39.378Z"
      },
      {
        "duration": 5,
        "start_time": "2023-07-12T12:25:45.002Z"
      },
      {
        "duration": 115,
        "start_time": "2023-07-12T12:25:45.010Z"
      },
      {
        "duration": 17,
        "start_time": "2023-07-12T12:25:45.127Z"
      },
      {
        "duration": 47,
        "start_time": "2023-07-12T12:25:45.146Z"
      },
      {
        "duration": 17,
        "start_time": "2023-07-12T12:25:45.197Z"
      },
      {
        "duration": 10,
        "start_time": "2023-07-12T12:25:45.224Z"
      },
      {
        "duration": 49,
        "start_time": "2023-07-12T12:25:45.236Z"
      },
      {
        "duration": 34,
        "start_time": "2023-07-12T12:25:45.288Z"
      },
      {
        "duration": 1272,
        "start_time": "2023-07-12T12:25:45.323Z"
      },
      {
        "duration": 210,
        "start_time": "2023-07-12T12:25:46.609Z"
      },
      {
        "duration": 32,
        "start_time": "2023-07-12T12:25:46.822Z"
      },
      {
        "duration": 110,
        "start_time": "2023-07-12T12:25:46.856Z"
      },
      {
        "duration": 186,
        "start_time": "2023-07-12T12:25:46.968Z"
      },
      {
        "duration": 111,
        "start_time": "2023-07-12T12:25:47.158Z"
      },
      {
        "duration": 640,
        "start_time": "2023-07-12T12:25:47.271Z"
      },
      {
        "duration": 24,
        "start_time": "2023-07-12T12:25:47.912Z"
      },
      {
        "duration": 109,
        "start_time": "2023-07-12T12:25:47.937Z"
      },
      {
        "duration": 89,
        "start_time": "2023-07-12T12:25:48.048Z"
      },
      {
        "duration": 8,
        "start_time": "2023-07-12T12:25:48.139Z"
      },
      {
        "duration": 566,
        "start_time": "2023-07-12T12:25:48.150Z"
      },
      {
        "duration": 111686,
        "start_time": "2023-07-12T12:26:07.059Z"
      },
      {
        "duration": 5,
        "start_time": "2023-07-12T12:28:08.048Z"
      },
      {
        "duration": 172,
        "start_time": "2023-07-12T12:28:08.056Z"
      },
      {
        "duration": 16,
        "start_time": "2023-07-12T12:28:08.230Z"
      },
      {
        "duration": 168,
        "start_time": "2023-07-12T12:28:08.248Z"
      },
      {
        "duration": 34,
        "start_time": "2023-07-12T12:28:08.424Z"
      },
      {
        "duration": 39,
        "start_time": "2023-07-12T12:28:08.460Z"
      },
      {
        "duration": 36,
        "start_time": "2023-07-12T12:28:08.501Z"
      },
      {
        "duration": 51,
        "start_time": "2023-07-12T12:28:08.539Z"
      },
      {
        "duration": 1105,
        "start_time": "2023-07-12T12:28:08.592Z"
      },
      {
        "duration": 269,
        "start_time": "2023-07-12T12:28:09.700Z"
      },
      {
        "duration": 43,
        "start_time": "2023-07-12T12:28:09.971Z"
      },
      {
        "duration": 72,
        "start_time": "2023-07-12T12:28:10.021Z"
      },
      {
        "duration": 174,
        "start_time": "2023-07-12T12:28:10.095Z"
      },
      {
        "duration": 77,
        "start_time": "2023-07-12T12:28:10.272Z"
      },
      {
        "duration": 664,
        "start_time": "2023-07-12T12:28:10.351Z"
      },
      {
        "duration": 8,
        "start_time": "2023-07-12T12:28:11.017Z"
      },
      {
        "duration": 104,
        "start_time": "2023-07-12T12:28:11.028Z"
      },
      {
        "duration": 115,
        "start_time": "2023-07-12T12:28:11.134Z"
      },
      {
        "duration": 8,
        "start_time": "2023-07-12T12:28:11.252Z"
      },
      {
        "duration": 563,
        "start_time": "2023-07-12T12:28:11.262Z"
      },
      {
        "duration": 175845,
        "start_time": "2023-07-12T12:28:22.856Z"
      },
      {
        "duration": 648260,
        "start_time": "2023-07-12T12:31:18.710Z"
      },
      {
        "duration": 0,
        "start_time": "2023-07-12T12:42:06.972Z"
      },
      {
        "duration": 0,
        "start_time": "2023-07-12T12:42:06.974Z"
      },
      {
        "duration": 0,
        "start_time": "2023-07-12T12:42:06.975Z"
      },
      {
        "duration": 28928,
        "start_time": "2023-07-12T12:42:59.861Z"
      },
      {
        "duration": 677,
        "start_time": "2023-07-12T12:44:04.626Z"
      },
      {
        "duration": 159,
        "start_time": "2023-07-12T12:44:07.598Z"
      },
      {
        "duration": 650,
        "start_time": "2023-07-12T12:44:38.255Z"
      },
      {
        "duration": 5,
        "start_time": "2023-07-12T12:48:42.739Z"
      },
      {
        "duration": 61,
        "start_time": "2023-07-12T12:48:42.755Z"
      },
      {
        "duration": 17,
        "start_time": "2023-07-12T12:48:42.819Z"
      },
      {
        "duration": 44,
        "start_time": "2023-07-12T12:48:42.838Z"
      },
      {
        "duration": 29,
        "start_time": "2023-07-12T12:48:42.883Z"
      },
      {
        "duration": 41,
        "start_time": "2023-07-12T12:48:42.916Z"
      },
      {
        "duration": 36,
        "start_time": "2023-07-12T12:48:42.959Z"
      },
      {
        "duration": 58,
        "start_time": "2023-07-12T12:48:42.998Z"
      },
      {
        "duration": 1173,
        "start_time": "2023-07-12T12:48:43.058Z"
      },
      {
        "duration": 221,
        "start_time": "2023-07-12T12:48:44.233Z"
      },
      {
        "duration": 23,
        "start_time": "2023-07-12T12:48:44.456Z"
      },
      {
        "duration": 76,
        "start_time": "2023-07-12T12:48:44.480Z"
      },
      {
        "duration": 355,
        "start_time": "2023-07-12T12:48:44.559Z"
      },
      {
        "duration": 74,
        "start_time": "2023-07-12T12:48:44.915Z"
      },
      {
        "duration": 630,
        "start_time": "2023-07-12T12:48:44.993Z"
      },
      {
        "duration": 8,
        "start_time": "2023-07-12T12:48:45.629Z"
      },
      {
        "duration": 31,
        "start_time": "2023-07-12T12:48:45.710Z"
      },
      {
        "duration": 144,
        "start_time": "2023-07-12T12:48:45.744Z"
      },
      {
        "duration": 18,
        "start_time": "2023-07-12T12:48:45.891Z"
      },
      {
        "duration": 604,
        "start_time": "2023-07-12T12:48:45.913Z"
      },
      {
        "duration": 87852,
        "start_time": "2023-07-12T12:48:46.519Z"
      },
      {
        "duration": 28319,
        "start_time": "2023-07-12T12:50:14.374Z"
      },
      {
        "duration": 667,
        "start_time": "2023-07-12T12:50:42.695Z"
      },
      {
        "duration": 169,
        "start_time": "2023-07-12T12:50:43.364Z"
      },
      {
        "duration": 9,
        "start_time": "2023-07-12T12:50:43.535Z"
      },
      {
        "duration": 75590,
        "start_time": "2023-07-12T12:50:43.547Z"
      },
      {
        "duration": 650,
        "start_time": "2023-07-12T12:52:47.948Z"
      },
      {
        "duration": 468,
        "start_time": "2023-07-12T12:53:06.893Z"
      },
      {
        "duration": 725,
        "start_time": "2023-07-12T12:53:30.000Z"
      },
      {
        "duration": 722,
        "start_time": "2023-07-12T12:53:33.500Z"
      },
      {
        "duration": 863,
        "start_time": "2023-07-12T12:53:38.400Z"
      },
      {
        "duration": 1595,
        "start_time": "2023-07-12T12:53:42.996Z"
      },
      {
        "duration": 2204,
        "start_time": "2023-07-12T12:53:49.924Z"
      },
      {
        "duration": 6601,
        "start_time": "2023-07-12T12:53:55.968Z"
      },
      {
        "duration": 151097,
        "start_time": "2023-07-12T12:54:34.153Z"
      },
      {
        "duration": 2598,
        "start_time": "2023-07-12T12:57:05.252Z"
      },
      {
        "duration": 1425827,
        "start_time": "2023-07-12T12:58:16.635Z"
      },
      {
        "duration": 5,
        "start_time": "2023-07-12T13:22:06.132Z"
      },
      {
        "duration": 83,
        "start_time": "2023-07-12T13:22:06.143Z"
      },
      {
        "duration": 15,
        "start_time": "2023-07-12T13:22:06.230Z"
      },
      {
        "duration": 27,
        "start_time": "2023-07-12T13:22:06.247Z"
      },
      {
        "duration": 21,
        "start_time": "2023-07-12T13:22:06.276Z"
      },
      {
        "duration": 33,
        "start_time": "2023-07-12T13:22:06.313Z"
      },
      {
        "duration": 30,
        "start_time": "2023-07-12T13:22:06.349Z"
      },
      {
        "duration": 48,
        "start_time": "2023-07-12T13:22:06.382Z"
      },
      {
        "duration": 1202,
        "start_time": "2023-07-12T13:22:06.431Z"
      },
      {
        "duration": 221,
        "start_time": "2023-07-12T13:22:07.636Z"
      },
      {
        "duration": 27,
        "start_time": "2023-07-12T13:22:07.860Z"
      },
      {
        "duration": 134,
        "start_time": "2023-07-12T13:22:07.890Z"
      },
      {
        "duration": 220,
        "start_time": "2023-07-12T13:22:08.027Z"
      },
      {
        "duration": 81,
        "start_time": "2023-07-12T13:22:08.249Z"
      },
      {
        "duration": 683,
        "start_time": "2023-07-12T13:22:08.333Z"
      },
      {
        "duration": 91,
        "start_time": "2023-07-12T13:22:09.022Z"
      },
      {
        "duration": 50,
        "start_time": "2023-07-12T13:22:09.116Z"
      },
      {
        "duration": 153,
        "start_time": "2023-07-12T13:22:09.168Z"
      },
      {
        "duration": 7,
        "start_time": "2023-07-12T13:22:09.323Z"
      },
      {
        "duration": 576,
        "start_time": "2023-07-12T13:22:09.333Z"
      },
      {
        "duration": 154808,
        "start_time": "2023-07-12T13:22:09.912Z"
      },
      {
        "duration": 2385929,
        "start_time": "2023-07-12T13:24:44.724Z"
      },
      {
        "duration": 2678,
        "start_time": "2023-07-12T14:04:30.655Z"
      },
      {
        "duration": 193,
        "start_time": "2023-07-12T14:04:33.335Z"
      },
      {
        "duration": 8,
        "start_time": "2023-07-12T14:04:33.530Z"
      },
      {
        "duration": 1949,
        "start_time": "2023-07-12T19:15:25.124Z"
      },
      {
        "duration": 126,
        "start_time": "2023-07-12T19:15:27.075Z"
      },
      {
        "duration": 17,
        "start_time": "2023-07-12T19:15:27.203Z"
      },
      {
        "duration": 33,
        "start_time": "2023-07-12T19:15:27.223Z"
      },
      {
        "duration": 17,
        "start_time": "2023-07-12T19:15:27.265Z"
      },
      {
        "duration": 6,
        "start_time": "2023-07-12T19:15:27.284Z"
      },
      {
        "duration": 9,
        "start_time": "2023-07-12T19:15:27.291Z"
      },
      {
        "duration": 16,
        "start_time": "2023-07-12T19:15:27.301Z"
      },
      {
        "duration": 1182,
        "start_time": "2023-07-12T19:15:27.319Z"
      },
      {
        "duration": 229,
        "start_time": "2023-07-12T19:15:28.503Z"
      },
      {
        "duration": 30,
        "start_time": "2023-07-12T19:15:28.734Z"
      },
      {
        "duration": 100,
        "start_time": "2023-07-12T19:15:28.769Z"
      },
      {
        "duration": 171,
        "start_time": "2023-07-12T19:15:28.872Z"
      },
      {
        "duration": 75,
        "start_time": "2023-07-12T19:15:29.045Z"
      },
      {
        "duration": 621,
        "start_time": "2023-07-12T19:15:29.121Z"
      },
      {
        "duration": 18,
        "start_time": "2023-07-12T19:15:29.744Z"
      },
      {
        "duration": 110,
        "start_time": "2023-07-12T19:15:29.764Z"
      },
      {
        "duration": 106,
        "start_time": "2023-07-12T19:15:29.876Z"
      },
      {
        "duration": 6,
        "start_time": "2023-07-12T19:15:29.984Z"
      },
      {
        "duration": 2262,
        "start_time": "2023-07-12T19:15:36.628Z"
      },
      {
        "duration": 4001,
        "start_time": "2023-07-12T19:15:55.624Z"
      },
      {
        "duration": 151,
        "start_time": "2023-07-12T19:16:43.992Z"
      },
      {
        "duration": 6,
        "start_time": "2023-07-12T19:16:46.791Z"
      },
      {
        "duration": 2043,
        "start_time": "2023-07-13T10:46:38.353Z"
      },
      {
        "duration": 158,
        "start_time": "2023-07-13T10:46:40.399Z"
      },
      {
        "duration": 23,
        "start_time": "2023-07-13T10:46:40.559Z"
      },
      {
        "duration": 13,
        "start_time": "2023-07-13T10:46:40.584Z"
      },
      {
        "duration": 13,
        "start_time": "2023-07-13T10:46:40.600Z"
      },
      {
        "duration": 10,
        "start_time": "2023-07-13T10:46:40.615Z"
      },
      {
        "duration": 30,
        "start_time": "2023-07-13T10:46:40.627Z"
      },
      {
        "duration": 22,
        "start_time": "2023-07-13T10:46:40.660Z"
      },
      {
        "duration": 1153,
        "start_time": "2023-07-13T10:46:40.684Z"
      },
      {
        "duration": 222,
        "start_time": "2023-07-13T10:46:41.839Z"
      },
      {
        "duration": 27,
        "start_time": "2023-07-13T10:46:42.065Z"
      },
      {
        "duration": 100,
        "start_time": "2023-07-13T10:46:42.094Z"
      },
      {
        "duration": 172,
        "start_time": "2023-07-13T10:46:42.196Z"
      },
      {
        "duration": 83,
        "start_time": "2023-07-13T10:46:42.373Z"
      },
      {
        "duration": 618,
        "start_time": "2023-07-13T10:46:42.458Z"
      },
      {
        "duration": 8,
        "start_time": "2023-07-13T10:46:43.159Z"
      },
      {
        "duration": 8,
        "start_time": "2023-07-13T10:46:43.170Z"
      },
      {
        "duration": 123,
        "start_time": "2023-07-13T10:46:43.181Z"
      },
      {
        "duration": 6,
        "start_time": "2023-07-13T10:46:43.306Z"
      },
      {
        "duration": 463,
        "start_time": "2023-07-13T10:46:43.314Z"
      },
      {
        "duration": 141065,
        "start_time": "2023-07-13T10:46:43.780Z"
      },
      {
        "duration": 2004829,
        "start_time": "2023-07-13T10:49:04.847Z"
      },
      {
        "duration": 4167,
        "start_time": "2023-07-13T11:22:29.678Z"
      },
      {
        "duration": 145,
        "start_time": "2023-07-13T11:22:33.847Z"
      },
      {
        "duration": 7,
        "start_time": "2023-07-13T11:22:33.994Z"
      },
      {
        "duration": 0,
        "start_time": "2023-07-13T11:22:34.121Z"
      },
      {
        "duration": 1845,
        "start_time": "2023-07-13T13:41:00.014Z"
      },
      {
        "duration": 123,
        "start_time": "2023-07-13T13:41:05.315Z"
      },
      {
        "duration": 21,
        "start_time": "2023-07-13T13:41:07.235Z"
      },
      {
        "duration": 17,
        "start_time": "2023-07-13T13:41:07.616Z"
      },
      {
        "duration": 8,
        "start_time": "2023-07-13T13:41:09.210Z"
      },
      {
        "duration": 7,
        "start_time": "2023-07-13T13:41:10.234Z"
      },
      {
        "duration": 10,
        "start_time": "2023-07-13T13:41:10.777Z"
      },
      {
        "duration": 13,
        "start_time": "2023-07-13T13:41:11.534Z"
      },
      {
        "duration": 5,
        "start_time": "2023-07-13T13:44:28.666Z"
      },
      {
        "duration": 11,
        "start_time": "2023-07-13T13:44:33.133Z"
      },
      {
        "duration": 6,
        "start_time": "2023-07-13T13:45:12.187Z"
      },
      {
        "duration": 163,
        "start_time": "2023-07-13T13:50:16.427Z"
      },
      {
        "duration": 17,
        "start_time": "2023-07-13T13:50:36.542Z"
      },
      {
        "duration": 18,
        "start_time": "2023-07-13T13:51:10.554Z"
      },
      {
        "duration": 52,
        "start_time": "2023-07-13T13:51:57.246Z"
      },
      {
        "duration": 26,
        "start_time": "2023-07-13T13:52:18.347Z"
      },
      {
        "duration": 6,
        "start_time": "2023-07-13T13:54:32.863Z"
      },
      {
        "duration": 7,
        "start_time": "2023-07-13T13:54:39.243Z"
      },
      {
        "duration": 22,
        "start_time": "2023-07-13T13:54:46.444Z"
      },
      {
        "duration": 6,
        "start_time": "2023-07-13T13:54:59.811Z"
      },
      {
        "duration": 6,
        "start_time": "2023-07-13T13:55:09.283Z"
      },
      {
        "duration": 37,
        "start_time": "2023-07-13T13:56:55.437Z"
      },
      {
        "duration": 5,
        "start_time": "2023-07-13T13:57:04.707Z"
      },
      {
        "duration": 13,
        "start_time": "2023-07-13T13:57:05.744Z"
      },
      {
        "duration": 6,
        "start_time": "2023-07-13T13:57:06.225Z"
      },
      {
        "duration": 8,
        "start_time": "2023-07-13T13:57:11.810Z"
      },
      {
        "duration": 20,
        "start_time": "2023-07-13T14:03:53.411Z"
      },
      {
        "duration": 7,
        "start_time": "2023-07-13T14:03:57.024Z"
      },
      {
        "duration": 23,
        "start_time": "2023-07-13T14:03:57.748Z"
      },
      {
        "duration": 110,
        "start_time": "2023-07-13T14:04:11.447Z"
      },
      {
        "duration": 5,
        "start_time": "2023-07-13T14:05:51.172Z"
      },
      {
        "duration": 20,
        "start_time": "2023-07-13T14:05:51.842Z"
      },
      {
        "duration": 6,
        "start_time": "2023-07-13T14:06:15.513Z"
      },
      {
        "duration": 6,
        "start_time": "2023-07-13T14:06:19.450Z"
      },
      {
        "duration": 25,
        "start_time": "2023-07-13T14:06:20.173Z"
      },
      {
        "duration": 104,
        "start_time": "2023-07-13T14:06:25.912Z"
      },
      {
        "duration": 8571,
        "start_time": "2023-07-13T14:07:27.911Z"
      },
      {
        "duration": 5,
        "start_time": "2023-07-13T14:07:41.531Z"
      },
      {
        "duration": 128,
        "start_time": "2023-07-13T14:07:42.521Z"
      },
      {
        "duration": 23,
        "start_time": "2023-07-13T14:08:03.410Z"
      },
      {
        "duration": 5,
        "start_time": "2023-07-13T14:10:06.605Z"
      },
      {
        "duration": 98,
        "start_time": "2023-07-13T14:10:07.220Z"
      },
      {
        "duration": 4,
        "start_time": "2023-07-13T14:10:20.721Z"
      },
      {
        "duration": 106,
        "start_time": "2023-07-13T14:10:21.207Z"
      },
      {
        "duration": 7210,
        "start_time": "2023-07-13T14:10:53.864Z"
      },
      {
        "duration": 5,
        "start_time": "2023-07-13T14:11:01.077Z"
      },
      {
        "duration": 114,
        "start_time": "2023-07-13T14:11:01.207Z"
      },
      {
        "duration": 5,
        "start_time": "2023-07-13T14:11:22.843Z"
      },
      {
        "duration": 17,
        "start_time": "2023-07-13T14:11:23.744Z"
      },
      {
        "duration": 6,
        "start_time": "2023-07-13T14:11:24.171Z"
      },
      {
        "duration": 5,
        "start_time": "2023-07-13T14:11:26.206Z"
      },
      {
        "duration": 131,
        "start_time": "2023-07-13T14:11:27.637Z"
      },
      {
        "duration": 6,
        "start_time": "2023-07-13T14:14:18.232Z"
      },
      {
        "duration": 62,
        "start_time": "2023-07-13T14:14:18.240Z"
      },
      {
        "duration": 19,
        "start_time": "2023-07-13T14:14:18.304Z"
      },
      {
        "duration": 19,
        "start_time": "2023-07-13T14:14:18.326Z"
      },
      {
        "duration": 13,
        "start_time": "2023-07-13T14:14:18.374Z"
      },
      {
        "duration": 41,
        "start_time": "2023-07-13T14:14:18.389Z"
      },
      {
        "duration": 18,
        "start_time": "2023-07-13T14:14:18.433Z"
      },
      {
        "duration": 55,
        "start_time": "2023-07-13T14:14:18.454Z"
      },
      {
        "duration": 44,
        "start_time": "2023-07-13T14:14:18.511Z"
      },
      {
        "duration": 35,
        "start_time": "2023-07-13T14:14:18.558Z"
      },
      {
        "duration": 39,
        "start_time": "2023-07-13T14:14:18.595Z"
      },
      {
        "duration": 45,
        "start_time": "2023-07-13T14:14:18.637Z"
      },
      {
        "duration": 114,
        "start_time": "2023-07-13T14:14:18.684Z"
      },
      {
        "duration": 0,
        "start_time": "2023-07-13T14:14:18.801Z"
      },
      {
        "duration": 0,
        "start_time": "2023-07-13T14:14:18.802Z"
      },
      {
        "duration": 0,
        "start_time": "2023-07-13T14:14:18.803Z"
      },
      {
        "duration": 0,
        "start_time": "2023-07-13T14:14:18.804Z"
      },
      {
        "duration": 0,
        "start_time": "2023-07-13T14:14:18.805Z"
      },
      {
        "duration": 0,
        "start_time": "2023-07-13T14:14:18.806Z"
      },
      {
        "duration": 0,
        "start_time": "2023-07-13T14:14:18.808Z"
      },
      {
        "duration": 0,
        "start_time": "2023-07-13T14:14:18.809Z"
      },
      {
        "duration": 0,
        "start_time": "2023-07-13T14:14:18.810Z"
      },
      {
        "duration": 0,
        "start_time": "2023-07-13T14:14:18.811Z"
      },
      {
        "duration": 0,
        "start_time": "2023-07-13T14:14:18.812Z"
      },
      {
        "duration": 0,
        "start_time": "2023-07-13T14:14:18.813Z"
      },
      {
        "duration": 0,
        "start_time": "2023-07-13T14:14:18.814Z"
      },
      {
        "duration": 0,
        "start_time": "2023-07-13T14:14:18.815Z"
      },
      {
        "duration": 5,
        "start_time": "2023-07-13T14:14:37.842Z"
      },
      {
        "duration": 57,
        "start_time": "2023-07-13T14:14:37.850Z"
      },
      {
        "duration": 15,
        "start_time": "2023-07-13T14:14:37.909Z"
      },
      {
        "duration": 19,
        "start_time": "2023-07-13T14:14:37.926Z"
      },
      {
        "duration": 8,
        "start_time": "2023-07-13T14:14:37.948Z"
      },
      {
        "duration": 9,
        "start_time": "2023-07-13T14:14:37.957Z"
      },
      {
        "duration": 13,
        "start_time": "2023-07-13T14:14:37.968Z"
      },
      {
        "duration": 20,
        "start_time": "2023-07-13T14:14:37.983Z"
      },
      {
        "duration": 5,
        "start_time": "2023-07-13T14:14:38.005Z"
      },
      {
        "duration": 16,
        "start_time": "2023-07-13T14:14:38.012Z"
      },
      {
        "duration": 7,
        "start_time": "2023-07-13T14:14:38.054Z"
      },
      {
        "duration": 12,
        "start_time": "2023-07-13T14:14:38.063Z"
      },
      {
        "duration": 110,
        "start_time": "2023-07-13T14:14:38.077Z"
      },
      {
        "duration": 19,
        "start_time": "2023-07-13T14:15:07.957Z"
      },
      {
        "duration": 5,
        "start_time": "2023-07-13T14:15:11.243Z"
      },
      {
        "duration": 108,
        "start_time": "2023-07-13T14:15:11.827Z"
      },
      {
        "duration": 6,
        "start_time": "2023-07-13T14:15:56.118Z"
      },
      {
        "duration": 94,
        "start_time": "2023-07-13T14:15:56.607Z"
      },
      {
        "duration": 4,
        "start_time": "2023-07-13T14:18:58.519Z"
      },
      {
        "duration": 26,
        "start_time": "2023-07-13T14:18:59.223Z"
      },
      {
        "duration": 123,
        "start_time": "2023-07-13T14:19:15.259Z"
      },
      {
        "duration": 4,
        "start_time": "2023-07-13T14:22:49.359Z"
      },
      {
        "duration": 120,
        "start_time": "2023-07-13T14:22:49.365Z"
      },
      {
        "duration": 34,
        "start_time": "2023-07-13T14:22:49.487Z"
      },
      {
        "duration": 30,
        "start_time": "2023-07-13T14:22:49.523Z"
      },
      {
        "duration": 8,
        "start_time": "2023-07-13T14:22:49.556Z"
      },
      {
        "duration": 30,
        "start_time": "2023-07-13T14:22:49.566Z"
      },
      {
        "duration": 17,
        "start_time": "2023-07-13T14:22:49.598Z"
      },
      {
        "duration": 22,
        "start_time": "2023-07-13T14:22:49.617Z"
      },
      {
        "duration": 8,
        "start_time": "2023-07-13T14:22:49.641Z"
      },
      {
        "duration": 14,
        "start_time": "2023-07-13T14:22:49.650Z"
      },
      {
        "duration": 5,
        "start_time": "2023-07-13T14:22:49.666Z"
      },
      {
        "duration": 5629,
        "start_time": "2023-07-13T14:22:49.673Z"
      },
      {
        "duration": 5,
        "start_time": "2023-07-13T14:22:55.306Z"
      },
      {
        "duration": 51,
        "start_time": "2023-07-13T14:22:55.313Z"
      },
      {
        "duration": 17,
        "start_time": "2023-07-13T14:23:15.606Z"
      },
      {
        "duration": 2289,
        "start_time": "2023-07-13T14:23:50.403Z"
      },
      {
        "duration": 5,
        "start_time": "2023-07-13T14:24:13.607Z"
      },
      {
        "duration": 25,
        "start_time": "2023-07-13T14:24:14.904Z"
      },
      {
        "duration": 103,
        "start_time": "2023-07-13T14:24:21.200Z"
      },
      {
        "duration": 4,
        "start_time": "2023-07-13T14:24:26.407Z"
      },
      {
        "duration": 16539,
        "start_time": "2023-07-13T14:24:26.936Z"
      },
      {
        "duration": 4,
        "start_time": "2023-07-13T14:25:00.261Z"
      },
      {
        "duration": 15641,
        "start_time": "2023-07-13T14:25:01.102Z"
      },
      {
        "duration": 5,
        "start_time": "2023-07-13T14:26:05.751Z"
      },
      {
        "duration": 5,
        "start_time": "2023-07-13T14:26:09.824Z"
      },
      {
        "duration": 1065,
        "start_time": "2023-07-13T14:26:10.502Z"
      },
      {
        "duration": 5,
        "start_time": "2023-07-13T14:26:42.304Z"
      },
      {
        "duration": 953,
        "start_time": "2023-07-13T14:26:42.968Z"
      },
      {
        "duration": 25,
        "start_time": "2023-07-13T14:27:01.959Z"
      },
      {
        "duration": 4,
        "start_time": "2023-07-13T14:27:13.001Z"
      },
      {
        "duration": 1155,
        "start_time": "2023-07-13T14:27:13.599Z"
      },
      {
        "duration": 27,
        "start_time": "2023-07-13T14:27:24.143Z"
      },
      {
        "duration": 6,
        "start_time": "2023-07-13T14:30:40.820Z"
      },
      {
        "duration": 1307,
        "start_time": "2023-07-13T14:30:41.336Z"
      },
      {
        "duration": 44,
        "start_time": "2023-07-13T14:30:42.646Z"
      },
      {
        "duration": 1027,
        "start_time": "2023-07-13T14:31:19.388Z"
      },
      {
        "duration": 1343,
        "start_time": "2023-07-13T14:31:44.541Z"
      },
      {
        "duration": 5,
        "start_time": "2023-07-13T14:48:48.185Z"
      },
      {
        "duration": 6,
        "start_time": "2023-07-13T14:49:52.101Z"
      },
      {
        "duration": 73,
        "start_time": "2023-07-13T14:49:52.110Z"
      },
      {
        "duration": 17,
        "start_time": "2023-07-13T14:49:52.184Z"
      },
      {
        "duration": 41,
        "start_time": "2023-07-13T14:49:52.204Z"
      },
      {
        "duration": 36,
        "start_time": "2023-07-13T14:49:52.248Z"
      },
      {
        "duration": 26,
        "start_time": "2023-07-13T14:49:52.287Z"
      },
      {
        "duration": 25,
        "start_time": "2023-07-13T14:49:52.316Z"
      },
      {
        "duration": 48,
        "start_time": "2023-07-13T14:49:52.343Z"
      },
      {
        "duration": 28,
        "start_time": "2023-07-13T14:49:52.396Z"
      },
      {
        "duration": 18,
        "start_time": "2023-07-13T14:49:52.427Z"
      },
      {
        "duration": 10,
        "start_time": "2023-07-13T14:49:52.447Z"
      },
      {
        "duration": 2402,
        "start_time": "2023-07-13T14:49:52.458Z"
      },
      {
        "duration": 8,
        "start_time": "2023-07-13T14:49:54.862Z"
      },
      {
        "duration": 825,
        "start_time": "2023-07-13T14:49:54.872Z"
      },
      {
        "duration": 27,
        "start_time": "2023-07-13T14:49:55.699Z"
      },
      {
        "duration": 772,
        "start_time": "2023-07-13T14:49:55.728Z"
      },
      {
        "duration": 19,
        "start_time": "2023-07-13T14:49:56.502Z"
      },
      {
        "duration": 14,
        "start_time": "2023-07-13T14:53:22.188Z"
      },
      {
        "duration": 15,
        "start_time": "2023-07-13T14:53:27.770Z"
      },
      {
        "duration": 0,
        "start_time": "2023-07-13T14:53:27.787Z"
      },
      {
        "duration": 0,
        "start_time": "2023-07-13T14:53:27.788Z"
      },
      {
        "duration": 257,
        "start_time": "2023-07-13T14:53:27.790Z"
      },
      {
        "duration": 7769,
        "start_time": "2023-07-13T14:53:28.051Z"
      },
      {
        "duration": 0,
        "start_time": "2023-07-13T14:53:35.823Z"
      },
      {
        "duration": 0,
        "start_time": "2023-07-13T14:53:35.824Z"
      },
      {
        "duration": 0,
        "start_time": "2023-07-13T14:53:35.825Z"
      },
      {
        "duration": 0,
        "start_time": "2023-07-13T14:53:35.827Z"
      },
      {
        "duration": 0,
        "start_time": "2023-07-13T14:53:35.828Z"
      },
      {
        "duration": 0,
        "start_time": "2023-07-13T14:53:35.829Z"
      },
      {
        "duration": 0,
        "start_time": "2023-07-13T14:53:35.831Z"
      },
      {
        "duration": 0,
        "start_time": "2023-07-13T14:53:35.832Z"
      },
      {
        "duration": 0,
        "start_time": "2023-07-13T14:53:35.833Z"
      },
      {
        "duration": 0,
        "start_time": "2023-07-13T14:53:35.852Z"
      },
      {
        "duration": 0,
        "start_time": "2023-07-13T14:53:35.854Z"
      },
      {
        "duration": 18,
        "start_time": "2023-07-13T14:53:41.558Z"
      },
      {
        "duration": 4,
        "start_time": "2023-07-13T14:53:57.607Z"
      },
      {
        "duration": 59,
        "start_time": "2023-07-13T14:53:57.620Z"
      },
      {
        "duration": 24,
        "start_time": "2023-07-13T14:53:57.681Z"
      },
      {
        "duration": 27,
        "start_time": "2023-07-13T14:53:57.707Z"
      },
      {
        "duration": 18,
        "start_time": "2023-07-13T14:53:57.736Z"
      },
      {
        "duration": 7,
        "start_time": "2023-07-13T14:53:57.757Z"
      },
      {
        "duration": 30,
        "start_time": "2023-07-13T14:53:57.767Z"
      },
      {
        "duration": 16,
        "start_time": "2023-07-13T14:53:57.799Z"
      },
      {
        "duration": 11,
        "start_time": "2023-07-13T14:53:57.818Z"
      },
      {
        "duration": 26,
        "start_time": "2023-07-13T14:53:57.831Z"
      },
      {
        "duration": 7,
        "start_time": "2023-07-13T14:53:57.860Z"
      },
      {
        "duration": 2584,
        "start_time": "2023-07-13T14:53:57.869Z"
      },
      {
        "duration": 4,
        "start_time": "2023-07-13T14:54:00.456Z"
      },
      {
        "duration": 84,
        "start_time": "2023-07-13T14:54:00.462Z"
      },
      {
        "duration": 878,
        "start_time": "2023-07-13T14:54:00.550Z"
      },
      {
        "duration": 39,
        "start_time": "2023-07-13T14:54:01.430Z"
      },
      {
        "duration": 9,
        "start_time": "2023-07-13T14:54:19.390Z"
      },
      {
        "duration": 557,
        "start_time": "2023-07-13T14:54:20.140Z"
      },
      {
        "duration": 26,
        "start_time": "2023-07-13T14:54:21.991Z"
      },
      {
        "duration": 5485,
        "start_time": "2023-07-13T14:54:47.722Z"
      },
      {
        "duration": 24,
        "start_time": "2023-07-13T14:55:00.713Z"
      },
      {
        "duration": 7909,
        "start_time": "2023-07-13T14:58:57.472Z"
      },
      {
        "duration": 7655,
        "start_time": "2023-07-13T14:59:13.501Z"
      },
      {
        "duration": 15,
        "start_time": "2023-07-13T14:59:58.031Z"
      },
      {
        "duration": 7259,
        "start_time": "2023-07-13T15:00:05.800Z"
      },
      {
        "duration": 198,
        "start_time": "2023-07-13T15:00:13.062Z"
      },
      {
        "duration": 9,
        "start_time": "2023-07-13T15:02:48.690Z"
      },
      {
        "duration": 5,
        "start_time": "2023-07-13T15:03:03.848Z"
      },
      {
        "duration": 71,
        "start_time": "2023-07-13T15:03:03.855Z"
      },
      {
        "duration": 20,
        "start_time": "2023-07-13T15:03:03.928Z"
      },
      {
        "duration": 51,
        "start_time": "2023-07-13T15:03:03.950Z"
      },
      {
        "duration": 10,
        "start_time": "2023-07-13T15:03:04.003Z"
      },
      {
        "duration": 28,
        "start_time": "2023-07-13T15:03:04.014Z"
      },
      {
        "duration": 36,
        "start_time": "2023-07-13T15:03:04.044Z"
      },
      {
        "duration": 15,
        "start_time": "2023-07-13T15:03:04.082Z"
      },
      {
        "duration": 7,
        "start_time": "2023-07-13T15:03:04.100Z"
      },
      {
        "duration": 15,
        "start_time": "2023-07-13T15:03:04.109Z"
      },
      {
        "duration": 46,
        "start_time": "2023-07-13T15:03:04.126Z"
      },
      {
        "duration": 33,
        "start_time": "2023-07-13T15:03:04.174Z"
      },
      {
        "duration": 12,
        "start_time": "2023-07-13T15:03:04.210Z"
      },
      {
        "duration": 841,
        "start_time": "2023-07-13T15:03:04.224Z"
      },
      {
        "duration": 27,
        "start_time": "2023-07-13T15:03:05.070Z"
      },
      {
        "duration": 529,
        "start_time": "2023-07-13T15:03:05.100Z"
      },
      {
        "duration": 0,
        "start_time": "2023-07-13T15:03:05.631Z"
      },
      {
        "duration": 0,
        "start_time": "2023-07-13T15:03:05.633Z"
      },
      {
        "duration": 716,
        "start_time": "2023-07-13T15:04:21.094Z"
      },
      {
        "duration": 12,
        "start_time": "2023-07-13T15:04:23.712Z"
      },
      {
        "duration": 14,
        "start_time": "2023-07-13T15:04:47.366Z"
      },
      {
        "duration": 7711,
        "start_time": "2023-07-13T15:05:00.661Z"
      },
      {
        "duration": 16,
        "start_time": "2023-07-13T15:05:11.922Z"
      },
      {
        "duration": 4,
        "start_time": "2023-07-13T15:05:32.700Z"
      },
      {
        "duration": 65,
        "start_time": "2023-07-13T15:05:32.707Z"
      },
      {
        "duration": 16,
        "start_time": "2023-07-13T15:05:32.775Z"
      },
      {
        "duration": 27,
        "start_time": "2023-07-13T15:05:32.793Z"
      },
      {
        "duration": 22,
        "start_time": "2023-07-13T15:05:32.823Z"
      },
      {
        "duration": 22,
        "start_time": "2023-07-13T15:05:32.848Z"
      },
      {
        "duration": 25,
        "start_time": "2023-07-13T15:05:32.872Z"
      },
      {
        "duration": 12,
        "start_time": "2023-07-13T15:05:32.899Z"
      },
      {
        "duration": 6,
        "start_time": "2023-07-13T15:05:32.914Z"
      },
      {
        "duration": 28,
        "start_time": "2023-07-13T15:05:32.922Z"
      },
      {
        "duration": 14,
        "start_time": "2023-07-13T15:05:32.955Z"
      },
      {
        "duration": 30,
        "start_time": "2023-07-13T15:05:32.970Z"
      },
      {
        "duration": 33,
        "start_time": "2023-07-13T15:05:33.003Z"
      },
      {
        "duration": 839,
        "start_time": "2023-07-13T15:05:33.039Z"
      },
      {
        "duration": 32,
        "start_time": "2023-07-13T15:05:33.881Z"
      },
      {
        "duration": 476,
        "start_time": "2023-07-13T15:05:37.626Z"
      },
      {
        "duration": 4,
        "start_time": "2023-07-13T15:06:27.075Z"
      },
      {
        "duration": 51,
        "start_time": "2023-07-13T15:06:27.095Z"
      },
      {
        "duration": 19,
        "start_time": "2023-07-13T15:06:27.149Z"
      },
      {
        "duration": 19,
        "start_time": "2023-07-13T15:06:27.170Z"
      },
      {
        "duration": 15,
        "start_time": "2023-07-13T15:06:27.191Z"
      },
      {
        "duration": 18,
        "start_time": "2023-07-13T15:06:27.208Z"
      },
      {
        "duration": 26,
        "start_time": "2023-07-13T15:06:27.228Z"
      },
      {
        "duration": 17,
        "start_time": "2023-07-13T15:06:27.256Z"
      },
      {
        "duration": 6,
        "start_time": "2023-07-13T15:06:27.275Z"
      },
      {
        "duration": 15,
        "start_time": "2023-07-13T15:06:27.283Z"
      },
      {
        "duration": 8,
        "start_time": "2023-07-13T15:06:27.301Z"
      },
      {
        "duration": 8,
        "start_time": "2023-07-13T15:06:27.310Z"
      },
      {
        "duration": 18,
        "start_time": "2023-07-13T15:06:27.353Z"
      },
      {
        "duration": 879,
        "start_time": "2023-07-13T15:06:27.373Z"
      },
      {
        "duration": 34,
        "start_time": "2023-07-13T15:06:28.255Z"
      },
      {
        "duration": 51,
        "start_time": "2023-07-13T15:06:30.370Z"
      },
      {
        "duration": 33,
        "start_time": "2023-07-13T15:06:34.934Z"
      },
      {
        "duration": 198,
        "start_time": "2023-07-13T15:06:41.931Z"
      },
      {
        "duration": 607,
        "start_time": "2023-07-13T15:06:54.698Z"
      },
      {
        "duration": 31,
        "start_time": "2023-07-13T15:06:56.495Z"
      },
      {
        "duration": 1630,
        "start_time": "2023-07-13T15:08:17.097Z"
      },
      {
        "duration": 30,
        "start_time": "2023-07-13T15:08:25.622Z"
      },
      {
        "duration": 10860,
        "start_time": "2023-07-13T15:09:17.890Z"
      },
      {
        "duration": 41,
        "start_time": "2023-07-13T15:09:32.530Z"
      },
      {
        "duration": 463,
        "start_time": "2023-07-13T15:09:41.125Z"
      },
      {
        "duration": 196,
        "start_time": "2023-07-13T15:09:41.957Z"
      },
      {
        "duration": 1670,
        "start_time": "2023-07-13T15:09:43.329Z"
      },
      {
        "duration": 35,
        "start_time": "2023-07-13T15:09:46.120Z"
      },
      {
        "duration": 11037,
        "start_time": "2023-07-13T15:09:47.356Z"
      },
      {
        "duration": 289,
        "start_time": "2023-07-13T15:09:58.396Z"
      },
      {
        "duration": 10865,
        "start_time": "2023-07-13T15:11:40.921Z"
      },
      {
        "duration": 11022,
        "start_time": "2023-07-13T15:12:00.401Z"
      },
      {
        "duration": 242,
        "start_time": "2023-07-13T15:12:11.425Z"
      },
      {
        "duration": 1677,
        "start_time": "2023-07-23T10:24:03.684Z"
      },
      {
        "duration": 337,
        "start_time": "2023-07-23T10:24:22.620Z"
      },
      {
        "duration": 15,
        "start_time": "2023-07-23T10:24:23.811Z"
      },
      {
        "duration": 14,
        "start_time": "2023-07-23T10:24:26.150Z"
      },
      {
        "duration": 11,
        "start_time": "2023-07-23T10:24:30.992Z"
      },
      {
        "duration": 6,
        "start_time": "2023-07-23T10:24:34.593Z"
      },
      {
        "duration": 8,
        "start_time": "2023-07-23T10:24:37.086Z"
      },
      {
        "duration": 11,
        "start_time": "2023-07-23T10:24:38.594Z"
      },
      {
        "duration": 4,
        "start_time": "2023-07-23T10:24:42.102Z"
      },
      {
        "duration": 13,
        "start_time": "2023-07-23T10:24:44.238Z"
      },
      {
        "duration": 5,
        "start_time": "2023-07-23T10:24:44.854Z"
      },
      {
        "duration": 4,
        "start_time": "2023-07-23T10:25:05.365Z"
      },
      {
        "duration": 6,
        "start_time": "2023-07-23T10:25:06.114Z"
      },
      {
        "duration": 733,
        "start_time": "2023-07-23T10:25:06.839Z"
      },
      {
        "duration": 27,
        "start_time": "2023-07-23T10:25:07.637Z"
      },
      {
        "duration": 31,
        "start_time": "2023-07-23T10:25:14.751Z"
      },
      {
        "duration": 24,
        "start_time": "2023-07-23T10:25:15.464Z"
      },
      {
        "duration": 150,
        "start_time": "2023-07-23T10:25:21.616Z"
      },
      {
        "duration": 30054,
        "start_time": "2023-07-23T10:48:27.703Z"
      },
      {
        "duration": 27007,
        "start_time": "2023-07-23T10:53:11.982Z"
      },
      {
        "duration": 42095,
        "start_time": "2023-07-23T10:54:41.629Z"
      },
      {
        "duration": 9540,
        "start_time": "2023-07-23T10:56:15.689Z"
      },
      {
        "duration": 382358,
        "start_time": "2023-07-23T11:04:49.802Z"
      },
      {
        "duration": 5,
        "start_time": "2023-07-23T11:13:32.180Z"
      },
      {
        "duration": 172,
        "start_time": "2023-07-23T11:13:33.993Z"
      },
      {
        "duration": 4,
        "start_time": "2023-07-23T11:13:47.727Z"
      },
      {
        "duration": 22,
        "start_time": "2023-07-23T11:13:49.132Z"
      },
      {
        "duration": 17,
        "start_time": "2023-07-23T11:14:52.041Z"
      },
      {
        "duration": 12,
        "start_time": "2023-07-23T11:15:46.298Z"
      },
      {
        "duration": 4,
        "start_time": "2023-07-23T11:16:36.188Z"
      },
      {
        "duration": 10,
        "start_time": "2023-07-23T11:16:47.218Z"
      },
      {
        "duration": 4,
        "start_time": "2023-07-23T11:16:50.510Z"
      },
      {
        "duration": 13,
        "start_time": "2023-07-23T11:17:06.935Z"
      },
      {
        "duration": 4,
        "start_time": "2023-07-23T11:17:14.909Z"
      },
      {
        "duration": 3,
        "start_time": "2023-07-23T11:17:15.517Z"
      },
      {
        "duration": 6,
        "start_time": "2023-07-23T11:17:56.510Z"
      },
      {
        "duration": 14,
        "start_time": "2023-07-23T11:18:16.746Z"
      },
      {
        "duration": 23,
        "start_time": "2023-07-23T11:18:24.115Z"
      },
      {
        "duration": 15,
        "start_time": "2023-07-23T11:18:28.542Z"
      },
      {
        "duration": 37,
        "start_time": "2023-07-23T11:18:35.305Z"
      },
      {
        "duration": 4,
        "start_time": "2023-07-23T11:19:11.653Z"
      },
      {
        "duration": 45,
        "start_time": "2023-07-23T11:19:11.659Z"
      },
      {
        "duration": 17,
        "start_time": "2023-07-23T11:19:11.706Z"
      },
      {
        "duration": 21,
        "start_time": "2023-07-23T11:19:11.725Z"
      },
      {
        "duration": 8,
        "start_time": "2023-07-23T11:19:11.747Z"
      },
      {
        "duration": 5,
        "start_time": "2023-07-23T11:19:11.756Z"
      },
      {
        "duration": 6,
        "start_time": "2023-07-23T11:19:11.800Z"
      },
      {
        "duration": 9,
        "start_time": "2023-07-23T11:19:11.808Z"
      },
      {
        "duration": 4,
        "start_time": "2023-07-23T11:19:11.819Z"
      },
      {
        "duration": 9,
        "start_time": "2023-07-23T11:19:11.824Z"
      },
      {
        "duration": 7,
        "start_time": "2023-07-23T11:19:11.835Z"
      },
      {
        "duration": 11,
        "start_time": "2023-07-23T11:19:11.843Z"
      },
      {
        "duration": 19,
        "start_time": "2023-07-23T11:19:11.855Z"
      },
      {
        "duration": 752,
        "start_time": "2023-07-23T11:19:11.876Z"
      },
      {
        "duration": 19,
        "start_time": "2023-07-23T11:19:12.630Z"
      },
      {
        "duration": 37,
        "start_time": "2023-07-23T11:19:12.650Z"
      },
      {
        "duration": 21,
        "start_time": "2023-07-23T11:19:12.688Z"
      },
      {
        "duration": 160,
        "start_time": "2023-07-23T11:19:12.711Z"
      },
      {
        "duration": 4,
        "start_time": "2023-07-23T11:19:19.803Z"
      },
      {
        "duration": 28,
        "start_time": "2023-07-23T11:19:20.657Z"
      },
      {
        "duration": 92,
        "start_time": "2023-07-23T11:19:24.039Z"
      },
      {
        "duration": 7,
        "start_time": "2023-07-23T11:19:26.293Z"
      },
      {
        "duration": 7,
        "start_time": "2023-07-23T11:20:00.856Z"
      },
      {
        "duration": 302,
        "start_time": "2023-07-23T11:20:15.706Z"
      },
      {
        "duration": 8,
        "start_time": "2023-07-23T11:20:19.494Z"
      },
      {
        "duration": 13094,
        "start_time": "2023-07-23T11:20:33.797Z"
      },
      {
        "duration": 6081,
        "start_time": "2023-07-23T11:21:03.911Z"
      },
      {
        "duration": 134219,
        "start_time": "2023-07-23T11:21:47.092Z"
      },
      {
        "duration": 27793,
        "start_time": "2023-07-23T11:26:28.457Z"
      },
      {
        "duration": 18683,
        "start_time": "2023-07-23T11:27:03.946Z"
      },
      {
        "duration": 744395,
        "start_time": "2023-07-23T11:28:06.434Z"
      },
      {
        "duration": 325,
        "start_time": "2023-07-23T11:42:21.624Z"
      },
      {
        "duration": 430,
        "start_time": "2023-07-23T11:42:50.399Z"
      },
      {
        "duration": 160,
        "start_time": "2023-07-23T11:43:46.979Z"
      },
      {
        "duration": 2819,
        "start_time": "2023-07-23T11:44:15.931Z"
      },
      {
        "duration": 557,
        "start_time": "2023-07-23T11:44:57.835Z"
      },
      {
        "duration": 2855,
        "start_time": "2023-07-23T11:45:02.940Z"
      },
      {
        "duration": 148,
        "start_time": "2023-07-23T11:45:24.987Z"
      },
      {
        "duration": 8,
        "start_time": "2023-07-23T11:45:29.523Z"
      },
      {
        "duration": 6,
        "start_time": "2023-07-23T11:45:34.585Z"
      },
      {
        "duration": 1813,
        "start_time": "2023-07-24T08:58:44.281Z"
      },
      {
        "duration": 160,
        "start_time": "2023-07-24T08:58:46.096Z"
      },
      {
        "duration": 16,
        "start_time": "2023-07-24T08:58:46.258Z"
      },
      {
        "duration": 32,
        "start_time": "2023-07-24T08:58:46.276Z"
      },
      {
        "duration": 15,
        "start_time": "2023-07-24T08:58:46.310Z"
      },
      {
        "duration": 29,
        "start_time": "2023-07-24T08:58:46.327Z"
      },
      {
        "duration": 14,
        "start_time": "2023-07-24T08:58:46.358Z"
      },
      {
        "duration": 20,
        "start_time": "2023-07-24T08:58:46.373Z"
      },
      {
        "duration": 4,
        "start_time": "2023-07-24T08:58:46.395Z"
      },
      {
        "duration": 14,
        "start_time": "2023-07-24T08:58:46.402Z"
      },
      {
        "duration": 16,
        "start_time": "2023-07-24T08:58:46.417Z"
      },
      {
        "duration": 27,
        "start_time": "2023-07-24T08:58:46.435Z"
      },
      {
        "duration": 22,
        "start_time": "2023-07-24T08:58:46.464Z"
      },
      {
        "duration": 834,
        "start_time": "2023-07-24T08:58:46.487Z"
      },
      {
        "duration": 21,
        "start_time": "2023-07-24T08:58:47.322Z"
      },
      {
        "duration": 43,
        "start_time": "2023-07-24T08:58:47.345Z"
      },
      {
        "duration": 30,
        "start_time": "2023-07-24T08:58:47.390Z"
      },
      {
        "duration": 171,
        "start_time": "2023-07-24T08:58:47.422Z"
      },
      {
        "duration": 25920,
        "start_time": "2023-07-24T08:58:47.595Z"
      },
      {
        "duration": 25301,
        "start_time": "2023-07-24T08:59:13.517Z"
      },
      {
        "duration": 346776,
        "start_time": "2023-07-24T08:59:38.820Z"
      },
      {
        "duration": 9,
        "start_time": "2023-07-24T09:05:25.597Z"
      },
      {
        "duration": 195,
        "start_time": "2023-07-24T09:05:25.607Z"
      },
      {
        "duration": 5,
        "start_time": "2023-07-24T09:05:25.806Z"
      },
      {
        "duration": 12505,
        "start_time": "2023-07-24T09:05:25.812Z"
      },
      {
        "duration": 5315,
        "start_time": "2023-07-24T09:05:38.319Z"
      },
      {
        "duration": 108955,
        "start_time": "2023-07-24T09:05:43.636Z"
      },
      {
        "duration": 25619,
        "start_time": "2023-07-24T09:07:32.594Z"
      },
      {
        "duration": 17180,
        "start_time": "2023-07-24T09:07:58.215Z"
      },
      {
        "duration": 690965,
        "start_time": "2023-07-24T09:08:15.397Z"
      },
      {
        "duration": 178,
        "start_time": "2023-07-24T09:19:46.363Z"
      },
      {
        "duration": 2714,
        "start_time": "2023-07-24T09:19:46.547Z"
      },
      {
        "duration": 124,
        "start_time": "2023-07-24T09:19:49.262Z"
      },
      {
        "duration": 5,
        "start_time": "2023-07-24T09:19:49.388Z"
      },
      {
        "duration": 1789,
        "start_time": "2023-07-24T11:21:33.482Z"
      },
      {
        "duration": 103,
        "start_time": "2023-07-24T11:21:39.418Z"
      },
      {
        "duration": 20,
        "start_time": "2023-07-24T11:21:39.860Z"
      },
      {
        "duration": 15,
        "start_time": "2023-07-24T11:21:40.319Z"
      },
      {
        "duration": 10,
        "start_time": "2023-07-24T11:21:42.044Z"
      },
      {
        "duration": 8,
        "start_time": "2023-07-24T11:21:42.867Z"
      },
      {
        "duration": 7,
        "start_time": "2023-07-24T11:21:43.720Z"
      },
      {
        "duration": 12,
        "start_time": "2023-07-24T11:21:46.166Z"
      },
      {
        "duration": 5,
        "start_time": "2023-07-24T11:21:47.540Z"
      },
      {
        "duration": 9,
        "start_time": "2023-07-24T11:21:48.542Z"
      },
      {
        "duration": 6,
        "start_time": "2023-07-24T11:21:49.097Z"
      },
      {
        "duration": 10278,
        "start_time": "2023-07-24T11:22:46.525Z"
      },
      {
        "duration": 6,
        "start_time": "2023-07-24T11:23:06.888Z"
      },
      {
        "duration": 4,
        "start_time": "2023-07-24T11:23:08.564Z"
      },
      {
        "duration": 4,
        "start_time": "2023-07-24T11:23:27.146Z"
      },
      {
        "duration": 7,
        "start_time": "2023-07-24T11:23:29.932Z"
      },
      {
        "duration": 133,
        "start_time": "2023-07-24T11:23:30.613Z"
      },
      {
        "duration": 91,
        "start_time": "2023-07-24T11:23:41.727Z"
      },
      {
        "duration": 4,
        "start_time": "2023-07-24T11:24:05.150Z"
      },
      {
        "duration": 6,
        "start_time": "2023-07-24T11:24:05.923Z"
      },
      {
        "duration": 789,
        "start_time": "2023-07-24T11:24:06.665Z"
      },
      {
        "duration": 25,
        "start_time": "2023-07-24T11:25:15.765Z"
      },
      {
        "duration": 34,
        "start_time": "2023-07-24T11:25:16.904Z"
      },
      {
        "duration": 24,
        "start_time": "2023-07-24T11:25:18.598Z"
      },
      {
        "duration": 176,
        "start_time": "2023-07-24T11:25:25.305Z"
      },
      {
        "duration": 17,
        "start_time": "2023-07-24T11:47:17.162Z"
      },
      {
        "duration": 13,
        "start_time": "2023-07-24T11:47:41.614Z"
      },
      {
        "duration": 4138,
        "start_time": "2023-07-24T11:49:50.012Z"
      },
      {
        "duration": 18,
        "start_time": "2023-07-24T11:49:56.407Z"
      },
      {
        "duration": 6951,
        "start_time": "2023-07-24T11:50:11.425Z"
      },
      {
        "duration": 18,
        "start_time": "2023-07-24T11:50:23.356Z"
      },
      {
        "duration": 1457,
        "start_time": "2023-07-24T11:50:39.385Z"
      },
      {
        "duration": 43,
        "start_time": "2023-07-24T11:50:40.844Z"
      },
      {
        "duration": 28,
        "start_time": "2023-07-24T11:50:40.889Z"
      },
      {
        "duration": 22,
        "start_time": "2023-07-24T11:50:40.920Z"
      },
      {
        "duration": 11,
        "start_time": "2023-07-24T11:50:40.944Z"
      },
      {
        "duration": 7,
        "start_time": "2023-07-24T11:50:40.958Z"
      },
      {
        "duration": 19,
        "start_time": "2023-07-24T11:50:40.968Z"
      },
      {
        "duration": 36,
        "start_time": "2023-07-24T11:50:40.990Z"
      },
      {
        "duration": 5,
        "start_time": "2023-07-24T11:50:41.028Z"
      },
      {
        "duration": 21,
        "start_time": "2023-07-24T11:50:41.035Z"
      },
      {
        "duration": 7,
        "start_time": "2023-07-24T11:50:41.058Z"
      },
      {
        "duration": 7,
        "start_time": "2023-07-24T11:50:41.068Z"
      },
      {
        "duration": 49,
        "start_time": "2023-07-24T11:50:41.077Z"
      },
      {
        "duration": 280,
        "start_time": "2023-07-24T11:50:41.128Z"
      },
      {
        "duration": 0,
        "start_time": "2023-07-24T11:50:41.411Z"
      },
      {
        "duration": 0,
        "start_time": "2023-07-24T11:50:41.413Z"
      },
      {
        "duration": 0,
        "start_time": "2023-07-24T11:50:41.415Z"
      },
      {
        "duration": 0,
        "start_time": "2023-07-24T11:50:41.417Z"
      },
      {
        "duration": 0,
        "start_time": "2023-07-24T11:50:41.419Z"
      },
      {
        "duration": 0,
        "start_time": "2023-07-24T11:50:41.420Z"
      },
      {
        "duration": 0,
        "start_time": "2023-07-24T11:50:41.422Z"
      },
      {
        "duration": 0,
        "start_time": "2023-07-24T11:50:41.424Z"
      },
      {
        "duration": 0,
        "start_time": "2023-07-24T11:50:41.425Z"
      },
      {
        "duration": 0,
        "start_time": "2023-07-24T11:50:41.427Z"
      },
      {
        "duration": 0,
        "start_time": "2023-07-24T11:50:41.430Z"
      },
      {
        "duration": 0,
        "start_time": "2023-07-24T11:50:41.432Z"
      },
      {
        "duration": 0,
        "start_time": "2023-07-24T11:50:41.433Z"
      },
      {
        "duration": 0,
        "start_time": "2023-07-24T11:50:41.435Z"
      },
      {
        "duration": 0,
        "start_time": "2023-07-24T11:50:41.437Z"
      },
      {
        "duration": 0,
        "start_time": "2023-07-24T11:50:41.439Z"
      },
      {
        "duration": 0,
        "start_time": "2023-07-24T11:50:41.440Z"
      },
      {
        "duration": 0,
        "start_time": "2023-07-24T11:50:41.442Z"
      },
      {
        "duration": 0,
        "start_time": "2023-07-24T11:50:41.444Z"
      },
      {
        "duration": 1,
        "start_time": "2023-07-24T11:50:41.445Z"
      },
      {
        "duration": 0,
        "start_time": "2023-07-24T11:50:41.447Z"
      },
      {
        "duration": 4,
        "start_time": "2023-07-24T11:51:08.070Z"
      },
      {
        "duration": 9,
        "start_time": "2023-07-24T11:51:08.761Z"
      },
      {
        "duration": 854,
        "start_time": "2023-07-24T11:51:09.385Z"
      },
      {
        "duration": 18,
        "start_time": "2023-07-24T11:51:26.712Z"
      },
      {
        "duration": 6,
        "start_time": "2023-07-24T11:51:38.732Z"
      },
      {
        "duration": 42,
        "start_time": "2023-07-24T11:51:40.290Z"
      },
      {
        "duration": 15,
        "start_time": "2023-07-24T11:51:40.660Z"
      },
      {
        "duration": 14,
        "start_time": "2023-07-24T11:51:41.055Z"
      },
      {
        "duration": 9,
        "start_time": "2023-07-24T11:51:42.543Z"
      },
      {
        "duration": 5,
        "start_time": "2023-07-24T11:51:43.271Z"
      },
      {
        "duration": 9,
        "start_time": "2023-07-24T11:51:43.989Z"
      },
      {
        "duration": 16,
        "start_time": "2023-07-24T11:51:44.731Z"
      },
      {
        "duration": 5,
        "start_time": "2023-07-24T11:51:46.282Z"
      },
      {
        "duration": 11,
        "start_time": "2023-07-24T11:51:47.339Z"
      },
      {
        "duration": 7,
        "start_time": "2023-07-24T11:51:47.843Z"
      },
      {
        "duration": 5,
        "start_time": "2023-07-24T11:51:49.355Z"
      },
      {
        "duration": 8,
        "start_time": "2023-07-24T11:51:51.612Z"
      },
      {
        "duration": 797,
        "start_time": "2023-07-24T11:51:53.148Z"
      },
      {
        "duration": 17,
        "start_time": "2023-07-24T11:52:08.915Z"
      },
      {
        "duration": 5,
        "start_time": "2023-07-24T11:52:15.247Z"
      },
      {
        "duration": 43,
        "start_time": "2023-07-24T11:52:16.787Z"
      },
      {
        "duration": 15,
        "start_time": "2023-07-24T11:52:17.201Z"
      },
      {
        "duration": 18,
        "start_time": "2023-07-24T11:52:17.599Z"
      },
      {
        "duration": 12,
        "start_time": "2023-07-24T11:52:19.489Z"
      },
      {
        "duration": 6,
        "start_time": "2023-07-24T11:52:20.436Z"
      },
      {
        "duration": 11,
        "start_time": "2023-07-24T11:52:21.236Z"
      },
      {
        "duration": 15,
        "start_time": "2023-07-24T11:52:22.093Z"
      },
      {
        "duration": 5,
        "start_time": "2023-07-24T11:52:23.443Z"
      },
      {
        "duration": 11,
        "start_time": "2023-07-24T11:52:24.347Z"
      },
      {
        "duration": 5,
        "start_time": "2023-07-24T11:52:24.839Z"
      },
      {
        "duration": 4,
        "start_time": "2023-07-24T11:52:26.292Z"
      },
      {
        "duration": 6,
        "start_time": "2023-07-24T11:52:26.931Z"
      },
      {
        "duration": 786,
        "start_time": "2023-07-24T11:52:27.873Z"
      },
      {
        "duration": 25,
        "start_time": "2023-07-24T11:53:17.843Z"
      },
      {
        "duration": 35,
        "start_time": "2023-07-24T11:53:19.563Z"
      },
      {
        "duration": 26,
        "start_time": "2023-07-24T11:53:21.254Z"
      },
      {
        "duration": 186,
        "start_time": "2023-07-24T11:53:25.276Z"
      },
      {
        "duration": 22,
        "start_time": "2023-07-24T11:54:01.463Z"
      },
      {
        "duration": 36462,
        "start_time": "2023-07-24T11:54:25.238Z"
      },
      {
        "duration": 5,
        "start_time": "2023-07-24T11:55:55.193Z"
      },
      {
        "duration": 16,
        "start_time": "2023-07-24T11:56:26.935Z"
      },
      {
        "duration": 12,
        "start_time": "2023-07-24T11:57:00.963Z"
      },
      {
        "duration": 37710,
        "start_time": "2023-07-24T11:57:10.443Z"
      },
      {
        "duration": 6,
        "start_time": "2023-07-24T11:58:19.352Z"
      },
      {
        "duration": 6,
        "start_time": "2023-07-24T11:59:45.571Z"
      },
      {
        "duration": 23,
        "start_time": "2023-07-24T11:59:48.302Z"
      },
      {
        "duration": 11,
        "start_time": "2023-07-24T11:59:50.839Z"
      },
      {
        "duration": 7,
        "start_time": "2023-07-24T12:00:18.286Z"
      },
      {
        "duration": 10,
        "start_time": "2023-07-24T12:00:38.382Z"
      },
      {
        "duration": 5,
        "start_time": "2023-07-24T12:02:46.343Z"
      },
      {
        "duration": 6,
        "start_time": "2023-07-24T12:03:37.065Z"
      },
      {
        "duration": 5,
        "start_time": "2023-07-24T12:03:45.194Z"
      },
      {
        "duration": 6,
        "start_time": "2023-07-24T12:03:54.939Z"
      },
      {
        "duration": 159,
        "start_time": "2023-07-24T12:05:01.064Z"
      },
      {
        "duration": 317,
        "start_time": "2023-07-24T12:05:23.208Z"
      },
      {
        "duration": 28988,
        "start_time": "2023-07-24T12:06:19.143Z"
      },
      {
        "duration": 4,
        "start_time": "2023-07-24T12:07:01.635Z"
      },
      {
        "duration": 39188,
        "start_time": "2023-07-24T12:07:35.683Z"
      },
      {
        "duration": 532101,
        "start_time": "2023-07-24T12:09:44.190Z"
      },
      {
        "duration": 5,
        "start_time": "2023-07-24T12:18:56.580Z"
      },
      {
        "duration": 208,
        "start_time": "2023-07-24T12:18:57.593Z"
      },
      {
        "duration": 7,
        "start_time": "2023-07-24T12:18:59.094Z"
      },
      {
        "duration": 5,
        "start_time": "2023-07-24T12:19:04.139Z"
      },
      {
        "duration": 17,
        "start_time": "2023-07-24T12:19:07.084Z"
      },
      {
        "duration": 24,
        "start_time": "2023-07-24T12:19:36.555Z"
      },
      {
        "duration": 418,
        "start_time": "2023-07-24T12:19:56.436Z"
      },
      {
        "duration": 423,
        "start_time": "2023-07-24T12:21:27.231Z"
      },
      {
        "duration": 6,
        "start_time": "2023-07-24T12:24:17.652Z"
      },
      {
        "duration": 7,
        "start_time": "2023-07-24T12:24:36.552Z"
      },
      {
        "duration": 13,
        "start_time": "2023-07-24T12:24:52.866Z"
      },
      {
        "duration": 5954,
        "start_time": "2023-07-24T12:25:26.809Z"
      },
      {
        "duration": 213,
        "start_time": "2023-07-24T12:26:03.252Z"
      },
      {
        "duration": 6249,
        "start_time": "2023-07-24T12:26:24.570Z"
      },
      {
        "duration": 391,
        "start_time": "2023-07-24T12:26:45.891Z"
      },
      {
        "duration": 396,
        "start_time": "2023-07-24T12:28:34.467Z"
      },
      {
        "duration": 14,
        "start_time": "2023-07-24T12:32:13.583Z"
      },
      {
        "duration": 61,
        "start_time": "2023-07-24T12:32:36.677Z"
      },
      {
        "duration": 21,
        "start_time": "2023-07-24T12:32:39.131Z"
      },
      {
        "duration": 3,
        "start_time": "2023-07-24T12:33:21.641Z"
      },
      {
        "duration": 112,
        "start_time": "2023-07-24T12:33:22.589Z"
      },
      {
        "duration": 16,
        "start_time": "2023-07-24T12:34:27.732Z"
      },
      {
        "duration": 3,
        "start_time": "2023-07-24T12:34:31.947Z"
      },
      {
        "duration": 29,
        "start_time": "2023-07-24T12:34:32.552Z"
      },
      {
        "duration": 32,
        "start_time": "2023-07-24T12:35:06.528Z"
      },
      {
        "duration": 96,
        "start_time": "2023-07-24T12:36:39.096Z"
      },
      {
        "duration": 4,
        "start_time": "2023-07-24T12:37:40.350Z"
      },
      {
        "duration": 125545,
        "start_time": "2023-07-24T12:37:42.139Z"
      },
      {
        "duration": 125897,
        "start_time": "2023-07-24T12:40:44.755Z"
      },
      {
        "duration": 16,
        "start_time": "2023-07-24T12:43:00.970Z"
      },
      {
        "duration": 52008,
        "start_time": "2023-07-24T12:43:10.547Z"
      },
      {
        "duration": 687572,
        "start_time": "2023-07-24T12:44:44.056Z"
      },
      {
        "duration": 4,
        "start_time": "2023-07-24T12:59:49.337Z"
      },
      {
        "duration": 243,
        "start_time": "2023-07-24T13:00:29.089Z"
      },
      {
        "duration": 160,
        "start_time": "2023-07-24T13:00:40.546Z"
      },
      {
        "duration": 169,
        "start_time": "2023-07-24T13:00:51.139Z"
      },
      {
        "duration": 160,
        "start_time": "2023-07-24T13:00:55.939Z"
      },
      {
        "duration": 35,
        "start_time": "2023-07-24T13:00:59.875Z"
      },
      {
        "duration": 118056,
        "start_time": "2023-07-24T13:01:57.751Z"
      },
      {
        "duration": 1848752,
        "start_time": "2023-07-24T13:03:55.817Z"
      },
      {
        "duration": 31064,
        "start_time": "2023-07-24T13:35:20.127Z"
      },
      {
        "duration": 23974,
        "start_time": "2023-07-24T13:35:51.193Z"
      },
      {
        "duration": 951363,
        "start_time": "2023-07-24T13:36:15.168Z"
      },
      {
        "duration": 3322,
        "start_time": "2023-07-24T13:58:21.223Z"
      },
      {
        "duration": 149,
        "start_time": "2023-07-24T13:58:33.023Z"
      },
      {
        "duration": 7,
        "start_time": "2023-07-24T13:58:36.528Z"
      },
      {
        "duration": 1688,
        "start_time": "2023-07-25T11:05:14.633Z"
      },
      {
        "duration": 93,
        "start_time": "2023-07-25T11:05:16.323Z"
      },
      {
        "duration": 24,
        "start_time": "2023-07-25T11:05:16.418Z"
      },
      {
        "duration": 17,
        "start_time": "2023-07-25T11:05:16.445Z"
      },
      {
        "duration": 10,
        "start_time": "2023-07-25T11:05:16.464Z"
      },
      {
        "duration": 6,
        "start_time": "2023-07-25T11:05:16.476Z"
      },
      {
        "duration": 20,
        "start_time": "2023-07-25T11:05:16.484Z"
      },
      {
        "duration": 29,
        "start_time": "2023-07-25T11:05:16.507Z"
      },
      {
        "duration": 20,
        "start_time": "2023-07-25T11:05:16.538Z"
      },
      {
        "duration": 29,
        "start_time": "2023-07-25T11:05:16.560Z"
      },
      {
        "duration": 8,
        "start_time": "2023-07-25T11:05:16.590Z"
      },
      {
        "duration": 12,
        "start_time": "2023-07-25T11:05:16.599Z"
      },
      {
        "duration": 18,
        "start_time": "2023-07-25T11:05:16.612Z"
      },
      {
        "duration": 137,
        "start_time": "2023-07-25T11:05:16.632Z"
      },
      {
        "duration": 0,
        "start_time": "2023-07-25T11:05:16.774Z"
      },
      {
        "duration": 0,
        "start_time": "2023-07-25T11:05:16.776Z"
      },
      {
        "duration": 0,
        "start_time": "2023-07-25T11:05:16.777Z"
      },
      {
        "duration": 0,
        "start_time": "2023-07-25T11:05:16.779Z"
      },
      {
        "duration": 0,
        "start_time": "2023-07-25T11:05:16.780Z"
      },
      {
        "duration": 0,
        "start_time": "2023-07-25T11:05:16.781Z"
      },
      {
        "duration": 0,
        "start_time": "2023-07-25T11:05:16.782Z"
      },
      {
        "duration": 0,
        "start_time": "2023-07-25T11:05:16.783Z"
      },
      {
        "duration": 0,
        "start_time": "2023-07-25T11:05:16.784Z"
      },
      {
        "duration": 0,
        "start_time": "2023-07-25T11:05:16.785Z"
      },
      {
        "duration": 0,
        "start_time": "2023-07-25T11:05:16.786Z"
      },
      {
        "duration": 0,
        "start_time": "2023-07-25T11:05:16.787Z"
      },
      {
        "duration": 0,
        "start_time": "2023-07-25T11:05:16.788Z"
      },
      {
        "duration": 0,
        "start_time": "2023-07-25T11:05:16.789Z"
      },
      {
        "duration": 0,
        "start_time": "2023-07-25T11:05:16.790Z"
      },
      {
        "duration": 0,
        "start_time": "2023-07-25T11:05:16.792Z"
      },
      {
        "duration": 0,
        "start_time": "2023-07-25T11:05:16.793Z"
      },
      {
        "duration": 6743,
        "start_time": "2023-07-25T11:06:17.676Z"
      },
      {
        "duration": 1163,
        "start_time": "2023-07-25T11:06:24.421Z"
      },
      {
        "duration": 40,
        "start_time": "2023-07-25T11:06:25.585Z"
      },
      {
        "duration": 17,
        "start_time": "2023-07-25T11:06:25.627Z"
      },
      {
        "duration": 20,
        "start_time": "2023-07-25T11:06:25.645Z"
      },
      {
        "duration": 12,
        "start_time": "2023-07-25T11:06:25.667Z"
      },
      {
        "duration": 10,
        "start_time": "2023-07-25T11:06:25.680Z"
      },
      {
        "duration": 24,
        "start_time": "2023-07-25T11:06:25.692Z"
      },
      {
        "duration": 28,
        "start_time": "2023-07-25T11:06:25.717Z"
      },
      {
        "duration": 11,
        "start_time": "2023-07-25T11:06:25.748Z"
      },
      {
        "duration": 22,
        "start_time": "2023-07-25T11:06:25.761Z"
      },
      {
        "duration": 4,
        "start_time": "2023-07-25T11:06:25.785Z"
      },
      {
        "duration": 13,
        "start_time": "2023-07-25T11:06:25.791Z"
      },
      {
        "duration": 22,
        "start_time": "2023-07-25T11:06:25.805Z"
      },
      {
        "duration": 112,
        "start_time": "2023-07-25T11:06:25.828Z"
      },
      {
        "duration": 0,
        "start_time": "2023-07-25T11:06:25.941Z"
      },
      {
        "duration": 0,
        "start_time": "2023-07-25T11:06:25.943Z"
      },
      {
        "duration": 0,
        "start_time": "2023-07-25T11:06:25.944Z"
      },
      {
        "duration": 0,
        "start_time": "2023-07-25T11:06:25.945Z"
      },
      {
        "duration": 0,
        "start_time": "2023-07-25T11:06:25.946Z"
      },
      {
        "duration": 0,
        "start_time": "2023-07-25T11:06:25.947Z"
      },
      {
        "duration": 0,
        "start_time": "2023-07-25T11:06:25.949Z"
      },
      {
        "duration": 0,
        "start_time": "2023-07-25T11:06:25.950Z"
      },
      {
        "duration": 0,
        "start_time": "2023-07-25T11:06:25.951Z"
      },
      {
        "duration": 0,
        "start_time": "2023-07-25T11:06:25.952Z"
      },
      {
        "duration": 1,
        "start_time": "2023-07-25T11:06:25.953Z"
      },
      {
        "duration": 0,
        "start_time": "2023-07-25T11:06:25.955Z"
      },
      {
        "duration": 0,
        "start_time": "2023-07-25T11:06:25.974Z"
      },
      {
        "duration": 0,
        "start_time": "2023-07-25T11:06:25.976Z"
      },
      {
        "duration": 0,
        "start_time": "2023-07-25T11:06:25.976Z"
      },
      {
        "duration": 0,
        "start_time": "2023-07-25T11:06:25.977Z"
      },
      {
        "duration": 0,
        "start_time": "2023-07-25T11:06:25.979Z"
      },
      {
        "duration": 6836,
        "start_time": "2023-07-25T12:12:25.456Z"
      },
      {
        "duration": 1456,
        "start_time": "2023-07-25T12:12:32.294Z"
      },
      {
        "duration": 82,
        "start_time": "2023-07-25T12:12:33.752Z"
      },
      {
        "duration": 17,
        "start_time": "2023-07-25T12:12:33.836Z"
      },
      {
        "duration": 25,
        "start_time": "2023-07-25T12:12:33.855Z"
      },
      {
        "duration": 19,
        "start_time": "2023-07-25T12:12:33.881Z"
      },
      {
        "duration": 17,
        "start_time": "2023-07-25T12:12:33.902Z"
      },
      {
        "duration": 14,
        "start_time": "2023-07-25T12:12:33.921Z"
      },
      {
        "duration": 12,
        "start_time": "2023-07-25T12:12:33.936Z"
      },
      {
        "duration": 4,
        "start_time": "2023-07-25T12:12:33.951Z"
      },
      {
        "duration": 23,
        "start_time": "2023-07-25T12:12:33.957Z"
      },
      {
        "duration": 792,
        "start_time": "2023-07-25T12:12:33.982Z"
      },
      {
        "duration": 6,
        "start_time": "2023-07-25T12:12:39.230Z"
      },
      {
        "duration": 185,
        "start_time": "2023-07-25T12:12:44.521Z"
      },
      {
        "duration": 4,
        "start_time": "2023-07-25T12:12:55.400Z"
      },
      {
        "duration": 5,
        "start_time": "2023-07-25T12:12:56.145Z"
      },
      {
        "duration": 683,
        "start_time": "2023-07-25T12:12:56.880Z"
      },
      {
        "duration": 22,
        "start_time": "2023-07-25T12:13:05.205Z"
      },
      {
        "duration": 38,
        "start_time": "2023-07-25T12:13:11.431Z"
      },
      {
        "duration": 28,
        "start_time": "2023-07-25T12:13:11.471Z"
      },
      {
        "duration": 209,
        "start_time": "2023-07-25T12:13:11.501Z"
      },
      {
        "duration": 28478,
        "start_time": "2023-07-25T12:13:11.713Z"
      },
      {
        "duration": 31484,
        "start_time": "2023-07-25T12:13:40.193Z"
      },
      {
        "duration": 410780,
        "start_time": "2023-07-25T12:14:11.678Z"
      },
      {
        "duration": 9,
        "start_time": "2023-07-25T12:21:02.460Z"
      },
      {
        "duration": 0,
        "start_time": "2023-07-25T12:21:02.470Z"
      },
      {
        "duration": 0,
        "start_time": "2023-07-25T12:21:02.471Z"
      },
      {
        "duration": 0,
        "start_time": "2023-07-25T12:21:02.472Z"
      },
      {
        "duration": 0,
        "start_time": "2023-07-25T12:21:02.473Z"
      },
      {
        "duration": 0,
        "start_time": "2023-07-25T12:21:02.474Z"
      },
      {
        "duration": 0,
        "start_time": "2023-07-25T12:21:02.475Z"
      },
      {
        "duration": 0,
        "start_time": "2023-07-25T12:21:02.476Z"
      },
      {
        "duration": 0,
        "start_time": "2023-07-25T12:21:02.477Z"
      },
      {
        "duration": 0,
        "start_time": "2023-07-25T12:21:02.478Z"
      }
    ],
    "kernelspec": {
      "display_name": "Python 3 (ipykernel)",
      "language": "python",
      "name": "python3"
    },
    "language_info": {
      "codemirror_mode": {
        "name": "ipython",
        "version": 3
      },
      "file_extension": ".py",
      "mimetype": "text/x-python",
      "name": "python",
      "nbconvert_exporter": "python",
      "pygments_lexer": "ipython3",
      "version": "3.9.5"
    },
    "toc": {
      "base_numbering": 1,
      "nav_menu": {},
      "number_sections": true,
      "sideBar": true,
      "skip_h1_title": true,
      "title_cell": "Содержание",
      "title_sidebar": "Contents",
      "toc_cell": true,
      "toc_position": {},
      "toc_section_display": true,
      "toc_window_display": false
    },
    "colab": {
      "provenance": []
    }
  },
  "nbformat": 4,
  "nbformat_minor": 0
}